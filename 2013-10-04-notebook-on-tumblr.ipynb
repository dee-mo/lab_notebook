{
 "metadata": {
  "name": ""
 },
 "nbformat": 3,
 "nbformat_minor": 0,
 "worksheets": [
  {
   "cells": [
    {
     "cell_type": "markdown",
     "metadata": {},
     "source": [
      "Today I did my first posting of an ipython notebook on tumblr.  Previously, I had shared results by either using nbviewer or hosting an html render of the notebook at my personal site.  \n",
      "\n",
      "Lacking time for elegance and unable to find good examples quickly, I did the following\n",
      "\n",
      "- used ipython nbconvert --to html post.ipynb to create the html file\n",
      "- manually removed the strange [] title from the html\n",
      "- manually placed a ccby footer in the html\n",
      "- cut and pasted the html content into the tumblr editing window for a text post\n",
      "- cut and pasted the CDN mathjax link into my tumblr header\n",
      "\n",
      "This is fragile.  If I try any editing in the tumblr editor, the embedded graphics won't display.  Also, the result looks a little strange because of the tumblr theme I'm using right now.  Sometime later I'll try to fix that."
     ]
    },
    {
     "cell_type": "code",
     "collapsed": false,
     "input": [],
     "language": "python",
     "metadata": {},
     "outputs": []
    }
   ],
   "metadata": {}
  }
 ]
}