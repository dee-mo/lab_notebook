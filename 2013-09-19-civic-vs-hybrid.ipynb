{
 "metadata": {
  "name": ""
 },
 "nbformat": 3,
 "nbformat_minor": 0,
 "worksheets": [
  {
   "cells": [
    {
     "cell_type": "markdown",
     "metadata": {},
     "source": [
      "# Per Mile cost for Honda Civic and Honda Civic Hybrid\n",
      "\n",
      "The 2013 Honda Civic Sedan is $18,165 starting price and has a 28 city 39 highway mileage rating. \n",
      "\n",
      "The 2013 Honda Hybrid Civic Sedan has a $24360 starting price and 44 city and 44 highway milage rating.\n",
      "\n",
      "We can slide a scale from 100% city driving to 100% highway driving.  We calculate the monthly cost over identical finance periods and interest rates and then add the cost of gasoline for each month.  We should find the monthly milage for which the two cars are equal in monthly cost."
     ]
    },
    {
     "cell_type": "code",
     "collapsed": false,
     "input": [
      "%pylab inline\n",
      "import numpy as np\n",
      "\n",
      "def monthly_finance(principal, apr, term):\n",
      "    return -np.pmt(apr/12, term, principal)"
     ],
     "language": "python",
     "metadata": {},
     "outputs": [
      {
       "output_type": "stream",
       "stream": "stdout",
       "text": [
        "\n",
        "Welcome to pylab, a matplotlib-based Python environment [backend: module://IPython.zmq.pylab.backend_inline].\n",
        "For more information, type 'help(pylab)'.\n"
       ]
      }
     ],
     "prompt_number": 1
    },
    {
     "cell_type": "code",
     "collapsed": false,
     "input": [
      "hybrid = {}\n",
      "civic = {}\n",
      "hybrid['monthly'] = monthly_finance(24369, 0.02, 60)\n",
      "civic['monthly'] = monthly_finance(18165, 0.02, 60)"
     ],
     "language": "python",
     "metadata": {},
     "outputs": [],
     "prompt_number": 2
    },
    {
     "cell_type": "code",
     "collapsed": false,
     "input": [
      "def total(car, miles, milage):\n",
      "    car['total'] = car['monthly'] + miles / milage * 4"
     ],
     "language": "python",
     "metadata": {},
     "outputs": [],
     "prompt_number": 3
    },
    {
     "cell_type": "code",
     "collapsed": false,
     "input": [
      "miles = np.linspace(0., 5000., 10)\n",
      "total(hybrid, miles, 44.)\n",
      "total(civic, miles, 28.)"
     ],
     "language": "python",
     "metadata": {},
     "outputs": [],
     "prompt_number": 4
    },
    {
     "cell_type": "code",
     "collapsed": false,
     "input": [
      "plot(miles, civic['total'], label='Gasoline')\n",
      "plot(miles, hybrid['total'], label='Hybrid')\n",
      "xlabel('Monthly Miles')\n",
      "ylabel('Monthly Cost');ylim((0, 1000))\n",
      "title('Monthly Cost and Miles Driven')\n",
      "legend(loc='best')\n",
      "grid()\n",
      "show()"
     ],
     "language": "python",
     "metadata": {},
     "outputs": [
      {
       "output_type": "display_data",
       "png": "[encoded data removed]"
      }
     ],
     "prompt_number": 8
    },
    {
     "cell_type": "code",
     "collapsed": false,
     "input": [
      "2000/30."
     ],
     "language": "python",
     "metadata": {},
     "outputs": [
      {
       "output_type": "pyout",
       "prompt_number": 6,
       "text": [
        "66.66666666666667"
       ]
      }
     ],
     "prompt_number": 6
    },
    {
     "cell_type": "markdown",
     "metadata": {},
     "source": [
      "You need to drive hundreds of pure highway miles to break even.  If you are all city miles, the breakeven is much better, at about 70 miles per day.  \n",
      "\n",
      "Future work is to find how the crossover point is affected by gas price, finance rate, and percentage of highway vs city driving."
     ]
    },
    {
     "cell_type": "code",
     "collapsed": false,
     "input": [],
     "language": "python",
     "metadata": {},
     "outputs": [],
     "prompt_number": 6
    }
   ],
   "metadata": {}
  }
 ]
}