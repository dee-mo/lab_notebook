{
 "metadata": {
  "name": "2013-12-11-four-year-plan"
 },
 "nbformat": 3,
 "nbformat_minor": 0,
 "worksheets": [
  {
   "cells": [
    {
     "cell_type": "markdown",
     "metadata": {},
     "source": [
      "# Four year plans\n",
      "\n",
      "Departments are expected to produce sample four-year plans for the course catalog.  Constructing this text manually seemed error prone so I create the class in a CSV file with columns for year, semester, area, and units.  This CSV is then parsed using pandas to group over year and semester, totaling units and outputting formatted text suitable for the folks at the catalog.  One benefit of this approach is that the CSV file does not have to be in chronological order.  This is useful for being sure requirements are met by grouping like classes (GE, major, etc)."
     ]
    },
    {
     "cell_type": "code",
     "collapsed": false,
     "input": [
      "!head '/Users/dsoto/Dropbox/EMD/four-year-plans/four-year-emd-plan-BS.csv'"
     ],
     "language": "python",
     "metadata": {},
     "outputs": [
      {
       "output_type": "stream",
       "stream": "stdout",
       "text": [
        "Year,Sem,Class,Units,Area\r\n",
        "1,1,CHEM 115A,5,Support\r\n",
        "1,2,CHEM 115B,5,Support\r\n",
        "1,2,MATH 161,4,Support\r\n",
        "2,1,MATH 211S,2,Support\r\n",
        "4,1,MATH 165,4,Support\r\n",
        "2,1,PHYS 114,4,Support\r\n",
        "2,2,PHYS 214,4,Support\r\n",
        "3,1,ENSP 201,1,Major\r\n",
        "3,1,ENSP 330,4,Major\r\n"
       ]
      }
     ],
     "prompt_number": 1
    },
    {
     "cell_type": "code",
     "collapsed": false,
     "input": [
      "import pandas as pd\n",
      "\n",
      "def create_df(fin):\n",
      "    return pd.DataFrame.from_csv(fin, index_col=None)\n",
      "\n",
      "# lots of white space added to accomodate pandoc\n",
      "def output_schedule(fin, fout):\n",
      "    classes = create_df(fin)\n",
      "    yeardict = {1:'FRESHMAN', 2:'SOPHOMORE', 3:'JUNIOR', 4:'SENIOR'}\n",
      "    semesterdict = {1:'Fall',2:'Spring'}\n",
      "    with open(fout, 'w') as output:\n",
      "        output.write(fout[41:52])\n",
      "        output.write('\\n\\n')\n",
      "        for year, ygroup in classes.groupby(['Year']):\n",
      "            output.write('{} YEAR: {} Units\\n\\n'.format(yeardict[year], ygroup['Units'].sum()))\n",
      "            output.write('\\n')\n",
      "            for sem, sgroup in ygroup.groupby(['Sem']):\n",
      "                output.write('{} Semester ({} Units)\\n\\n'.format(semesterdict[sem], sgroup['Units'].sum()))\n",
      "                for row in sgroup.iterrows():\n",
      "                    class_info = row[1]\n",
      "                    output.write('{} ({})\\n\\n'.format(class_info['Class'], class_info['Units']))\n",
      "                output.write('\\n\\n')\n",
      "        output.write('Total Units: {}\\n'.format(classes['Units'].sum()))"
     ],
     "language": "python",
     "metadata": {},
     "outputs": [],
     "prompt_number": 37
    },
    {
     "cell_type": "code",
     "collapsed": false,
     "input": [
      "fin = '/Users/dsoto/Dropbox/EMD/four-year-plans/four-year-emd-plan-BA.csv'\n",
      "fout = '/Users/dsoto/Dropbox/EMD/four-year-plans/ENSP-EMD-BA.txt'\n",
      "output_schedule(fin, fout)"
     ],
     "language": "python",
     "metadata": {},
     "outputs": [],
     "prompt_number": 38
    },
    {
     "cell_type": "code",
     "collapsed": false,
     "input": [
      "fin = '/Users/dsoto/Dropbox/EMD/four-year-plans/four-year-emd-plan-BS.csv'\n",
      "fout = '/Users/dsoto/Dropbox/EMD/four-year-plans/ENSP-EMD-BS.txt'\n",
      "output_schedule(fin, fout)"
     ],
     "language": "python",
     "metadata": {},
     "outputs": [],
     "prompt_number": 39
    },
    {
     "cell_type": "code",
     "collapsed": false,
     "input": [
      "!pandoc -o /Users/dsoto/Dropbox/EMD/four-year-plans/ENSP-EMD-BS.docx /Users/dsoto/Dropbox/EMD/four-year-plans/ENSP-EMD-BS.txt\n",
      "!pandoc -o /Users/dsoto/Dropbox/EMD/four-year-plans/ENSP-EMD-BA.docx /Users/dsoto/Dropbox/EMD/four-year-plans/ENSP-EMD-BA.txt"
     ],
     "language": "python",
     "metadata": {},
     "outputs": [],
     "prompt_number": 40
    },
    {
     "cell_type": "markdown",
     "metadata": {},
     "source": [
      "## Introspection\n",
      "\n",
      "I can also use the group by to get sums of units according to different areas as well as perform a pivot on the data."
     ]
    },
    {
     "cell_type": "code",
     "collapsed": false,
     "input": [
      "classes = create_df('/Users/dsoto/Dropbox/EMD/four-year-plans/four-year-emd-plan-BA.csv')\n",
      "classes.groupby(['Year','Sem']).sum()['Units']"
     ],
     "language": "python",
     "metadata": {},
     "outputs": [
      {
       "metadata": {},
       "output_type": "pyout",
       "prompt_number": 5,
       "text": [
        "Year  Sem\n",
        "1     1      15\n",
        "      2      15\n",
        "2     1      15\n",
        "      2      15\n",
        "3     1      16\n",
        "      2      16\n",
        "4     1      15\n",
        "      2      13\n",
        "Name: Units, dtype: int64"
       ]
      }
     ],
     "prompt_number": 5
    },
    {
     "cell_type": "code",
     "collapsed": false,
     "input": [
      "classes.groupby('Area').sum()['Units']"
     ],
     "language": "python",
     "metadata": {},
     "outputs": [
      {
       "metadata": {},
       "output_type": "pyout",
       "prompt_number": 6,
       "text": [
        "Area\n",
        "Elective    13\n",
        "GE          47\n",
        "Major       44\n",
        "Support     16\n",
        "Name: Units, dtype: int64"
       ]
      }
     ],
     "prompt_number": 6
    },
    {
     "cell_type": "code",
     "collapsed": false,
     "input": [
      "classes['Units'].sum()"
     ],
     "language": "python",
     "metadata": {},
     "outputs": [
      {
       "metadata": {},
       "output_type": "pyout",
       "prompt_number": 7,
       "text": [
        "120"
       ]
      }
     ],
     "prompt_number": 7
    },
    {
     "cell_type": "code",
     "collapsed": false,
     "input": [
      "import numpy as np\n",
      "pd.pivot_table(classes, rows=['Year', 'Sem'], cols='Area', values='Units', aggfunc=np.sum)"
     ],
     "language": "python",
     "metadata": {},
     "outputs": [
      {
       "html": [
        "<div style=\"max-height:1000px;max-width:1500px;overflow:auto;\">\n",
        "<table border=\"1\" class=\"dataframe\">\n",
        "  <thead>\n",
        "    <tr style=\"text-align: right;\">\n",
        "      <th></th>\n",
        "      <th>Area</th>\n",
        "      <th>Elective</th>\n",
        "      <th>GE</th>\n",
        "      <th>Major</th>\n",
        "      <th>Support</th>\n",
        "    </tr>\n",
        "    <tr>\n",
        "      <th>Year</th>\n",
        "      <th>Sem</th>\n",
        "      <th></th>\n",
        "      <th></th>\n",
        "      <th></th>\n",
        "      <th></th>\n",
        "    </tr>\n",
        "  </thead>\n",
        "  <tbody>\n",
        "    <tr>\n",
        "      <th rowspan=\"2\" valign=\"top\">1</th>\n",
        "      <th>1</th>\n",
        "      <td>NaN</td>\n",
        "      <td>  6</td>\n",
        "      <td>NaN</td>\n",
        "      <td>  9</td>\n",
        "    </tr>\n",
        "    <tr>\n",
        "      <th>2</th>\n",
        "      <td>NaN</td>\n",
        "      <td> 15</td>\n",
        "      <td>NaN</td>\n",
        "      <td>NaN</td>\n",
        "    </tr>\n",
        "    <tr>\n",
        "      <th rowspan=\"2\" valign=\"top\">2</th>\n",
        "      <th>1</th>\n",
        "      <td>NaN</td>\n",
        "      <td> 11</td>\n",
        "      <td>NaN</td>\n",
        "      <td>  4</td>\n",
        "    </tr>\n",
        "    <tr>\n",
        "      <th>2</th>\n",
        "      <td>NaN</td>\n",
        "      <td>  9</td>\n",
        "      <td>  3</td>\n",
        "      <td>  3</td>\n",
        "    </tr>\n",
        "    <tr>\n",
        "      <th rowspan=\"2\" valign=\"top\">3</th>\n",
        "      <th>1</th>\n",
        "      <td>NaN</td>\n",
        "      <td>  3</td>\n",
        "      <td> 13</td>\n",
        "      <td>NaN</td>\n",
        "    </tr>\n",
        "    <tr>\n",
        "      <th>2</th>\n",
        "      <td>  3</td>\n",
        "      <td>  3</td>\n",
        "      <td> 10</td>\n",
        "      <td>NaN</td>\n",
        "    </tr>\n",
        "    <tr>\n",
        "      <th rowspan=\"2\" valign=\"top\">4</th>\n",
        "      <th>1</th>\n",
        "      <td>  3</td>\n",
        "      <td>NaN</td>\n",
        "      <td> 12</td>\n",
        "      <td>NaN</td>\n",
        "    </tr>\n",
        "    <tr>\n",
        "      <th>2</th>\n",
        "      <td>  7</td>\n",
        "      <td>NaN</td>\n",
        "      <td>  6</td>\n",
        "      <td>NaN</td>\n",
        "    </tr>\n",
        "  </tbody>\n",
        "</table>\n",
        "</div>"
       ],
       "metadata": {},
       "output_type": "pyout",
       "prompt_number": 8,
       "text": [
        "Area      Elective  GE  Major  Support\n",
        "Year Sem                              \n",
        "1    1         NaN   6    NaN        9\n",
        "     2         NaN  15    NaN      NaN\n",
        "2    1         NaN  11    NaN        4\n",
        "     2         NaN   9      3        3\n",
        "3    1         NaN   3     13      NaN\n",
        "     2           3   3     10      NaN\n",
        "4    1           3 NaN     12      NaN\n",
        "     2           7 NaN      6      NaN"
       ]
      }
     ],
     "prompt_number": 8
    },
    {
     "cell_type": "code",
     "collapsed": false,
     "input": [],
     "language": "python",
     "metadata": {},
     "outputs": [],
     "prompt_number": 8
    }
   ],
   "metadata": {}
  }
 ]
}