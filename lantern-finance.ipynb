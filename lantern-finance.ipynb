{
 "metadata": {
  "name": ""
 },
 "nbformat": 3,
 "nbformat_minor": 0,
 "worksheets": [
  {
   "cells": [
    {
     "cell_type": "markdown",
     "metadata": {},
     "source": [
      "# Internal rate of return for a solar lantern\n",
      "\n",
      "This notebook calculates the IRR for a hypothetical solar lantern from the initial purchase price of the lantern and the avoided cost of keronsene that the lantern offsets."
     ]
    },
    {
     "cell_type": "markdown",
     "metadata": {},
     "source": [
      "A solar lantern is a tiny solar power plant with battery storage for nighttime lighting applications.  The useful life of the product is set by the battery lifetime at what is likely 3-5 years.  Over these 3-5 year lifetimes, almost all solar lanterns have a positive net present value.  However, most consumers cannot afford to pay for these lanterns upfront and need financing.  \n",
      "\n",
      "In these markets, it may not be practical to get loans as long as 3-5 years.  Customers will not make the decision based on a net present value calculation but more likely on whether or not the product can save expenditures on kerosene.  This means that the finance payment for the loan must be less than the kerosene saved.  The most likely loan lengths are one year or less.  At these loan lengths the finance charge exceeds the avoided kerosene cost.\n",
      "\n",
      "One problem then in the scaling of adoption is this difference in cost.  This can be addressed by lowering the price of lanterns or by improving the access to short and cheap loans to consumers. \n",
      "\n",
      "## Calculation overview\n",
      "\n",
      "Given parameters of \n",
      "- lantern retail cost\n",
      "- kerosene cost\n",
      "- kerosene displacement rate\n",
      "construct\n",
      "- a time series of payments\n",
      "- the internal rate of return for this cash flow stream"
     ]
    },
    {
     "cell_type": "markdown",
     "metadata": {},
     "source": [
      "## Todo\n",
      "- design a flexible API for these calculations\n",
      "- contour plot of NPV for initial cost, length of life, (interest rate)\n",
      "- a business can continue investing in lanterns, a consumer cannot\n",
      "- contour plot of IRR for initial cost, length of financing\n",
      "- in sotoplotlib make a contour convenience function?\n",
      "- what are the physical variables that influence lantern value\n",
      "    - insolation\n",
      "    - panel tilt and placement\n",
      "    - lighting required\n",
      "- what are the economics of cell phone charging?"
     ]
    },
    {
     "cell_type": "markdown",
     "metadata": {},
     "source": [
      "## Kerosene cost per day\n",
      "\n",
      "From \"The True Cost of Kerosene in Rural Africa\" a household may displace 60 ml of kerosene consumption per day with a small solar lantern.\n",
      "\n",
      "- \\$20, 60 ml/day\n",
      "- \\$40, 90 ml/day\n",
      "- \\$80, 140 ml/day\n",
      "\n",
      "- rural cost \\$1.30 per liter\n",
      "- urban cost \\$0.96 per liter\n",
      "\n",
      "What does Lighting Africa list as a payback time?"
     ]
    },
    {
     "cell_type": "code",
     "collapsed": false,
     "input": [
      "%pylab inline\n",
      "import numpy as np\n",
      "\n",
      "def cash_flow(initial_cost, period_avoided_cost, periods_financing):\n",
      "    # returns an array of cash flows\n",
      "    # first cash flow is the negative initial payment\n",
      "    # appends a cash flow for each year of financing equal to the period avoided cost\n",
      "    return np.hstack(([-initial_cost], [period_avoided_cost] * periods_financing))\n",
      "    \n",
      "# should i return an IRR here instead?\n",
      "def get_irr(initial_cost, period_avoided_cost, periods_financing):\n",
      "    return np.irr(cash_flow(initial_cost, period_avoided_cost, periods_financing))"
     ],
     "language": "python",
     "metadata": {},
     "outputs": [
      {
       "output_type": "stream",
       "stream": "stdout",
       "text": [
        "Populating the interactive namespace from numpy and matplotlib\n"
       ]
      }
     ],
     "prompt_number": 1
    },
    {
     "cell_type": "markdown",
     "metadata": {},
     "source": [
      "## Internal rate of return"
     ]
    },
    {
     "cell_type": "code",
     "collapsed": false,
     "input": [
      "kerosene_USD_per_liter = 1.30\n",
      "daily_avoided_cost = 0.060 * 1.\n",
      "lantern_costs_USD = (20, 40, 80)\n",
      "daily_costs = [kerosene_USD_per_liter * daily \n",
      "               for daily in (0.060, 0.090, 0.140)]\n",
      "\n",
      "monthly_avoided_cost = daily_avoided_cost * 30\n",
      "\n",
      "# construct traces for different scenarios that plot IRR vs the length of term\n",
      "for initial_lantern_cost_USD, daily_kerosene_cost in zip(lantern_costs_USD, \n",
      "                                                         daily_costs):\n",
      "    returns = []\n",
      "    monthly_avoided_cost = daily_kerosene_cost * 30\n",
      "    for months_financing in range(1, 48):\n",
      "        rate = get_irr(initial_lantern_cost_USD, \n",
      "                       monthly_avoided_cost, \n",
      "                       months_financing)* 12\n",
      "        returns.append(rate)\n",
      "    plot(returns, 'b')\n",
      "    # annotations\n",
      "    text(len(returns), returns[-1], \n",
      "         '$' + str(initial_lantern_cost_USD), color='b')\n",
      "    \n",
      "# plot finance rate\n",
      "hlines(0.36, 0, 48)\n",
      "text(25, 0.36 - 0.05, \"Microfinance Interest Rate\")\n",
      "\n",
      "# annotations\n",
      "text(10, 0.7, \"Solar Lantern IRRs\", color='b')\n",
      "title('Solar Lantern Returns')\n",
      "xlabel('Life of term (months)')\n",
      "ylabel('Equivalent rate of return')\n",
      "xlim((0,55))\n",
      "show()"
     ],
     "language": "python",
     "metadata": {},
     "outputs": [
      {
       "metadata": {},
       "output_type": "display_data",
       "png": "[encoded data removed]",
       "text": [
        "<matplotlib.figure.Figure at 0x1065dd1d0>"
       ]
      }
     ],
     "prompt_number": 2
    }
   ],
   "metadata": {}
  }
 ]
}