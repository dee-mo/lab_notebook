{
 "metadata": {
  "name": ""
 },
 "nbformat": 3,
 "nbformat_minor": 0,
 "worksheets": [
  {
   "cells": [
    {
     "cell_type": "markdown",
     "metadata": {},
     "source": [
      "# Internal rate of return for a solar lantern\n",
      "\n",
      "This notebook calculates the IRR for a hypothetical solar lantern from the initial purchase price of the lantern and the avoided cost of keronsene that the lantern offsets."
     ]
    },
    {
     "cell_type": "markdown",
     "metadata": {},
     "source": [
      "A solar lantern is a tiny solar power plant with battery storage for nighttime lighting applications.  The useful life of the product is set by the battery lifetime at what is likely 3-5 years.  Over these 3-5 year lifetimes, almost all solar lanterns have a positive net present value.  However, most consumers cannot afford to pay for these lanterns upfront and need financing.  \n",
      "\n",
      "In these markets, it may not be practical to get loans as long as 3-5 years.  Customers will not make the decision based on a net present value calculation but more likely on whether or not the product can save expenditures on kerosene.  This means that the finance payment for the loan must be less than the kerosene saved.  The most likely loan lengths are one year or less.  At these loan lengths the finance charge exceeds the avoided kerosene cost.\n",
      "\n",
      "One problem then in the scaling of adoption is this difference in cost.  This can be addressed by lowering the price of lanterns or by improving the access to short and cheap loans to consumers. \n",
      "\n",
      "## Calculation overview\n",
      "\n",
      "Given parameters of \n",
      "- lantern retail cost\n",
      "- kerosene cost\n",
      "- kerosene displacement rate\n",
      "construct\n",
      "- a time series of payments\n",
      "- the internal rate of return for this cash flow stream"
     ]
    },
    {
     "cell_type": "markdown",
     "metadata": {},
     "source": [
      "## Todo\n",
      "- design a flexible API for these calculations\n",
      "- contour plot of NPV for initial cost, length of life, (interest rate)\n",
      "- a business can continue investing in lanterns, a consumer cannot\n",
      "- contour plot of IRR for initial cost, length of financing\n",
      "- in sotoplotlib make a contour convenience function?\n",
      "- what are the physical variables that influence lantern value\n",
      "    - insolation\n",
      "    - panel tilt and placement\n",
      "    - lighting required\n",
      "- what are the economics of cell phone charging?"
     ]
    },
    {
     "cell_type": "markdown",
     "metadata": {},
     "source": [
      "## Kerosene cost per day\n",
      "\n",
      "From \"The True Cost of Kerosene in Rural Africa\" a household may displace 60 ml of kerosene consumption per day with a small solar lantern.\n",
      "\n",
      "$20, 60 ml/day\n",
      "$40, 90 ml/day\n",
      "$80, 140 ml/day\n",
      "\n",
      "rural cost $1.30 per liter\n",
      "urban cost $0.96 per liter\n",
      "\n",
      "What does Lighting Africa list as a payback time?"
     ]
    },
    {
     "cell_type": "code",
     "collapsed": false,
     "input": [
      "%pylab inline\n",
      "import numpy as np\n",
      "\n",
      "def cash_flow(initial_cost, yearly_avoided_cost, years_financing):\n",
      "    # returns an array of cash flows\n",
      "    # first cash flow is the negative initial payment\n",
      "    # appends a cash flow for each year of financing equal to the yearly avoided cost\n",
      "    return np.hstack(([-initial_lantern_cost], [yearly_avoided_cost] * years_financing))\n",
      "\n",
      "\n",
      "def monthly_cash_flow(initial_cost, monthly_avoided_cost, months_financing):\n",
      "    # returns an array of cash flows\n",
      "    # first cash flow is the negative initial payment\n",
      "    # appends a cash flow for each year of financing equal to the yearly avoided cost\n",
      "    return np.hstack(([-initial_lantern_cost], [monthly_avoided_cost] * months_financing))\n",
      "    \n",
      "# should i return an IRR here instead?\n",
      "def get_irr(initial_cost, period_avoided_cost, periods_financing):\n",
      "    return np.irr(cash_flow(initial_cost, period_avoided_cost, periods_financing)\n"
     ],
     "language": "python",
     "metadata": {},
     "outputs": [
      {
       "output_type": "stream",
       "stream": "stdout",
       "text": [
        "Populating the interactive namespace from numpy and matplotlib\n"
       ]
      }
     ],
     "prompt_number": 26
    },
    {
     "cell_type": "markdown",
     "metadata": {},
     "source": [
      "## Internal rate of return"
     ]
    },
    {
     "cell_type": "code",
     "collapsed": false,
     "input": [
      "daily_avoided_cost = 0.060 * 1.\n",
      "initial_lantern_cost = 30\n",
      "yearly_avoided_cost = daily_avoided_cost * 365\n",
      "years_financing = 1\n",
      "for years_financing in range(1,4):\n",
      "    print(years_financing, \n",
      "          np.irr(cash_flow(initial_lantern_cost, yearly_avoided_cost, years_financing)))\n"
     ],
     "language": "python",
     "metadata": {},
     "outputs": [
      {
       "output_type": "stream",
       "stream": "stdout",
       "text": [
        "1 nan\n",
        "2 0.2940990259385703\n",
        "3 0.5235997796655754\n"
       ]
      }
     ],
     "prompt_number": 27
    },
    {
     "cell_type": "code",
     "collapsed": false,
     "input": [
      "daily_avoided_cost = 0.060 * 1.\n",
      "monthly_avoided_cost = daily_avoided_cost * 30\n",
      "for initial_lantern_cost in (25, 30, 35):\n",
      "    returns = []\n",
      "    for months_financing in range(1, 48):\n",
      "        rate = np.irr(monthly_cash_flow(initial_lantern_cost, monthly_avoided_cost, months_financing))* 12\n",
      "        #print(months_financing, rate)\n",
      "        returns.append(rate)\n",
      "    plot(returns, 'b')\n",
      "    text(len(returns), returns[-1], '$'+str(initial_lantern_cost),color='b')\n",
      "    \n",
      "# plot at different ratios of lantern to kerosene costs\n",
      "\n",
      "\n",
      "hlines(0.36, 0, 48)\n",
      "text(25, 0.36 - 0.05, \"Microfinance Interest Rate\")\n",
      "text(10, 0.7, \"Solar Lantern IRRs\", color='b')\n",
      "\n",
      "title('Solar Lantern Returns')\n",
      "xlabel('Life of term (months)')\n",
      "ylabel('Equivalent rate of return')\n",
      "xlim((0,55))\n",
      "show()"
     ],
     "language": "python",
     "metadata": {},
     "outputs": [
      {
       "metadata": {},
       "output_type": "display_data",
       "png": "[encoded data removed]",
       "text": [
        "<matplotlib.figure.Figure at 0x107acdad0>"
       ]
      }
     ],
     "prompt_number": 46
    },
    {
     "cell_type": "markdown",
     "metadata": {},
     "source": [
      "## Simple payback"
     ]
    },
    {
     "cell_type": "code",
     "collapsed": false,
     "input": [
      "simple_payback = initial_lantern_cost / yearly_avoided_cost\n",
      "simple_payback"
     ],
     "language": "python",
     "metadata": {},
     "outputs": [
      {
       "metadata": {},
       "output_type": "pyout",
       "prompt_number": 29,
       "text": [
        "1.1415525114155252"
       ]
      }
     ],
     "prompt_number": 29
    },
    {
     "cell_type": "markdown",
     "metadata": {},
     "source": [
      "## Net present value"
     ]
    },
    {
     "cell_type": "code",
     "collapsed": false,
     "input": [
      "rate = 0.10\n",
      "for years_financing in range(1,4):\n",
      "    print(years_financing, \n",
      "          np.npv(rate, cash_flow(initial_lantern_cost, yearly_avoided_cost, years_financing)))"
     ],
     "language": "python",
     "metadata": {},
     "outputs": [
      {
       "output_type": "stream",
       "stream": "stdout",
       "text": [
        "1 -4.62809917355\n",
        "2 11.8256949662\n",
        "3 26.7836896387\n"
       ]
      }
     ],
     "prompt_number": 30
    }
   ],
   "metadata": {}
  }
 ]
}