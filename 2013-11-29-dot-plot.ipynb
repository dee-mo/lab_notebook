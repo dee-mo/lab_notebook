{
 "metadata": {
  "name": ""
 },
 "nbformat": 3,
 "nbformat_minor": 0,
 "worksheets": [
  {
   "cells": [
    {
     "cell_type": "markdown",
     "metadata": {},
     "source": [
      "# Dot Plot\n",
      "\n",
      "This is an example using a function I wrote to create \"dot plots\".  These are a a way to plot the relative magnitudes of quantities and are considered an improvement over pie charts.  They are described by Naomi Robbins in Creating More Effective Graphs."
     ]
    },
    {
     "cell_type": "markdown",
     "metadata": {},
     "source": [
      "## Usage example\n",
      "\n",
      "So far this works on my anaconda python 2.7 install.  For some reason, this won't import in 3.3, which is unfortunate since I am trying to migrate all my work to 3.3."
     ]
    },
    {
     "cell_type": "code",
     "collapsed": false,
     "input": [
      "%pylab inline\n",
      "#import sys\n",
      "#sys.path.append('/Users/dsoto/Dropbox/SotoPlotLib/sotoplotlib')\n",
      "import sotoplotlib as spl\n",
      "\n",
      "# dictionary of labels and data\n",
      "dd = {'Photovoltaic Panel': 40,\n",
      "      'Battery Storage'   : 10,\n",
      "      'Distribution'      : 50,\n",
      "      'Meter Hardware'    : 50,\n",
      "      'Installation'      : 50\n",
      "      }\n",
      "\n",
      "import matplotlib.pyplot as plt\n",
      "f, ax = plt.subplots(1,1)\n",
      "spl.dot_plot(dd, ax)\n",
      "ax.set_xlim((0,60))\n",
      "ax.set_xlabel('Cost')\n",
      "ax.grid()\n",
      "plt.show()"
     ],
     "language": "python",
     "metadata": {},
     "outputs": [
      {
       "output_type": "stream",
       "stream": "stdout",
       "text": [
        "Populating the interactive namespace from numpy and matplotlib\n"
       ]
      },
      {
       "metadata": {},
       "output_type": "display_data",
       "png": "[encoded data removed]",
       "text": [
        "<matplotlib.figure.Figure at 0x102530650>"
       ]
      }
     ],
     "prompt_number": 1
    },
    {
     "cell_type": "markdown",
     "metadata": {},
     "source": [
      "## Source code\n",
      "\n",
      "The function iterates over the dictionary creating labels from the keys and plotting the values."
     ]
    },
    {
     "cell_type": "code",
     "collapsed": false,
     "input": [
      "import inspect\n",
      "print(inspect.getsource(spl.dot_plot))"
     ],
     "language": "python",
     "metadata": {},
     "outputs": [
      {
       "output_type": "stream",
       "stream": "stdout",
       "text": [
        "def dot_plot(dd, ax):\n",
        "    num_elements = len(dd)\n",
        "    tick_labels = []\n",
        "\n",
        "    for i,k in enumerate(dd.keys()):\n",
        "        ax.plot(dd[k],i, 'ko')\n",
        "        tick_labels.append(k)\n",
        "\n",
        "    ax.set_yticks(range(num_elements))\n",
        "    ax.set_yticklabels(tick_labels)\n",
        "    ax.set_ylim((-0.5, num_elements - 0.5))\n",
        "\n"
       ]
      }
     ],
     "prompt_number": 2
    },
    {
     "cell_type": "code",
     "collapsed": false,
     "input": [],
     "language": "python",
     "metadata": {},
     "outputs": [],
     "prompt_number": 2
    }
   ],
   "metadata": {}
  }
 ]
}