{
 "metadata": {
  "name": "2013-05-16-haiti-coding"
 },
 "nbformat": 3,
 "nbformat_minor": 0,
 "worksheets": [
  {
   "cells": [
    {
     "cell_type": "markdown",
     "metadata": {},
     "source": [
      "Today I finished implementing the proper handling of the synthetic power as created by Dan Schnitzer's original code.  I also put in some better output on the plots.  Titles, axes, etc.  \n",
      "\n",
      "It remains to make the simulation more physical now that all the parts seem to be working together.\n",
      "\n",
      "- tune appliance parameters to reflect actual use\n",
      "- randomize initial appliance states to reduce coherence effects in time series\n",
      "\n",
      "I'm noticing one disturbing trend in the timeseries where there is something akin to a beat frequency where the overall load seems to go from periodic to completely mixed to periodic over the time period of a few days.\n",
      "\n"
     ]
    },
    {
     "cell_type": "code",
     "collapsed": false,
     "input": [],
     "language": "python",
     "metadata": {},
     "outputs": []
    }
   ],
   "metadata": {}
  }
 ]
}