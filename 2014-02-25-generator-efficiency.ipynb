{
 "metadata": {
  "name": ""
 },
 "nbformat": 3,
 "nbformat_minor": 0,
 "worksheets": [
  {
   "cells": [
    {
     "cell_type": "markdown",
     "metadata": {},
     "source": [
      "# Generator efficiency\n",
      "\n",
      "To determine the marginal cost of electricity at any load, we want to estimate the fuel consumption at that load in volume of fuel per unit electrical energy.  This allows us to calculate the marginal cost of electricity based on the cost of fuel.\n",
      "\n",
      "Generator specification sheets report the fuel consumption per hour at a few output power levels.  However, these points are not reported at the very low capacities that the generators often operate (< 50% of rated load).  The data however, are linear, and we can extrapolate to estimate the low load fuel use.  HOMER uses a linear fit, but I'm not certain how valid it is at low output power."
     ]
    },
    {
     "cell_type": "code",
     "collapsed": false,
     "input": [
      "%pylab inline\n",
      "\n",
      "power_kW = 199\n",
      "efficiency_curve = {'output_power': array([0.5, 0.75, 1.0, 1.1]) * power_kW,\n",
      "                    'fuel_use' : array([25.6, 37.4, 49.4, 54.3])}"
     ],
     "language": "python",
     "metadata": {},
     "outputs": [
      {
       "output_type": "stream",
       "stream": "stdout",
       "text": [
        "Populating the interactive namespace from numpy and matplotlib\n"
       ]
      }
     ],
     "prompt_number": 3
    },
    {
     "cell_type": "code",
     "collapsed": false,
     "input": [
      "plot(efficiency_curve['output_power'], efficiency_curve['fuel_use'], 'bx')"
     ],
     "language": "python",
     "metadata": {},
     "outputs": [
      {
       "metadata": {},
       "output_type": "pyout",
       "prompt_number": 4,
       "text": [
        "[<matplotlib.lines.Line2D at 0x1067c9690>]"
       ]
      },
      {
       "metadata": {},
       "output_type": "display_data",
       "png": "[encoded data removed]",
       "text": [
        "<matplotlib.figure.Figure at 0x1066abbd0>"
       ]
      }
     ],
     "prompt_number": 4
    },
    {
     "cell_type": "markdown",
     "metadata": {},
     "source": [
      "Based on this data, we can perform a linear fit.\n",
      "\n",
      "Based on this linear fit, we can extrapolate to the no load condition.\n",
      "\n",
      "From this we can construct a price-duration curve."
     ]
    },
    {
     "cell_type": "code",
     "collapsed": false,
     "input": [
      "# polyfit returns polynomial coefficients, highest power first\n",
      "p = polyfit(efficiency_curve['output_power'], efficiency_curve['fuel_use'], 1)\n",
      "\n",
      "# create and plot line\n",
      "x = linspace(0, power_kW, 40)\n",
      "y = polyval(p, x)\n",
      "plot(efficiency_curve['output_power'], efficiency_curve['fuel_use'], 'kx', label='Specification')\n",
      "plot(x,y, 'b', label='Linear Fit')\n",
      "legend(loc='best')\n",
      "xlabel('Output Power (kW)')\n",
      "ylabel('Fuel Use (liters / hour)')"
     ],
     "language": "python",
     "metadata": {},
     "outputs": [
      {
       "metadata": {},
       "output_type": "pyout",
       "prompt_number": 24,
       "text": [
        "<matplotlib.text.Text at 0x107a7e210>"
       ]
      },
      {
       "metadata": {},
       "output_type": "display_data",
       "png": "[encoded data removed]",
       "text": [
        "<matplotlib.figure.Figure at 0x107a76750>"
       ]
      }
     ],
     "prompt_number": 24
    },
    {
     "cell_type": "markdown",
     "metadata": {},
     "source": [
      "To convert from fuel use to fuel use per kWh delivered:\n",
      "\n",
      "$$ \\frac{fuel volume}{kWh} = \\frac{fuel use * hours}{output power * hours} $$\n",
      "\n",
      "This creates a divide by zero problem that is ignored and gracefully handled by the library in this calculation."
     ]
    },
    {
     "cell_type": "code",
     "collapsed": false,
     "input": [
      "plot(x, y/x)\n",
      "xlabel('Output Power (kW)')\n",
      "ylabel('Liters per kWh')"
     ],
     "language": "python",
     "metadata": {},
     "outputs": [
      {
       "metadata": {},
       "output_type": "pyout",
       "prompt_number": 26,
       "text": [
        "<matplotlib.text.Text at 0x107d18b90>"
       ]
      },
      {
       "metadata": {},
       "output_type": "display_data",
       "png": "[encoded data removed]",
       "text": [
        "<matplotlib.figure.Figure at 0x107a4c3d0>"
       ]
      }
     ],
     "prompt_number": 26
    },
    {
     "cell_type": "markdown",
     "metadata": {},
     "source": [
      "Note that when the power is reduced, the amount of fuel per hour is reduced, so the cost to run the generator per hour is reduced.  However, the cost per amount of energy for the generator is increased.  \n",
      "\n",
      "If customers pay a flat rate, an efficiency intervention that lowers the load would lower cost and be advantageous.  If customers pay a volumetric charge based on the energy consumption however, the marginal cost of electricity will increase, decreasing the difference between tariffs and expenses."
     ]
    },
    {
     "cell_type": "code",
     "collapsed": false,
     "input": [
      "# next step, use this curve to create price duration\n",
      "# put this into matlab code so that dan can generate figure?\n",
      "\n",
      "# we could use this curve in an interpolation function?\n",
      "\n",
      "# create function that takes efficiency curve and output power and calculates liters per kWh\n",
      "\n",
      "# price duration curve is dollars per hour not per kWh\n",
      "\n"
     ],
     "language": "python",
     "metadata": {},
     "outputs": []
    }
   ],
   "metadata": {}
  }
 ]
}