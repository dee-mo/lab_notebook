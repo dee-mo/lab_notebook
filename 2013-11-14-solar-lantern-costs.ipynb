{
 "metadata": {
  "name": ""
 },
 "nbformat": 3,
 "nbformat_minor": 0,
 "worksheets": [
  {
   "cells": [
    {
     "cell_type": "markdown",
     "metadata": {},
     "source": [
      "# Cost comparisons\n",
      "\n",
      "The attractiveness of a solar lantern depends on the avoided cost you compare it to.  The solar lantern is a battery-backed photovoltaic system which basically relies on two separate technologies to create and then store the energy for later use.  Compared to kerosene lanterns, these solar lanterns offer lighting at a much lower cost per unit of light delivered.  If however, you calculate the cost of the electricity delivered, the per kWh cost will be well above the grid rate.  \n",
      "\n",
      "Microgrids have a tough time getting financing because the electricity rate is so much higher than what a grid charges.  Selling electricity at the true cost is seen as too expensive or worse, as price gouging.  Solar lanterns, however, while delivering electricity at basically the same price as a microgrid, are seen as an economic benefit to customers.  Again, what matters is the frame of reference."
     ]
    }
   ],
   "metadata": {}
  }
 ]
}