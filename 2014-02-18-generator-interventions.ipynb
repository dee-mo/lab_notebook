{
 "metadata": {
  "name": ""
 },
 "nbformat": 3,
 "nbformat_minor": 0,
 "worksheets": [
  {
   "cells": [
    {
     "cell_type": "markdown",
     "metadata": {},
     "source": [
      "# Microgrid generators\n",
      "\n",
      "Many microgrids have oversized generators for the load.  This results in fuel consumption higher than necessary.  Higher fuel rates can in turn create operating expenses that exceed the revenue collected by the grid.  \n",
      "\n",
      "Given a microgrid in this situation, what changes can we make to the grid to reduce the overall fuel consumption in terms of liters per kWh delivered?\n",
      "\n",
      "## Smaller generator\n",
      "The generator could be made smaller reducing the marginal fuel cost per kWh of electricity delivered.  Based on the difference of new generator cost and the salvage value of the old as well as the electricity saved, you can generate a conserved cost of fuel metric.\n",
      "\n",
      "$$ \\frac{\\textrm{annualized cost of (new - old)}}{\\textrm{fuel saved}} $$\n",
      "\n",
      "## Battery storage\n",
      "A battery can be used to store energy from the generator while it is running at full load.  If the majority of the charging cycle of the battery is performed at full load, we can increase the efficacy of the generator.  If the efficiency of the battery system and inverter system is better than the efficiency penalty of the generator, this can be an improvement.\n",
      "\n",
      "We can model the decrease in efficiency of the generator at lower loads as an second efficiency representing the off-peak efficiency.  If the chained efficiency of AC/DC conversion, round trip battery storage, and DC/AC conversion is higher than this \"second\" generator efficiency, battery storage may be a viable technical intervention.\n",
      "\n",
      "$$ \\eta_{\\textrm{generator}} =\n",
      "   \\eta_{\\textrm{optimal generator}} \n",
      "   \\eta_{\\textrm{off-peak loss}} $$\n",
      "\n",
      "$$ \\eta_{\\textrm{generator and battery}} =\n",
      "   \\eta_{\\textrm{optimal generator}} \n",
      "   \\eta_{\\textrm{AC/DC}} \n",
      "   \\eta_{\\textrm{battery storage}} \n",
      "   \\eta_{\\textrm{DC/AC}} $$\n",
      "\n",
      "We must further look at the average or ensemble generator efficiency over time to make this assessment.\n",
      "\n",
      "\n",
      "## Modern generator\n",
      "It appears that modern diesel generators have much better performance both in terms of overall efficiency and efficiency off-peak than older models.  Microgrids can identify the fuel penalty imposed by their generator at low loads and see if a newer generator will improve it.\n",
      "\n",
      "## Tariffs and metering\n",
      "Currently this microgrid charges customers based on an inventory of their appliances.  This is basically a fixed rate capacity charge.  We can calculate what volumetric charge is necessary for cost recovery and determine if it would be acceptable to customers.  \n",
      "\n",
      "$$ \\textrm{breakeven tariff} = \\frac{\\textrm{fuel use}}{\\textrm{electricity sold}} $$"
     ]
    }
   ],
   "metadata": {}
  }
 ]
}