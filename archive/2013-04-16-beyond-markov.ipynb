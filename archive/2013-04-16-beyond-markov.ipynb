{
 "metadata": {
  "name": "2013-04-16-beyond-markov"
 },
 "nbformat": 3,
 "nbformat_minor": 0,
 "worksheets": [
  {
   "cells": [
    {
     "cell_type": "markdown",
     "metadata": {},
     "source": [
      "Yesterday I worked on a potential approach for modeling appliance behavior that samples from assumed distributions of start and end times.  \n",
      "\n",
      "## Possible Approaches\n",
      "- distribution of start end times\n",
      "- semi-markov model\n",
      "- continuous time markov model\n",
      "- markov model with time-dependent transition matrices\n",
      "\n",
      "I'm not certain yet, but I think that CT markov and time-dependent markov matrices still give the exponential distribution of on and off times.  Semi-Markov can be tuned to create the proper durations.  I have yet to determine exactly how complex developing this model would be.  I initially thought this would be a 20 hour investment but it may be less than that.\n",
      "\n",
      "An unresolved question for me, is when is the exponential distribution of durations important or unimportant in the modeling.  If these times are unimportant, the inaccuracies of a pure markov approach my be tolerable.\n",
      "\n",
      "## How do we compare timeseries?\n",
      "\n",
      "We could have two time series with the same mean and different variances.  The overall energy consumed would be equal but the peak power requirements would be different.  The power system would also have to respond to more frequent changes in power level which could affect efficiency.  \n",
      "\n",
      "I found a wind study that compares synthetic data to measure data and compares.\n",
      "http://www.hindawi.com/journals/jre/2013/368940/\n",
      "\n",
      "Johnson (csail, redd) also had a metric for comparing performance but of predicted vs observed time series and also hidden states.\n",
      "\n",
      "## Search strings\n",
      "- \"semi markov tutorial\" yielded several accessible treatments\n",
      "- \"semi markov energy\" yielded some papers on prediction of wind resources\n"
     ]
    },
    {
     "cell_type": "markdown",
     "metadata": {},
     "source": [
      "## Semi markov\n",
      "\n",
      "I found information on explicit duration markov models and now understand a way to use them to model our needs without the complexity I originally feared.  However, I remain intimidated by the inference problem in semi-markov models.  \n",
      "\n",
      "This paper by Mike Dewar and others\n",
      "\n",
      "http://www.stat.columbia.edu/~fwood/Papers/Dewar-IEEE-2012.pdf\n",
      "\n",
      "has a simple algorithm for generating data from an explicit duration HMM.\n",
      "\n",
      "    sample x0 \u223c p(x0), d0 \u223c p(d0) \n",
      "    for t = 1,2,...,T do\n",
      "        if dt\u22121 = 1 then\n",
      "            a new segment starts: \n",
      "            sample xt \u223c p(xt|xt\u22121) \n",
      "            sample dt \u223c p(dt|xt)\n",
      "        else\n",
      "            the segment continues:\n",
      "            xt = xt\u22121\n",
      "            dt = dt\u22121 \u2212 1 \n",
      "        end if\n",
      "    sample yt \u223c p(yt|xt) \n",
      "    end for\n"
     ]
    },
    {
     "cell_type": "markdown",
     "metadata": {},
     "source": [
      "That is we step through the times, when the previous duration has expired, we sample a new state using the markov transition matrix, and pick a new duration based on that state.  Based on the state we can also choose an observation for each time step using the emission distribution."
     ]
    },
    {
     "cell_type": "markdown",
     "metadata": {},
     "source": [
      "To model off grid lighting, we could choose the mean off duration to be 18 hours and the mean on duration to be 6 hours.  If the two means add to 24 hours, there shouldn't be a problem of the lighting getting out of sync with the time of day over long (multi-day) simulations."
     ]
    },
    {
     "cell_type": "code",
     "collapsed": false,
     "input": [],
     "language": "python",
     "metadata": {},
     "outputs": []
    }
   ],
   "metadata": {}
  }
 ]
}