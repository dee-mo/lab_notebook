{
 "metadata": {
  "name": "2013-04-04-pap-homer"
 },
 "nbformat": 3,
 "nbformat_minor": 0,
 "worksheets": [
  {
   "cells": [
    {
     "cell_type": "markdown",
     "metadata": {},
     "source": [
      "# 2013-04-04\n",
      "# haiti homer work"
     ]
    },
    {
     "cell_type": "markdown",
     "metadata": {},
     "source": [
      "I downloaded the newest version of homer (2.81?) to my windows virtual machine.  I also looked at the data formats for putting load data and solar data into HOMER.  The data files are simply a text file with 8760 rows of the data.  No headers, no index, no commas.  This will make the output from the matlab program very simple.  \n",
      "\n",
      "I also want to get started using HOMER a bit and think about how it can answer our basic question, \"How can specific appliance substitutions affect the overall cost of delivering service?\"  \n",
      "\n",
      "Technical note, the windows virtual machine that i use to run HOMER is really taxing my system.  It is installing 20 system updates and causing constant 'beachballing' and lags.\n",
      "\n"
     ]
    },
    {
     "cell_type": "code",
     "collapsed": false,
     "input": [],
     "language": "python",
     "metadata": {},
     "outputs": []
    }
   ],
   "metadata": {}
  }
 ]
}