{
 "metadata": {
  "name": "2013-04-07-pandas-masking"
 },
 "nbformat": 3,
 "nbformat_minor": 0,
 "worksheets": [
  {
   "cells": [
    {
     "cell_type": "code",
     "collapsed": false,
     "input": [
      "%pylab inline"
     ],
     "language": "python",
     "metadata": {},
     "outputs": [
      {
       "output_type": "stream",
       "stream": "stdout",
       "text": [
        "\n",
        "Welcome to pylab, a matplotlib-based Python environment [backend: module://IPython.zmq.pylab.backend_inline].\n",
        "For more information, type 'help(pylab)'.\n"
       ]
      }
     ],
     "prompt_number": 1
    },
    {
     "cell_type": "markdown",
     "metadata": {},
     "source": [
      "## Create data"
     ]
    },
    {
     "cell_type": "code",
     "collapsed": false,
     "input": [
      "import pandas as pd\n",
      "\n",
      "# make datetime index\n",
      "dates = pd.date_range('2000-01-01', periods=24, freq='H')\n",
      "\n",
      "\n",
      "\n",
      "# make synthetic power data\n",
      "power = [0, 0, 0, 0, 1, 1, 1, 1, \n",
      "         0, 0, 0, 0, 1, 1, 1, 1,\n",
      "         0, 0, 0, 0, 1, 1, 1, 1]\n",
      "\n",
      "# make synthetic data \n",
      "power_timeseries = pd.Series(data=power, index=dates)\n",
      "\n",
      "# plot\n",
      "power_timeseries.plot()"
     ],
     "language": "python",
     "metadata": {},
     "outputs": [
      {
       "output_type": "pyout",
       "prompt_number": 2,
       "text": [
        "<matplotlib.axes.AxesSubplot at 0x1070e8d90>"
       ]
      },
      {
       "output_type": "display_data",
       "png": "[encoded data removed]"
      }
     ],
     "prompt_number": 2
    },
    {
     "cell_type": "markdown",
     "metadata": {},
     "source": [
      "In numpy and pandas, if you do a comparison (>, <, ==, etc) you get a series of true and false values."
     ]
    },
    {
     "cell_type": "code",
     "collapsed": false,
     "input": [
      "power_timeseries > 0.2"
     ],
     "language": "python",
     "metadata": {},
     "outputs": [
      {
       "output_type": "pyout",
       "prompt_number": 3,
       "text": [
        "2000-01-01 00:00:00    False\n",
        "2000-01-01 01:00:00    False\n",
        "2000-01-01 02:00:00    False\n",
        "2000-01-01 03:00:00    False\n",
        "2000-01-01 04:00:00     True\n",
        "2000-01-01 05:00:00     True\n",
        "2000-01-01 06:00:00     True\n",
        "2000-01-01 07:00:00     True\n",
        "2000-01-01 08:00:00    False\n",
        "2000-01-01 09:00:00    False\n",
        "2000-01-01 10:00:00    False\n",
        "2000-01-01 11:00:00    False\n",
        "2000-01-01 12:00:00     True\n",
        "2000-01-01 13:00:00     True\n",
        "2000-01-01 14:00:00     True\n",
        "2000-01-01 15:00:00     True\n",
        "2000-01-01 16:00:00    False\n",
        "2000-01-01 17:00:00    False\n",
        "2000-01-01 18:00:00    False\n",
        "2000-01-01 19:00:00    False\n",
        "2000-01-01 20:00:00     True\n",
        "2000-01-01 21:00:00     True\n",
        "2000-01-01 22:00:00     True\n",
        "2000-01-01 23:00:00     True\n",
        "Freq: H"
       ]
      }
     ],
     "prompt_number": 3
    },
    {
     "cell_type": "markdown",
     "metadata": {},
     "source": [
      "If you use that some array of true and false values to index the data, you can get only the entries where the power was above 0.2."
     ]
    },
    {
     "cell_type": "code",
     "collapsed": false,
     "input": [
      "power_timeseries[power_timeseries > 0.2]"
     ],
     "language": "python",
     "metadata": {},
     "outputs": [
      {
       "output_type": "pyout",
       "prompt_number": 4,
       "text": [
        "2000-01-01 04:00:00    1\n",
        "2000-01-01 05:00:00    1\n",
        "2000-01-01 06:00:00    1\n",
        "2000-01-01 07:00:00    1\n",
        "2000-01-01 12:00:00    1\n",
        "2000-01-01 13:00:00    1\n",
        "2000-01-01 14:00:00    1\n",
        "2000-01-01 15:00:00    1\n",
        "2000-01-01 20:00:00    1\n",
        "2000-01-01 21:00:00    1\n",
        "2000-01-01 22:00:00    1\n",
        "2000-01-01 23:00:00    1"
       ]
      }
     ],
     "prompt_number": 4
    },
    {
     "cell_type": "code",
     "collapsed": false,
     "input": [
      "power_timeseries[power_timeseries > 0.2].index"
     ],
     "language": "python",
     "metadata": {},
     "outputs": [
      {
       "output_type": "pyout",
       "prompt_number": 5,
       "text": [
        "<class 'pandas.tseries.index.DatetimeIndex'>\n",
        "[2000-01-01 04:00:00, ..., 2000-01-01 23:00:00]\n",
        "Length: 12, Freq: None, Timezone: None"
       ]
      }
     ],
     "prompt_number": 5
    },
    {
     "cell_type": "markdown",
     "metadata": {},
     "source": [
      "So the next question for you is, how will you take this (potentially long) list of dates and make sense of them?"
     ]
    },
    {
     "cell_type": "code",
     "collapsed": false,
     "input": [],
     "language": "python",
     "metadata": {},
     "outputs": [],
     "prompt_number": 5
    }
   ],
   "metadata": {}
  }
 ]
}