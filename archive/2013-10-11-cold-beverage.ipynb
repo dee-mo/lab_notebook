{
 "metadata": {
  "name": ""
 },
 "nbformat": 3,
 "nbformat_minor": 0,
 "worksheets": [
  {
   "cells": [
    {
     "cell_type": "markdown",
     "metadata": {},
     "source": [
      "# Energy and cost of beverage cooling"
     ]
    },
    {
     "cell_type": "markdown",
     "metadata": {},
     "source": [
      "Here I calculate the energy needed to cool a beverage.  I also estimate the cost of this energy.\n",
      "\n",
      "I start by calculating the sensible heat that must be extracted from a can or bottle."
     ]
    },
    {
     "cell_type": "code",
     "collapsed": false,
     "input": [
      "volume_l = 0.5\n",
      "temperature_difference_K = 25.0\n",
      "density_water_g_per_l = 1000.\n",
      "heat_capacity_water_J_gK = 4.1855\n",
      "kWh_per_joule = 1 / 3600000.\n",
      "\n",
      "sensible_heat = 1\n",
      "sensible_heat *= volume_l\n",
      "sensible_heat *= temperature_difference_K\n",
      "sensible_heat *= density_water_g_per_l\n",
      "sensible_heat *= heat_capacity_water_J_gK\n",
      "\n",
      "\n",
      "print('sensible heat (joules) =', sensible_heat)\n",
      "print('sensible heat (kWh) = %0.3f' % (sensible_heat * kWh_per_joule))"
     ],
     "language": "python",
     "metadata": {},
     "outputs": [
      {
       "output_type": "stream",
       "stream": "stdout",
       "text": [
        "sensible heat (joules) = 52318.75\n",
        "sensible heat (kWh) = 0.015\n"
       ]
      }
     ],
     "prompt_number": 7
    },
    {
     "cell_type": "markdown",
     "metadata": {},
     "source": [
      "The energy we must supply is less than this because typical refrigerators can remove more units of heat energy than the units of electrical energy delivered.  Even with very expensive electricity ($1/kWh) this would add less than 0.01 USD to the cost of the drink.  \n",
      "\n",
      "This is the cost to cool down the drink.  We can also estimate the cost to keep the drink stored at a cool temperature.\n",
      "\n",
      "Assumptions:\n",
      "- Refrigerator energy use as stated on product sheet\n",
      "\n",
      "Each beverage has an average residence time in the refrigerator.  We can estimate the energy use per can for storage by\n",
      "\n",
      "$$ \\frac{\\textrm{energy used per unit time}}{\\textrm{cans sold per unit time}} $$"
     ]
    },
    {
     "cell_type": "code",
     "collapsed": false,
     "input": [
      "# haier refrigerator consumes 0.8 kWh per day\n",
      "\n",
      "energy_per_day_kWh = 0.8\n",
      "cans_per_day = 10\n",
      "\n",
      "storage_energy_per_can = energy_per_day_kWh / cans_per_day\n",
      "\n",
      "print('storage kWh per can', storage_energy_per_can)"
     ],
     "language": "python",
     "metadata": {},
     "outputs": [
      {
       "output_type": "stream",
       "stream": "stdout",
       "text": [
        "storage kWh per can 0.08\n"
       ]
      }
     ],
     "prompt_number": 13
    },
    {
     "cell_type": "markdown",
     "metadata": {},
     "source": [
      "Depending on the number of cans sold per day, the energy used by the refrigerator to keep the beverage cool more than the energy necessary to cool the beverage to drinking temperature."
     ]
    }
   ],
   "metadata": {}
  }
 ]
}