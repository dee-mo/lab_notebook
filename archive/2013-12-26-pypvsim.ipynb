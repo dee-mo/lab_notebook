{
 "metadata": {
  "name": ""
 },
 "nbformat": 3,
 "nbformat_minor": 0,
 "worksheets": [
  {
   "cells": [
    {
     "cell_type": "markdown",
     "metadata": {},
     "source": [
      "# PyPVSim\n",
      "\n",
      "I'd like to create a library from the code I used for my GHTC publication.  For now, the name is PyPVSim.  The development code will be in `~/Dropbox/repos/PyPVSim`.  I'll use the pip and install it so that changes are automatically reloaded.\n",
      "\n",
      "This means writing a `__init__.py` file.  It also means coming up with a module and submodule strategy.  I have a lot to learn here.\n",
      "\n",
      "I already made (and forgot) one attempt at this in `pv_energy_balance` and I'll merge these efforts together by moving relevant files from `pv_energy_balance` to `PyPVSim`.\n",
      "\n",
      "The GHTC work has clear sky insolation and inverter, panel, and battery objects.  I will write code to generate loads from specifications to the library."
     ]
    },
    {
     "cell_type": "code",
     "collapsed": false,
     "input": [
      "import pypvsim"
     ],
     "language": "python",
     "metadata": {},
     "outputs": [],
     "prompt_number": 1
    },
    {
     "cell_type": "code",
     "collapsed": false,
     "input": [
      "solar = pypvsim.Solar()\n",
      "panel = pypvsim.Panel(solar)"
     ],
     "language": "python",
     "metadata": {},
     "outputs": [],
     "prompt_number": 2
    },
    {
     "cell_type": "code",
     "collapsed": false,
     "input": [
      "import datetime as dt\n",
      "panel.power(dt.datetime.now())"
     ],
     "language": "python",
     "metadata": {},
     "outputs": [
      {
       "output_type": "stream",
       "stream": "stderr",
       "text": [
        "/Users/dsoto/Dropbox/repos/PyPVSim/pypvsim/pvsim.py:88: RuntimeWarning: divide by zero encountered in double_scalars\n",
        "  if (sp.cos(ha) >= (sp.tan(dec) / sp.tan(self.lat))):\n"
       ]
      },
      {
       "metadata": {},
       "output_type": "pyout",
       "prompt_number": 4,
       "text": [
        "164.8352865190347"
       ]
      }
     ],
     "prompt_number": 4
    },
    {
     "cell_type": "code",
     "collapsed": false,
     "input": [
      "import numpy as np\n",
      "dates = np.arange('2013-01-01T00:00Z', '2013-01-15T00:00Z', dtype='datetime64[h]')\n",
      "hourly = [panel.power(d.astype(object)) for d in dates]\n",
      "%pylab inline\n",
      "plot(dates.astype(object), hourly)"
     ],
     "language": "python",
     "metadata": {},
     "outputs": [
      {
       "output_type": "stream",
       "stream": "stdout",
       "text": [
        "Populating the interactive namespace from numpy and matplotlib\n"
       ]
      },
      {
       "output_type": "stream",
       "stream": "stderr",
       "text": [
        "/Users/dsoto/anaconda/lib/python3.3/site-packages/matplotlib/mathtext.py:46: UserWarning: Due to a bug in pyparsing <= 2.0.0 on Python 3.x, packrat parsing has been disabled.  Mathtext rendering will be much slower as a result.  Install pyparsing 2.0.0 or later to improve performance.\n",
        "  warn(\"Due to a bug in pyparsing <= 2.0.0 on Python 3.x, packrat parsing \"\n"
       ]
      },
      {
       "metadata": {},
       "output_type": "pyout",
       "prompt_number": 9,
       "text": [
        "[<matplotlib.lines.Line2D at 0x107009650>]"
       ]
      },
      {
       "metadata": {},
       "output_type": "display_data",
       "png": "[encoded data removed]",
       "text": [
        "<matplotlib.figure.Figure at 0x105fce210>"
       ]
      }
     ],
     "prompt_number": 9
    },
    {
     "cell_type": "code",
     "collapsed": false,
     "input": [
      "date = np.datetime64('2013-12-26T09:30Z')\n",
      "print(date)\n",
      "print(date.astype(object))\n",
      "panel.power(date.astype(object))"
     ],
     "language": "python",
     "metadata": {},
     "outputs": [
      {
       "output_type": "stream",
       "stream": "stdout",
       "text": [
        "2013-12-26T03:30-0600\n",
        "2013-12-26 09:30:00\n"
       ]
      },
      {
       "metadata": {},
       "output_type": "pyout",
       "prompt_number": 7,
       "text": [
        "129.20001667249616"
       ]
      }
     ],
     "prompt_number": 7
    },
    {
     "cell_type": "code",
     "collapsed": false,
     "input": [],
     "language": "python",
     "metadata": {},
     "outputs": []
    }
   ],
   "metadata": {}
  }
 ]
}