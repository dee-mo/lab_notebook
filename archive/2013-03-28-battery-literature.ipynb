{
 "metadata": {
  "name": "2013-03-28-battery-literature"
 },
 "nbformat": 3,
 "nbformat_minor": 0,
 "worksheets": [
  {
   "cells": [
    {
     "cell_type": "markdown",
     "metadata": {},
     "source": [
      "# 2013-03-28\n",
      "\n",
      "# Battery literature review"
     ]
    },
    {
     "cell_type": "markdown",
     "metadata": {},
     "source": [
      "# questions\n",
      "\n",
      "- need source for lead acid cycle life and round trip efficiency\n",
      "- need source for li-ion cycle life and round trip efficiency\n",
      "- which manufacturers make lithium ion grid storage batteries?\n",
      "\n",
      "# a nation-sized battery\n",
      "\n",
      "- william pickard\n",
      "- energy policy\n",
      "\n",
      "# do the math blog\n",
      "\n",
      "- tom murphy\n",
      "\n",
      "# wikipedia \n",
      "\n",
      "# lifetime modelling of lead acid batteries\n",
      "\n",
      "- riso national laboratory\n",
      "- shows nearly constant total delivered energy for any discharge depth\n",
      "  (p. 23)\n",
      "- also touches on the system characteristics (intermittency, power\n",
      "  demand, etc...) and how they affect lifetime\n",
      "\n",
      "\n"
     ]
    },
    {
     "cell_type": "code",
     "collapsed": false,
     "input": [],
     "language": "python",
     "metadata": {},
     "outputs": []
    }
   ],
   "metadata": {}
  }
 ]
}