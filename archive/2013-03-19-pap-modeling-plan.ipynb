{
 "metadata": {
  "name": "2013-03-19-pap-modeling-plan"
 },
 "nbformat": 3,
 "nbformat_minor": 0,
 "worksheets": [
  {
   "cells": [
    {
     "cell_type": "markdown",
     "metadata": {},
     "source": [
      "# 2013-03-19\n",
      "# Modeling Architecture for microgrid consumption\n",
      "The objective is to build a model that allows for the simulation of the energy consumption of a village.  This lab book entry serves as a rough draft for the documentation for the code.\n",
      "\n",
      "\n",
      "## Inputs\n",
      "- Distribution of appliance ownership among customers\n",
      "- Appliance characteristics in a village\n",
      "\n",
      "\n",
      "## Assumptions\n",
      "- All appliances within a given type of appliance are identical\n",
      "- Customer behavior and preferences are identical\n",
      "\n",
      "\n",
      "## Outputs\n",
      "- HOMER simulation of least cost storage and generation\n",
      "- Timeseries of energy consumption among consumers\n",
      "- Understanding of the relative contribution of each type of appliance\n",
      "\n",
      "\n",
      "# Information Flow\n",
      "\n",
      "## Survey data entry\n",
      "Survey data from the microgrid is in a CSV format.  This is converted to columns of appliance ownership among customers.  Each of these vectors is for an appliance type.  The i-th entry is the number of appliances of that type owned by the i-th customer.\n",
      "\n",
      "    function [measured_appliance_ownership] = parse_survey_data(csv survey files)\n",
      "\n",
      "## Measured survey to extrapolated survey data\n",
      "\n",
      "A probability distribution is created from the measured survey data and then for the population to be synthesized, a random distribution is sampled that should be representative of the measured data.  The output data from this stage should be in a format that allows for simple conversion by the next.\n",
      "\n",
      "    function [synthesized_appliance_ownership] = extrapolate_appliance_ownership(measured_appliance_ownership)\n",
      "\n",
      "## Appliance characteristics\n",
      "\n",
      "Each type of appliance will be characterized by its power and time series.  An array of structs is the leading candidate for storing this information.  Since we don't have individual appliance power series to measure against, we will have to make our best guess at the transition probabilities that will define the behavior over time.\n",
      "\n",
      "## Extrapolated survey data to simulated time series\n",
      "\n",
      "A time series of the demanded power for each appliance is generated.  Each appliance type is modeled by its power and a markov transition matrix defining its likelihood of being on or off.  For each appliance that a customer owns, a time series of the on off state is generated and converted to a timeseries of power.\n",
      "\n",
      "These time series are summed by appliance type as well as customer and for the entire microgrid.\n",
      "\n",
      "    function [village_load_data] = generate_time_series(appliance_ownership_data,\n",
      "                                                        appliance_characteristics)\n",
      "\n",
      "Internally, we will store a 3-D array of the data indexed by\n",
      "\n",
      "- customer\n",
      "- appliance type\n",
      "- time steps\n",
      "\n",
      "If there are multiple appliances of a single type, their time series will be generated individually but accumulated together.\n",
      "\n",
      "## Microgrid simulation\n",
      "\n",
      "These time series are used as input to a HOMER simulation.  This allows for the variation of appliance behavior that can help us understand how specific interventions such as efficient lighting will improve overall grid perfomance."
     ]
    },
    {
     "cell_type": "code",
     "collapsed": false,
     "input": [],
     "language": "python",
     "metadata": {},
     "outputs": []
    }
   ],
   "metadata": {}
  }
 ]
}