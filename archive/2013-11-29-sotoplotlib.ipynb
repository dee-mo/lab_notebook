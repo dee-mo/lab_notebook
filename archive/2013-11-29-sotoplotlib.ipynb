{
 "metadata": {
  "name": ""
 },
 "nbformat": 3,
 "nbformat_minor": 0,
 "worksheets": [
  {
   "cells": [
    {
     "cell_type": "markdown",
     "metadata": {},
     "source": [
      "# SotoPlotLib\n",
      "\n",
      "I installed a custom package with some matplotlib convenience functions.  \n",
      "\n",
      "It is currently installed in both 2.7 and 3.3 anaconda environments.  \n",
      "\n",
      "## relative import\n",
      "\n",
      "I chased my tail for hours until I saw that a relative import (.module) was needed to prevent what was likely a name collision from causing me headaches.\n",
      "\n",
      "## development version\n",
      "\n",
      "I used \n",
      "\n",
      "    pip install -e .\n",
      "    \n",
      "pointing at my development directory to instantly reflect changes in the module.  By also changing my ipython config file, any changes will be immediately visible when functions are used.  This works my modifying my `easy_install.pth` file to include a link to my sotoplotlib repo.\n",
      "\n"
     ]
    },
    {
     "cell_type": "code",
     "collapsed": false,
     "input": [],
     "language": "python",
     "metadata": {},
     "outputs": []
    }
   ],
   "metadata": {}
  }
 ]
}