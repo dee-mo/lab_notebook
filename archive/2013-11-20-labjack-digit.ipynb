{
 "metadata": {
  "name": ""
 },
 "nbformat": 3,
 "nbformat_minor": 0,
 "worksheets": [
  {
   "cells": [
    {
     "cell_type": "markdown",
     "metadata": {},
     "source": [
      "# LabJack digit device\n",
      "\n",
      "This is a hack to use the Digit as a thermometer by polling the recent temperature reading."
     ]
    },
    {
     "cell_type": "code",
     "collapsed": false,
     "input": [
      "import datetime\n",
      "import signal\n",
      "from labjack import ljm"
     ],
     "language": "python",
     "metadata": {},
     "outputs": []
    },
    {
     "cell_type": "code",
     "collapsed": false,
     "input": [
      "def read_temp():\n",
      "    return ljm.eReadName(1, \"DGT_TEMPERATURE_LATEST_RAW\")\n",
      "\n",
      "def read_time():\n",
      "    return datetime.datetime.now()"
     ],
     "language": "python",
     "metadata": {},
     "outputs": []
    },
    {
     "cell_type": "code",
     "collapsed": false,
     "input": [
      "handle = ljm.openS(\"ANY\", \"ANY\", \"ANY\")\n"
     ],
     "language": "python",
     "metadata": {},
     "outputs": []
    },
    {
     "cell_type": "code",
     "collapsed": false,
     "input": [],
     "language": "python",
     "metadata": {},
     "outputs": []
    },
    {
     "cell_type": "code",
     "collapsed": false,
     "input": [
      "def getnow(signum, fram):\n",
      "    temp = read_temp()\n",
      "    time = read_time()\n",
      "    print(temp, time)\n",
      "    \n",
      "# discard 4 lowest bits for reading\n",
      "temp_count = int(read_temp())\n",
      "print hex(temp_count)\n",
      "print int(hex(temp_count >> 4), 16)* 0.0625\n",
      "print temp_count / 16 * 0.0625"
     ],
     "language": "python",
     "metadata": {},
     "outputs": [
      {
       "output_type": "stream",
       "stream": "stdout",
       "text": [
        "0x1e10\n",
        "30.0625\n",
        "30.0625\n"
       ]
      }
     ],
     "prompt_number": 157
    },
    {
     "cell_type": "code",
     "collapsed": false,
     "input": [
      "(read_temp()/16) * 0.0625"
     ],
     "language": "python",
     "metadata": {},
     "outputs": [
      {
       "metadata": {},
       "output_type": "pyout",
       "prompt_number": 198,
       "text": [
        "30.375"
       ]
      }
     ],
     "prompt_number": 198
    },
    {
     "cell_type": "code",
     "collapsed": false,
     "input": [
      "signal.signal(signal.SIGALRM, getnow)\n",
      "signal.setitimer(signal.ITIMER_REAL, 5.0, 5.0)"
     ],
     "language": "python",
     "metadata": {},
     "outputs": []
    },
    {
     "cell_type": "code",
     "collapsed": false,
     "input": [
      "while True:\n",
      "    signal.pause()"
     ],
     "language": "python",
     "metadata": {},
     "outputs": []
    },
    {
     "cell_type": "code",
     "collapsed": false,
     "input": [],
     "language": "python",
     "metadata": {},
     "outputs": [
      {
       "metadata": {},
       "output_type": "pyout",
       "prompt_number": 148,
       "text": [
        "0.0"
       ]
      }
     ],
     "prompt_number": 148
    },
    {
     "cell_type": "code",
     "collapsed": false,
     "input": [],
     "language": "python",
     "metadata": {},
     "outputs": [
      {
       "metadata": {},
       "output_type": "pyout",
       "prompt_number": 188,
       "text": [
        "0.0"
       ]
      }
     ],
     "prompt_number": 188
    },
    {
     "cell_type": "code",
     "collapsed": false,
     "input": [
      "# see how much data\n",
      "num_bytes = ljm.eReadName(1, \"DGT_STORED_BYTES\")\n",
      "print(num_bytes)\n",
      "\n",
      "#reset flash read pointer\n",
      "\n",
      "ljm.eWriteName(1, \"DGT_pEXTERN_FLASH_READ\", 0)\n",
      "ljm.eWriteName(1, \"DGT_SAVE_CHANGES\", 1)\n",
      "\n",
      "#print(ljm.eReadAddress(1, 22042, ljm.constants.UINT16))\n",
      "\n",
      "for i in range(10):\n",
      "    read_address = ljm.eReadName(1, \"DGT_pEXTERN_FLASH_READ\")\n",
      "    print(read_address)\n",
      "    val = ljm.eReadName(1, \"DGT_EXTERN_FLASH_READ\")\n",
      "    #if val != 65535.0:\n",
      "    print(val)"
     ],
     "language": "python",
     "metadata": {},
     "outputs": [
      {
       "output_type": "stream",
       "stream": "stdout",
       "text": [
        "0.0\n",
        "0.0\n",
        "65535.0\n",
        "2.0"
       ]
      },
      {
       "output_type": "stream",
       "stream": "stdout",
       "text": [
        "\n",
        "65535.0\n",
        "4.0\n",
        "65535.0\n",
        "6.0\n",
        "65535.0\n",
        "8.0\n",
        "65535.0\n",
        "10.0\n",
        "65535.0\n",
        "12.0\n",
        "65535.0\n",
        "14.0\n",
        "65535.0\n",
        "16.0\n",
        "65535.0\n",
        "18.0\n",
        "65535.0\n"
       ]
      }
     ],
     "prompt_number": 205
    },
    {
     "cell_type": "code",
     "collapsed": false,
     "input": [
      "# configure device\n",
      "\n",
      "ljm.eWriteName(1, \"DGT_LOG_LIGHT\", 0)\n",
      "ljm.eWriteName(1, \"DGT_INDEX_LOG_INTERVAL\", 2)\n",
      "ljm.eWriteName(1, \"DGT_SAVE_CHANGES\", 1)"
     ],
     "language": "python",
     "metadata": {},
     "outputs": [],
     "prompt_number": 184
    },
    {
     "cell_type": "code",
     "collapsed": false,
     "input": [
      "ljm.eReadName(1, \"DGT_LOG_LIGHT\")"
     ],
     "language": "python",
     "metadata": {},
     "outputs": [
      {
       "metadata": {},
       "output_type": "pyout",
       "prompt_number": 194,
       "text": [
        "0.0"
       ]
      }
     ],
     "prompt_number": 194
    },
    {
     "cell_type": "code",
     "collapsed": false,
     "input": [
      "# erase device\n",
      "ljm.eWriteName(1, \"DGT_EXTERN_FLASH_bkERASE\", 37157)\n",
      "import time\n",
      "time.sleep(10)\n",
      "# set pointer\n",
      "ljm.eWriteName(1, \"DGT_pEXTERN_FLASH_WRITE\", 0)\n",
      "ljm.eWriteName(1, \"DGT_SAVE_CHANGES\", 1)"
     ],
     "language": "python",
     "metadata": {},
     "outputs": [],
     "prompt_number": 185
    },
    {
     "cell_type": "code",
     "collapsed": false,
     "input": [
      "ljm.eReadName(1, \"DGT_EXTERN_FLASH_WRITE\")"
     ],
     "language": "python",
     "metadata": {},
     "outputs": [
      {
       "ename": "LJMError",
       "evalue": "LJM library error code 1202 LJME_MBE2_ILLEGAL_DATA_ADDRESS",
       "output_type": "pyerr",
       "traceback": [
        "\u001b[0;31m---------------------------------------------------------------------------\u001b[0m\n\u001b[0;31mLJMError\u001b[0m                                  Traceback (most recent call last)",
        "\u001b[0;32m<ipython-input-195-180b16b2d1eb>\u001b[0m in \u001b[0;36m<module>\u001b[0;34m()\u001b[0m\n\u001b[0;32m----> 1\u001b[0;31m \u001b[0mljm\u001b[0m\u001b[0;34m.\u001b[0m\u001b[0meReadName\u001b[0m\u001b[0;34m(\u001b[0m\u001b[0;36m1\u001b[0m\u001b[0;34m,\u001b[0m \u001b[0;34m\"DGT_EXTERN_FLASH_WRITE\"\u001b[0m\u001b[0;34m)\u001b[0m\u001b[0;34m\u001b[0m\u001b[0m\n\u001b[0m",
        "\u001b[0;32m/Users/dsoto/anaconda/python.app/Contents/lib/python2.7/site-packages/labjack/ljm/ljm.pyc\u001b[0m in \u001b[0;36meReadName\u001b[0;34m(handle, name)\u001b[0m\n\u001b[1;32m    448\u001b[0m     \u001b[0merror\u001b[0m \u001b[0;34m=\u001b[0m \u001b[0m_staticLib\u001b[0m\u001b[0;34m.\u001b[0m\u001b[0mLJM_eReadName\u001b[0m\u001b[0;34m(\u001b[0m\u001b[0mhandle\u001b[0m\u001b[0;34m,\u001b[0m \u001b[0mname\u001b[0m\u001b[0;34m.\u001b[0m\u001b[0mencode\u001b[0m\u001b[0;34m(\u001b[0m\u001b[0;34m\"ascii\"\u001b[0m\u001b[0;34m)\u001b[0m\u001b[0;34m,\u001b[0m \u001b[0mctypes\u001b[0m\u001b[0;34m.\u001b[0m\u001b[0mbyref\u001b[0m\u001b[0;34m(\u001b[0m\u001b[0mcVal\u001b[0m\u001b[0;34m)\u001b[0m\u001b[0;34m)\u001b[0m\u001b[0;34m\u001b[0m\u001b[0m\n\u001b[1;32m    449\u001b[0m     \u001b[0;32mif\u001b[0m \u001b[0merror\u001b[0m \u001b[0;34m!=\u001b[0m \u001b[0merrorcodes\u001b[0m\u001b[0;34m.\u001b[0m\u001b[0mNOERROR\u001b[0m\u001b[0;34m:\u001b[0m\u001b[0;34m\u001b[0m\u001b[0m\n\u001b[0;32m--> 450\u001b[0;31m         \u001b[0;32mraise\u001b[0m \u001b[0mLJMError\u001b[0m\u001b[0;34m(\u001b[0m\u001b[0merror\u001b[0m\u001b[0;34m)\u001b[0m\u001b[0;34m\u001b[0m\u001b[0m\n\u001b[0m\u001b[1;32m    451\u001b[0m \u001b[0;34m\u001b[0m\u001b[0m\n\u001b[1;32m    452\u001b[0m     \u001b[0;32mreturn\u001b[0m \u001b[0mcVal\u001b[0m\u001b[0;34m.\u001b[0m\u001b[0mvalue\u001b[0m\u001b[0;34m\u001b[0m\u001b[0m\n",
        "\u001b[0;31mLJMError\u001b[0m: LJM library error code 1202 LJME_MBE2_ILLEGAL_DATA_ADDRESS"
       ]
      }
     ],
     "prompt_number": 195
    },
    {
     "cell_type": "code",
     "collapsed": false,
     "input": [],
     "language": "python",
     "metadata": {},
     "outputs": []
    }
   ],
   "metadata": {}
  }
 ]
}