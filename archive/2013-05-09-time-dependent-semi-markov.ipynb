{
 "metadata": {
  "name": "2013-05-09-time-dependent-semi-markov"
 },
 "nbformat": 3,
 "nbformat_minor": 0,
 "worksheets": [
  {
   "cells": [
    {
     "cell_type": "markdown",
     "metadata": {},
     "source": [
      "# Flowchart\n",
      "\n",
      "- start\n",
      "- select starting states\n",
      "- set start time\n",
      "- randomly sample next state based on time-dep matrix\n",
      "- randomly sample duration based on time-dep matrix\n",
      "- randomly sample emission based on time-dep matrix\n",
      "- increment time\n",
      "- decrement remaining duration\n",
      "- if duration over, go to (select transition matrix for time)\n",
      "- if duration not over, go to (randomly sample emission)"
     ]
    },
    {
     "cell_type": "code",
     "collapsed": false,
     "input": [],
     "language": "python",
     "metadata": {},
     "outputs": []
    },
    {
     "cell_type": "code",
     "collapsed": false,
     "input": [],
     "language": "python",
     "metadata": {},
     "outputs": []
    }
   ],
   "metadata": {}
  }
 ]
}