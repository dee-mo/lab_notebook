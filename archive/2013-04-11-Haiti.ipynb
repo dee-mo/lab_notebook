{
 "metadata": {
  "name": "2013-04-11-Haiti"
 },
 "nbformat": 3,
 "nbformat_minor": 0,
 "worksheets": [
  {
   "cells": [
    {
     "cell_type": "markdown",
     "metadata": {},
     "source": [
      "# 2013-04-11\n",
      "# Haiti work\n",
      "\n",
      "Looking at HOMER simulations for Haiti prepared by Dan Schnitzer.  I'm not sure that these are finished, since some of the components don't have a graphical connection to the bus bars.  From the files, it appears that Dan has started looking at grids with CFL vs. LED lighting.  He also has a couple of files that have data on a minute timebase. \n",
      "\n",
      "Dual generators is interesting, if fuel cost dominates, having the capital expenditure from a second generator could be cost effective to avoid operating in a low efficiency regime.  I need to review screening curves and see if there is a simple way to estimate the economics of these choices without a full simulation.  This is starting to remind me of other architecture possibilities such as charging the batteries with a generator so that the generator is operating close to its optimal point.  We need to determine the effective efficiency to measure the savings potential of these ideas.\n",
      "\n",
      "If you know the efficiency curve of the generator and the \n",
      "\n",
      "\n",
      "    port-a-piment_CFL-solar.hmr\n",
      "\n",
      "- has a large and small generator hooked up\n",
      "- also PV load\n"
     ]
    },
    {
     "cell_type": "code",
     "collapsed": false,
     "input": [],
     "language": "python",
     "metadata": {},
     "outputs": []
    }
   ],
   "metadata": {}
  }
 ]
}