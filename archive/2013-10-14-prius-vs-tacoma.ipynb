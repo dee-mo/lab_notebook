{
 "metadata": {
  "name": "2013-10-14-prius-vs-tacoma"
 },
 "nbformat": 3,
 "nbformat_minor": 0,
 "worksheets": [
  {
   "cells": [
    {
     "cell_type": "markdown",
     "metadata": {},
     "source": [
      "# Per Mile cost for Honda Civic and Honda Civic Hybrid\n",
      "\n",
      "The 2013 Honda Civic Sedan is $18,165 starting price and has a 28 city 39 highway mileage rating. \n",
      "\n",
      "The 2013 Honda Hybrid Civic Sedan has a $24360 starting price and 44 city and 44 highway milage rating.\n",
      "\n",
      "We can slide a scale from 100% city driving to 100% highway driving.  We calculate the monthly cost over identical finance periods and interest rates and then add the cost of gasoline for each month.  We should find the monthly milage for which the two cars are equal in monthly cost."
     ]
    },
    {
     "cell_type": "code",
     "collapsed": false,
     "input": [
      "%pylab inline\n",
      "import numpy as np\n",
      "\n",
      "def monthly_finance(principal):\n",
      "    return principal / 1000. * 22.13"
     ],
     "language": "python",
     "metadata": {},
     "outputs": [
      {
       "output_type": "stream",
       "stream": "stdout",
       "text": [
        "\n",
        "Welcome to pylab, a matplotlib-based Python environment [backend: module://IPython.zmq.pylab.backend_inline].\n",
        "For more information, type 'help(pylab)'.\n"
       ]
      }
     ],
     "prompt_number": 27
    },
    {
     "cell_type": "code",
     "collapsed": false,
     "input": [
      "prius = {}\n",
      "tacoma = {}\n",
      "prius['monthly'] = monthly_finance(24000)\n",
      "tacoma['monthly'] = monthly_finance(17875)"
     ],
     "language": "python",
     "metadata": {},
     "outputs": [],
     "prompt_number": 28
    },
    {
     "cell_type": "code",
     "collapsed": false,
     "input": [
      "def total(car, miles, milage): \n",
      "    car['total'] = car['monthly'] + miles / milage * 3.5"
     ],
     "language": "python",
     "metadata": {},
     "outputs": [],
     "prompt_number": 29
    },
    {
     "cell_type": "code",
     "collapsed": false,
     "input": [
      "miles = np.linspace(0., 5000., 10)\n",
      "total(prius, miles, 48.)\n",
      "total(tacoma, miles, 25.)"
     ],
     "language": "python",
     "metadata": {},
     "outputs": [],
     "prompt_number": 40
    },
    {
     "cell_type": "code",
     "collapsed": false,
     "input": [
      "plot(miles, tacoma['total'], label='Gasoline')\n",
      "plot(miles, prius['total'], label='Hybrid')\n",
      "xlabel('Monthly Miles')\n",
      "ylabel('Monthly Cost')\n",
      "#ylim((600, 800))\n",
      "#xlim((2100, 2300))\n",
      "title('Monthly Cost and Miles Driven')\n",
      "legend(loc='best')\n",
      "grid()\n",
      "show()"
     ],
     "language": "python",
     "metadata": {},
     "outputs": [
      {
       "output_type": "display_data",
       "png": "[encoded data removed]"
      }
     ],
     "prompt_number": 42
    },
    {
     "cell_type": "code",
     "collapsed": false,
     "input": [
      "prius['monthly']`"
     ],
     "language": "python",
     "metadata": {},
     "outputs": [
      {
       "output_type": "pyout",
       "prompt_number": 32,
       "text": [
        "531.12"
       ]
      }
     ],
     "prompt_number": 32
    },
    {
     "cell_type": "markdown",
     "metadata": {},
     "source": [
      "You need to drive hundreds of pure highway miles to break even.  If you are all city miles, the breakeven is much better, at about 70 miles per day.  \n",
      "\n",
      "Future work is to find how the crossover point is affected by gas price, finance rate, and percentage of highway vs city driving."
     ]
    },
    {
     "cell_type": "code",
     "collapsed": false,
     "input": [
      "tacoma['monthly']"
     ],
     "language": "python",
     "metadata": {},
     "outputs": [
      {
       "output_type": "pyout",
       "prompt_number": 33,
       "text": [
        "395.57374999999996"
       ]
      }
     ],
     "prompt_number": 33
    },
    {
     "cell_type": "code",
     "collapsed": false,
     "input": [
      "3.5/48"
     ],
     "language": "python",
     "metadata": {},
     "outputs": [
      {
       "output_type": "pyout",
       "prompt_number": 34,
       "text": [
        "0.07291666666666667"
       ]
      }
     ],
     "prompt_number": 34
    },
    {
     "cell_type": "code",
     "collapsed": false,
     "input": [
      "3.5/25"
     ],
     "language": "python",
     "metadata": {},
     "outputs": [
      {
       "output_type": "pyout",
       "prompt_number": 35,
       "text": [
        "0.14"
       ]
      }
     ],
     "prompt_number": 35
    },
    {
     "cell_type": "code",
     "collapsed": false,
     "input": [
      "(531.12 - 395.57) / (0.14 - 0.0729)"
     ],
     "language": "python",
     "metadata": {},
     "outputs": [
      {
       "output_type": "pyout",
       "prompt_number": 36,
       "text": [
        "2020.1192250372578"
       ]
      }
     ],
     "prompt_number": 36
    },
    {
     "cell_type": "code",
     "collapsed": false,
     "input": [],
     "language": "python",
     "metadata": {},
     "outputs": [],
     "prompt_number": 36
    }
   ],
   "metadata": {}
  }
 ]
}