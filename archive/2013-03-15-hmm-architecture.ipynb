{
 "metadata": {
  "name": "2013-03-15-hmm-architecture"
 },
 "nbformat": 3,
 "nbformat_minor": 0,
 "worksheets": [
  {
   "cells": [
    {
     "cell_type": "markdown",
     "metadata": {},
     "source": [
      "# 2013-03-15\n",
      "# Modeling architecture"
     ]
    },
    {
     "cell_type": "markdown",
     "metadata": {},
     "source": [
      "If we know the type and number of appliances in a grid and are willing to provide estimates for a transition matrix for each, we can model the overall grid consumption by creating and sampling Markov chains.  \n",
      "\n",
      "For each grid, we need to know\n",
      "\n",
      "- how many appliances of each type\n",
      "- the transition matrix for each type of appliance\n",
      "- the power for each appliance in each of its states\n",
      "\n",
      "I have prototyped a model using structs to store the matrices and other appliance characteristics.\n",
      "\n",
      "The future questions revolve around the best strategies for inferring transition matrices from the observed data.  The existing functions in MATLAB for this assume a single hidden model.  Brute force, this is a transition matrix for a chain with 2^N states.  \n",
      "\n",
      "The usual approach I see in the literature is a factorial hidden markov model.  This is essentially how the modeling works so far, but I don't know how to infer transition matrices from the observed sequence in this case.  I also don't think there are any MATLAB libraries available for this.  However Zoubin Ghahramani has a matlab code up on his site at\n",
      "http://mlg.eng.cam.ac.uk/zoubin/software.html  I estimate that it would take me at least 20 hours to get up to speed on this.  We can weigh the importance of 'fitting' our model to the data against this effort and complexity.\n",
      "\n"
     ]
    },
    {
     "cell_type": "code",
     "collapsed": false,
     "input": [],
     "language": "python",
     "metadata": {},
     "outputs": []
    }
   ],
   "metadata": {}
  }
 ]
}