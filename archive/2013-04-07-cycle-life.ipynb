{
 "metadata": {
  "name": "2013-04-07-cycle-life"
 },
 "nbformat": 3,
 "nbformat_minor": 0,
 "worksheets": [
  {
   "cells": [
    {
     "cell_type": "markdown",
     "metadata": {},
     "source": [
      "# 2013-04-07\n",
      "# Battery chemistry cycle life\n",
      "\n",
      "I emailed Dan Steingart at Princeton to see if he knew of any good cycle life studies on popular battery chemistries.  He said that this data is difficult to find but quoted the following values."
     ]
    },
    {
     "cell_type": "markdown",
     "metadata": {},
     "source": [
      "<table border=\"1\">\n",
      "    <tr>\n",
      "        <td><b>Chemistry</b></td>\n",
      "        <td><b>Depth of Discharge</b></td>\n",
      "        <td><b>Number of Cycles</b></td>\n",
      "    </tr>\n",
      "    <tr>\n",
      "        <td>Lead Acid</td>\n",
      "        <td>80% DOD</td>\n",
      "        <td>500</td>\n",
      "    </tr>\n",
      "    <tr>\n",
      "        <td>Lead Acid</td>\n",
      "        <td>20% (sulfonation control)</td>\n",
      "        <td>3000</td>\n",
      "    </tr>\n",
      "    <tr>\n",
      "        <td>Lithium Ion (LiNMCO2)</td>\n",
      "        <td>80%</td>\n",
      "        <td>2000</td>\n",
      "    </tr>\n",
      "    <tr>\n",
      "        <td>Lithium Iron Phosphate (LiFePO4)</td>\n",
      "        <td>80%</td>\n",
      "        <td>3000</td>\n",
      "    </tr>\n",
      "</table>"
     ]
    },
    {
     "cell_type": "markdown",
     "metadata": {},
     "source": [
      "I'd like to take these and then do some quick calculations on the delivered cost of electricity over the life of the storage device."
     ]
    },
    {
     "cell_type": "code",
     "collapsed": false,
     "input": [],
     "language": "python",
     "metadata": {},
     "outputs": []
    }
   ],
   "metadata": {}
  }
 ]
}