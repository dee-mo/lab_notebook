{
 "metadata": {
  "name": "2013-03-27-rice-cooker"
 },
 "nbformat": 3,
 "nbformat_minor": 0,
 "worksheets": [
  {
   "cells": [
    {
     "cell_type": "markdown",
     "metadata": {},
     "source": [
      "# 2013-03-27\n",
      "## Rice cookers\n",
      "\n",
      "After reading the Humboldt paper on the GridShare project, \n",
      "\n",
      "http://iopscience.iop.org/1748-9326/8/1/014018\n",
      "\n",
      "it seemed clear that rice cooker efficiency could improve the health and consumer energy expenditures on microhydro grids in South Asia.  I'd like to make some quick estimates of how the efficiency of these rice cookers could be improved.\n",
      "\n",
      "## Loss mechanisms\n",
      "\n",
      "- Conduction\n",
      "- Radiation\n",
      "- Evaporation\n",
      "\n",
      "By gaining estimates of these, we can determine whether or not the fraction of energy being lost is significant compared to the amount of energy needed to cook food.\n",
      "\n",
      "## Measurement\n",
      "\n",
      "I have a small crockpot that could be used to determine the overall heat loss.  Since we can accurately estimate the heat capacity of the pot, the water within it, the electrical power delivered, and the temperature of the water and surroundings, we can estimate the rate of heat loss.  Based on this we could model and estimate the improvement available by including insulation.  Hopefully there is a factor of 2 to be gained somewhere."
     ]
    },
    {
     "cell_type": "markdown",
     "metadata": {},
     "source": [
      "## Publication\n",
      "\n",
      "This work could be added to the work on refrigerator insulation to create a paper looking at energy improvements in the developing world based on improved insulation.  "
     ]
    },
    {
     "cell_type": "code",
     "collapsed": false,
     "input": [],
     "language": "python",
     "metadata": {},
     "outputs": []
    }
   ],
   "metadata": {}
  }
 ]
}