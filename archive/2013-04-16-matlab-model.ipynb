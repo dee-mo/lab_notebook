{
 "metadata": {
  "name": "2013-04-16-matlab-model"
 },
 "nbformat": 3,
 "nbformat_minor": 0,
 "worksheets": [
  {
   "cells": [
    {
     "cell_type": "markdown",
     "metadata": {},
     "source": [
      "## matlab model work\n",
      "\n",
      "I am adding a different simulation method for creating a time series.  Currently, there is a markov chain simulation.  I want to be able to add and choose between different models for each appliance type.  This requires some changes to the code.  First, each appliance should have a way to specify the type of model being used.  Second, there needs to be code that calls the appropriate model type and parameters during the simulation."
     ]
    },
    {
     "cell_type": "markdown",
     "metadata": {},
     "source": [
      "## appliance model specification\n",
      "\n",
      "In load_appliance_parameters.m I specify markov model specifications for each type of appliance in a struct.  How will I do this with multiple models?  In python, I'd be tempted to use a dictionary of objects where each object had a \"generate_time_series\" method.  Maybe the same could be done in matlab?"
     ]
    },
    {
     "cell_type": "code",
     "collapsed": false,
     "input": [],
     "language": "python",
     "metadata": {},
     "outputs": []
    }
   ],
   "metadata": {}
  }
 ]
}