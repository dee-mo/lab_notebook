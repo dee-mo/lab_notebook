{
 "metadata": {
  "name": "2013-04-12-send-email"
 },
 "nbformat": 3,
 "nbformat_minor": 0,
 "worksheets": [
  {
   "cells": [
    {
     "cell_type": "markdown",
     "metadata": {},
     "source": [
      "I revisited this script when Mitchell asked me about the SD card to CSV script.  It always bugged me about the subject line, so I poked around and realized that you just put 'SUBJECT:' in the body of the message.  This could be useful for long scripts in the future."
     ]
    },
    {
     "cell_type": "code",
     "collapsed": false,
     "input": [
      "def fail_mail(subject, message):\n",
      "    import smtplib\n",
      "    fromaddr = 'drsautomate@gmail.com'\n",
      "    toaddr = 'drdrsoto@gmail.com'\n",
      "    msg = '\\n'.join(('SUBJECT: %s' % subject, message))\n",
      "    username = 'drsautomate'\n",
      "    password = username[::-1]\n",
      "\n",
      "    server = smtplib.SMTP('smtp.gmail.com:587')\n",
      "    server.starttls()\n",
      "    server.login(username, password)\n",
      "    server.sendmail(fromaddr, toaddr, msg)\n",
      "    server.quit()"
     ],
     "language": "python",
     "metadata": {},
     "outputs": [],
     "prompt_number": 1
    },
    {
     "cell_type": "code",
     "collapsed": false,
     "input": [
      "fail_mail('this subject', 'some details')"
     ],
     "language": "python",
     "metadata": {},
     "outputs": [],
     "prompt_number": 2
    }
   ],
   "metadata": {}
  }
 ]
}