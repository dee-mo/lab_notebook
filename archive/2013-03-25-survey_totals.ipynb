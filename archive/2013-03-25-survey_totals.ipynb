{
 "metadata": {
  "name": "2013-03-25-survey_totals"
 },
 "nbformat": 3,
 "nbformat_minor": 0,
 "worksheets": [
  {
   "cells": [
    {
     "cell_type": "markdown",
     "metadata": {},
     "source": [
      "# 2013-03-25\n",
      "# Overall energy consumption as estimated from appliance ownership\n",
      "\n",
      "Here I estimate the overall portion of grid energy for each type of appliance by summing the number of appliances reported in the study as well as by making assumptions about the power and time of use of each type of appliance."
     ]
    },
    {
     "cell_type": "code",
     "collapsed": false,
     "input": [
      "%pylab inline\n",
      "import pandas as pd\n",
      "xf = pd.ExcelFile('/Users/dsoto/Dropbox/Haiti Micro-Grid Research/Load Survey/Load survey results 20130214.xlsx')\n",
      "survey = xf.parse('Microgrid_survey_20120903', index_col=None)\n",
      "# subselect Port a Piment respondents and place in data frame\n",
      "pap = survey[survey['city']=='P a piment']"
     ],
     "language": "python",
     "metadata": {},
     "outputs": [
      {
       "output_type": "stream",
       "stream": "stdout",
       "text": [
        "\n",
        "Welcome to pylab, a matplotlib-based Python environment [backend: module://IPython.zmq.pylab.backend_inline].\n",
        "For more information, type 'help(pylab)'.\n"
       ]
      }
     ],
     "prompt_number": 65
    },
    {
     "cell_type": "code",
     "collapsed": false,
     "input": [
      "# subselect fields containing number of appliances\n",
      "appliance_list = ['incandescent_num', 'cfl_num', 'tube_num', 'led_num',\n",
      "                  'vertfridge_num', 'chestfridge_num', 'TV_num', 'DVD_num',\n",
      "                  'radio_num', 'iron_num', 'ceilfan_num', 'floorfan_num',\n",
      "                  'mixer_num', 'laptop_num', 'other1_num', 'other2_num', 'other3_num']\n",
      "appliance_data = pap[appliance_list]\n",
      "sad = pd.DataFrame(appliance_data.sum(),columns=['num'])"
     ],
     "language": "python",
     "metadata": {},
     "outputs": [],
     "prompt_number": 66
    },
    {
     "cell_type": "markdown",
     "metadata": {},
     "source": [
      "We use the survey data to find the median power for each type of appliance and use it as an estimate for the power use of each type of appliance.  I then manually enter these into the data frame for later analysis."
     ]
    },
    {
     "cell_type": "code",
     "collapsed": false,
     "input": [
      "# output median powers\n",
      "for col in pap.columns:\n",
      "    if '_power' in col:\n",
      "        print(col, pap[col].median())"
     ],
     "language": "python",
     "metadata": {},
     "outputs": [
      {
       "output_type": "stream",
       "stream": "stdout",
       "text": [
        "gen_power 2.7\n",
        "solar_power 80.0\n",
        "inverter_power 400.0\n",
        "incandescent_power 100.0\n",
        "cfl_power 15.0\n",
        "tube_power nan\n",
        "led_power 37.5\n",
        "vertfridge_power 115.0\n",
        "chestfridge_power nan\n",
        "TV_power 89.0\n",
        "DVD_power 13.0\n",
        "radio_power 20.0\n",
        "iron_power 1200.0\n",
        "ceilfan_power 120.0\n",
        "floorfan_power 110.0\n",
        "mixer_power 350.0\n",
        "laptop_power 40.0\n",
        "other1_power 350.0\n",
        "other2_power 65.0\n",
        "other3_power 12.0\n"
       ]
      }
     ],
     "prompt_number": 75
    },
    {
     "cell_type": "code",
     "collapsed": false,
     "input": [
      "# add column for power of appliance type using assumptions\n",
      "appliance_power = {'incandescent_num':100, 'cfl_num':15, 'tube_num':15, 'led_num':10, \n",
      "                   'vertfridge_num':115, 'chestfridge_num':115, 'TV_num':90, 'DVD_num':13, 'radio_num':20,\n",
      "                   'iron_num':1200, 'ceilfan_num':120, 'floorfan_num':110, 'mixer_num':350,\n",
      "                   'laptop_num':40, 'other1_num':0, 'other2_num':0, 'other3_num':0}\n",
      "sad['power']=pd.Series(appliance_power)"
     ],
     "language": "python",
     "metadata": {},
     "outputs": [],
     "prompt_number": 71
    },
    {
     "cell_type": "code",
     "collapsed": false,
     "input": [
      "# add column for daily hours of use for each type\n",
      "appliance_hours = {'incandescent_num':6, 'cfl_num':6, 'tube_num':6, 'led_num':6, \n",
      "                   'vertfridge_num':6, 'chestfridge_num':6, 'TV_num':3, 'DVD_num':3, 'radio_num':3,\n",
      "                   'iron_num':0.5, 'ceilfan_num':3, 'floorfan_num':3, 'mixer_num':1,\n",
      "                   'laptop_num':2, 'other1_num':0, 'other2_num':0, 'other3_num':0}\n",
      "sad['hours'] = pd.Series(appliance_hours)"
     ],
     "language": "python",
     "metadata": {},
     "outputs": [],
     "prompt_number": 72
    },
    {
     "cell_type": "code",
     "collapsed": false,
     "input": [
      "# estimate of kWh per day for each type of appliance and plot\n",
      "# by multiplying the columns number, power, and time used\n",
      "(sad.num * sad.power * sad.hours / 1000).plot(kind='bar')"
     ],
     "language": "python",
     "metadata": {},
     "outputs": [
      {
       "output_type": "pyout",
       "prompt_number": 73,
       "text": [
        "<matplotlib.axes.AxesSubplot at 0x10811de10>"
       ]
      },
      {
       "output_type": "display_data",
       "png": "[encoded data removed]"
      }
     ],
     "prompt_number": 73
    },
    {
     "cell_type": "markdown",
     "metadata": {},
     "source": [
      "According to these estimates, incandescent use dominates as the largest energy use.  Depending on the true duration of use, irons could be the next highest energy consumption.  Moving to CFL or LED lighting is the clear choice for reducing this power use but it isn't clear to me how to lower ironing power consumption without further study about idle time or other behavioral factors."
     ]
    },
    {
     "cell_type": "code",
     "collapsed": false,
     "input": [],
     "language": "python",
     "metadata": {},
     "outputs": []
    }
   ],
   "metadata": {}
  }
 ]
}