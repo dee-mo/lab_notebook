{
 "metadata": {
  "name": "2013-04-17-explicit-duration"
 },
 "nbformat": 3,
 "nbformat_minor": 0,
 "worksheets": [
  {
   "cells": [
    {
     "cell_type": "markdown",
     "metadata": {},
     "source": [
      "## Explicit duration markov model"
     ]
    },
    {
     "cell_type": "markdown",
     "metadata": {},
     "source": [
      "I'll implement a simple two-state explicit duration markov model.  \n",
      "\n",
      "http://docs.scipy.org/doc/numpy/reference/routines.random.html"
     ]
    },
    {
     "cell_type": "code",
     "collapsed": false,
     "input": [
      "%pylab inline\n",
      "\n",
      "import numpy as np\n",
      "\n",
      "def get_off_duration(time_of_day):\n",
      "    return int(np.random.normal(loc=100., scale=50., size=1))\n",
      "\n",
      "def get_on_duration(time_of_day):\n",
      "    # add logic to return different distributions depending on time of day\n",
      "    return int(np.random.normal(loc=50., scale=1., size=1))\n",
      "\n",
      "# initialize model with state and duration\n",
      "current_state = 0\n",
      "duration = get_off_duration()\n",
      "time_remaining = duration\n",
      "\n",
      "num_time_steps = 1000\n",
      "\n",
      "states = np.zeros(num_time_steps)\n",
      "\n",
      "for i in range(num_time_steps):\n",
      "    states[i] = current_state\n",
      "    time_remaining -= 1\n",
      "\n",
      "    if time_remaining <= 1:\n",
      "        current_state = (current_state + 1) % 2\n",
      "        if current_state == 0:\n",
      "            time_remaining = get_off_duration()\n",
      "        elif current_state == 1:\n",
      "            time_remaining = get_on_duration()\n",
      "        \n",
      "import matplotlib.pyplot as plt\n",
      "plt.plot(states, 'kx')\n",
      "plt.show()"
     ],
     "language": "python",
     "metadata": {},
     "outputs": [
      {
       "output_type": "stream",
       "stream": "stdout",
       "text": [
        "\n",
        "Welcome to pylab, a matplotlib-based Python environment [backend: module://IPython.zmq.pylab.backend_inline].\n",
        "For more information, type 'help(pylab)'.\n"
       ]
      },
      {
       "output_type": "display_data",
       "png": "[encoded data removed]"
      }
     ],
     "prompt_number": 27
    },
    {
     "cell_type": "markdown",
     "metadata": {},
     "source": [
      "This means that each appliance must be specified by the\n",
      "\n",
      "- on power\n",
      "- off power\n",
      "- shape of distributions for on and off durations\n",
      "    - mean off duration\n",
      "    - mean on duration\n",
      "    - standard deviation of off duration\n",
      "    - standard deviation of on duration"
     ]
    },
    {
     "cell_type": "markdown",
     "metadata": {},
     "source": [
      "Time of day probabilities need to be added to this to get a more accurate simulation of the energy use.  \n",
      "\n",
      "## Television\n",
      "May be used several times in an evening.  Probability distribution of on times is likely a mixture of 30 minute intervals.\n",
      "\n",
      "## Lighting\n",
      "It may be safe to assume that lights are only on once per day.\n",
      "\n",
      "## Laptops \n",
      "Not sure about how these would be modeled and what the behaviors are.  \n",
      "\n"
     ]
    },
    {
     "cell_type": "markdown",
     "metadata": {},
     "source": [
      "The appliances currently in the survey are (light bulbs, fridges, TV, DVD, radio, irons, fans, laptop, mixers).  "
     ]
    },
    {
     "cell_type": "code",
     "collapsed": false,
     "input": [],
     "language": "python",
     "metadata": {},
     "outputs": []
    }
   ],
   "metadata": {}
  }
 ]
}