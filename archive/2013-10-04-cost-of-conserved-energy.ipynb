{
 "metadata": {
  "name": ""
 },
 "nbformat": 3,
 "nbformat_minor": 0,
 "worksheets": [
  {
   "cells": [
    {
     "cell_type": "markdown",
     "metadata": {},
     "source": [
      "# Cost of conserved energy for efficient refrigerators"
     ]
    },
    {
     "cell_type": "markdown",
     "metadata": {},
     "source": [
      "Typical refrigerators in rural environments with photovoltaic electricity tend to strain the inverters.  There are some very energy efficient refrigerator models as well but the cost for these units is much higher.\n",
      "\n",
      "We compare between two representative refrigerators.\n",
      "\n",
      "A typical refrigerator is the Haier, which is basically what we in the states might call a \"dorm room refrigerator\".\n",
      "\n",
      "### Haier\n",
      "\n",
      "- $129 purchase cost\n",
      "- 71 L capacity\n",
      "- 821 wh per day\n",
      "- HNSEW025\n",
      "\n",
      "The Sundanzer is a well-insulated refrigerator with an improved compressor allowing for much better energy performance.\n",
      "\n",
      "### Sundanzer\n",
      "\n",
      "- $700 initial cost\n",
      "- 50 L capacity\n",
      "- freezer 280 wh per day at 32C\n",
      "- refrigerator 114 wh per day at 32 C\n",
      "\n",
      "\n",
      "To compare these two options, I use the cost of conserved energy which is the ratio of the difference in finance cost over the difference in energy consumption.  This can be interpreted as the price of avoided energy allowing a direct comparison with the current or future energy costs.\n",
      "\n",
      "$ CCE = \\frac{\\textrm{annualized investment cost}}{\\textrm{annual energy savings}} $\n",
      "\n",
      "\n",
      "\n",
      "\n"
     ]
    },
    {
     "cell_type": "code",
     "collapsed": false,
     "input": [
      "%%capture\n",
      "%pylab inline"
     ],
     "language": "python",
     "metadata": {},
     "outputs": [],
     "prompt_number": 1
    },
    {
     "cell_type": "markdown",
     "metadata": {},
     "source": [
      "We set up two data dictionaries to store the refrigerator performance parameters."
     ]
    },
    {
     "cell_type": "code",
     "collapsed": false,
     "input": [
      "haier = {'initial_cost' : 129.,\n",
      "         'capacity_liter' : 71.,\n",
      "         'energy_kWh_per_day' : 0.821}\n",
      "\n",
      "sundanzer = {'initial_cost' : 700.,\n",
      "             'capacity_liter' : 50.,\n",
      "             'energy_kWh_per_day' : 0.114}"
     ],
     "language": "python",
     "metadata": {},
     "outputs": [],
     "prompt_number": 2
    },
    {
     "cell_type": "markdown",
     "metadata": {},
     "source": [
      "We calculate the annual energy savings between the two refrigerators."
     ]
    },
    {
     "cell_type": "code",
     "collapsed": false,
     "input": [
      "days_per_year = 365\n",
      "annual_energy_savings = ((haier['energy_kWh_per_day'] \n",
      "                         - sundanzer['energy_kWh_per_day']) \n",
      "                         * days_per_year)\n",
      "print(annual_energy_savings, 'kWh saved per year')"
     ],
     "language": "python",
     "metadata": {},
     "outputs": [
      {
       "output_type": "stream",
       "stream": "stdout",
       "text": [
        "258.055 kWh saved per year\n"
       ]
      }
     ],
     "prompt_number": 3
    },
    {
     "cell_type": "markdown",
     "metadata": {},
     "source": [
      "The initial cost difference between the two refrigerators is "
     ]
    },
    {
     "cell_type": "code",
     "collapsed": false,
     "input": [
      "cost_difference = sundanzer['initial_cost'] - haier['initial_cost']\n",
      "print('difference in initial purchase cost', cost_difference, 'USD')"
     ],
     "language": "python",
     "metadata": {},
     "outputs": [
      {
       "output_type": "stream",
       "stream": "stdout",
       "text": [
        "difference in initial purchase cost 571.0 USD\n"
       ]
      }
     ],
     "prompt_number": 4
    },
    {
     "cell_type": "markdown",
     "metadata": {},
     "source": [
      "We can see that the cost of conserved or avoided energy is over 2 USD per kWh\n",
      "\n",
      "$$ CCE = \\frac{\\textrm{initial cost difference}}{\\textrm{annual energy savings}} =\n",
      "\\frac{571\\ \\textrm{USD}}{258\\ \\textrm{kWh}} \n",
      "= 2.21 \\textrm{USD/kWh}$$\n",
      "\n",
      "Since photovoltaic electricity, even with expensive battery backup, has levelized costs at or below 0.50 USD/kWh, this is not a cost effective investment if paid for upfront.  "
     ]
    },
    {
     "cell_type": "markdown",
     "metadata": {},
     "source": [
      "## Impact of financing\n",
      "\n",
      "We can also calculate this over a range of financing options and visualize the result.\n",
      "We add the cost of capital and the discounted energy costs over a longer time period in this calculation.\n",
      "\n",
      "We use from Meier 1984,\n",
      "\n",
      "$ CCE = \\frac{\\textrm{investment}}{\\textrm{annual energy savings}} \\cdot \\frac{d}{1 - (1+d)^{-n}} $\n",
      "\n",
      "Where the annualized investment cost now contains the capital recovery function.\n",
      "\n",
      "## Contour plotting of cost of conserved energy\n",
      "\n",
      "Below I set up a contour plot with the interest rate on the vertical axis and the finance period in years on the horizontal axis."
     ]
    },
    {
     "cell_type": "code",
     "collapsed": false,
     "input": [
      "def CCE(rate, num_periods):\n",
      "    return ((sundanzer['initial_cost'] - haier['initial_cost']) \n",
      "            / annual_energy_savings * \n",
      "            rate / (1 - (1 + rate) ** -num_periods))\n",
      "\n",
      "num_periods = arange(1,11)\n",
      "interest_rate = linspace(0.01, 0.10, 20)\n",
      "N, D = meshgrid(num_periods, interest_rate)\n",
      "Z = CCE(D, N)\n",
      "\n",
      "cp = plt.contour(N, D, Z, \n",
      "                 levels=(1.5, 1.0, 0.75, 0.6, 0.5, 0.4, 0.3), \n",
      "                 colors='k')\n",
      "plt.clabel(cp, inline=1)\n",
      "xlabel('Years Financing')\n",
      "ylabel('Interest Rate')\n",
      "title('Cost of conserved energy for efficient refrigerator')\n",
      "show()"
     ],
     "language": "python",
     "metadata": {},
     "outputs": [
      {
       "metadata": {},
       "output_type": "display_data",
       "png": "[encoded data removed]",
       "text": [
        "<matplotlib.figure.Figure at 0x102c0c750>"
       ]
      }
     ],
     "prompt_number": 5
    },
    {
     "cell_type": "markdown",
     "metadata": {},
     "source": [
      "We can see that the cost of conserved energy is above the 0.50 USD/kWh unless we have loan times of several years at very attractive rates.  It is hard to believe that financing this attractive could be available in these rural markets.\n",
      "\n",
      "These efficient refrigerators are not designed for cost-constrained markets.  It seems plausible that an attractive market exists in these areas for a product with a reduced initial cost and improved efficiency."
     ]
    }
   ],
   "metadata": {}
  }
 ]
}