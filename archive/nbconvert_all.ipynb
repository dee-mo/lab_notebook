{
 "metadata": {
  "name": "nbconvert_all"
 },
 "nbformat": 3,
 "nbformat_minor": 0,
 "worksheets": [
  {
   "cells": [
    {
     "cell_type": "markdown",
     "metadata": {},
     "source": [
      "# sharing\n",
      "\n",
      "i'm trying to find a good way to share these with others.  linking with nbviewer not scalable.  best i can think of for now is to generate html.  i'm trying to do that in a batch but am still having some problems getting the scripting to work.\n"
     ]
    },
    {
     "cell_type": "markdown",
     "metadata": {},
     "source": [
      "# Create HTML notebook\n",
      "\n",
      "Iterate over dated ipynb files and generate html in html/ folder.  Also create index.html file with links to all files."
     ]
    },
    {
     "cell_type": "code",
     "collapsed": false,
     "input": [
      "# open up file for browser index of notebook files\n",
      "f = open('html/index.html', 'w')\n",
      "\n",
      "notebooks = !ls 2013*.ipynb\n",
      "for n in notebooks:\n",
      "    # get filename without extension\n",
      "    base = n[:n.find('.ipynb')]\n",
      "    # construct html output filename\n",
      "    output_filename = 'html/' + base + '.html'\n",
      "    # if i don't include the complete path, it fails to find 'full_html'\n",
      "    # TODO: figure out how to suppress console output\n",
      "    !/Users/dsoto/repos/nbconvert/nbconvert2.py full_html $n > $output_filename\n",
      "    # write line to html index file\n",
      "    f.write('<p><a href=\"{}.html\">{}</a></p>\\n'.format(base, n))\n",
      "f.close()"
     ],
     "language": "python",
     "metadata": {},
     "outputs": [],
     "prompt_number": 1
    },
    {
     "cell_type": "code",
     "collapsed": false,
     "input": [
      "# glob both the ipynb files and the html files\n",
      "# interate over ipynb, if not in found in html, convert"
     ],
     "language": "python",
     "metadata": {},
     "outputs": [],
     "prompt_number": 1
    },
    {
     "cell_type": "markdown",
     "metadata": {},
     "source": [
      "# Upload to website with\n",
      "\n",
      "    cd html\n",
      "    scp *.html root@50.56.226.226:/var/www/ipynb/\n"
     ]
    },
    {
     "cell_type": "code",
     "collapsed": false,
     "input": [],
     "language": "python",
     "metadata": {},
     "outputs": []
    }
   ],
   "metadata": {}
  }
 ]
}