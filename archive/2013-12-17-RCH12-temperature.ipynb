{
 "metadata": {
  "name": "2013-12-17-RCH12-temperature"
 },
 "nbformat": 3,
 "nbformat_minor": 0,
 "worksheets": [
  {
   "cells": [
    {
     "cell_type": "markdown",
     "metadata": {},
     "source": [
      "# RCH 12 Air Supply Temperature"
     ]
    },
    {
     "cell_type": "markdown",
     "metadata": {},
     "source": [
      "I have two temperature loggers that I am using.  One is a Hobo U12 and the other is a LabJack Digit.   "
     ]
    },
    {
     "cell_type": "code",
     "collapsed": false,
     "input": [
      "!head /Users/dsoto/Dropbox/RCH/RCH12-hobo.csv"
     ],
     "language": "python",
     "metadata": {},
     "outputs": [
      {
       "output_type": "stream",
       "stream": "stdout",
       "text": [
        "\ufeff\"Plot Title: RCH12\"\r",
        "\r\n",
        "\"#\",\"Date Time, GMT-08:00\",\"Temp, \u00b0C (LGR S/N: 1257433, SEN S/N: 1257433)\",\"RH, % (LGR S/N: 1257433, SEN S/N: 1257433)\",\"Intensity, Lux (LGR S/N: 1257433, SEN S/N: 1257433)\",\"Batt, V (LGR S/N: 1257433, SEN S/N: 1257433)\",\"Host Connected (LGR S/N: 1257433)\",\"End Of File (LGR S/N: 1257433)\"\r",
        "\r\n",
        "1,12/13/13 09:00:00 AM,16.558,33.999,3.9,2.99,,\r",
        "\r\n",
        "2,12/13/13 10:00:00 AM,18.247,33.058,3.9,3.01,,\r",
        "\r\n",
        "3,12/13/13 11:00:00 AM,20.198,31.744,3.9,3.01,,\r",
        "\r\n",
        "4,12/13/13 12:00:00 PM,22.369,29.543,3.9,3.03,,\r",
        "\r\n",
        "5,12/13/13 01:00:00 PM,24.629,26.148,3.9,3.03,,\r",
        "\r\n",
        "6,12/13/13 02:00:00 PM,26.622,23.232,3.9,3.03,,\r",
        "\r\n",
        "7,12/13/13 03:00:00 PM,25.720,23.757,3.9,3.03,,\r",
        "\r\n",
        "8,12/13/13 04:00:00 PM,26.061,23.780,3.9,3.03,,\r",
        "\r\n"
       ]
      }
     ],
     "prompt_number": 6
    },
    {
     "cell_type": "code",
     "collapsed": false,
     "input": [
      "import pandas as pd\n",
      "%pylab inline\n",
      "from scipy.constants.constants import C2F"
     ],
     "language": "python",
     "metadata": {},
     "outputs": [
      {
       "output_type": "stream",
       "stream": "stdout",
       "text": [
        "\n",
        "Welcome to pylab, a matplotlib-based Python environment [backend: module://IPython.zmq.pylab.backend_inline].\n",
        "For more information, type 'help(pylab)'.\n"
       ]
      }
     ],
     "prompt_number": 7
    },
    {
     "cell_type": "code",
     "collapsed": false,
     "input": [
      "# convert date string to date time properly\n",
      "# translate headers\n",
      "# convert to fahrenheit\n",
      "\n",
      "temp_data = pd.read_csv('/Users/dsoto/Dropbox/RCH/RCH12-hobo.csv', skiprows=1, parse_dates=True, index_col=1)"
     ],
     "language": "python",
     "metadata": {},
     "outputs": [],
     "prompt_number": 8
    },
    {
     "cell_type": "code",
     "collapsed": false,
     "input": [
      "temp_data['fahr'] = C2F(temp_data['Temp, \u00b0C (LGR S/N: 1257433, SEN S/N: 1257433)'])"
     ],
     "language": "python",
     "metadata": {},
     "outputs": [],
     "prompt_number": 9
    },
    {
     "cell_type": "code",
     "collapsed": false,
     "input": [
      "temp_data['fahr'].plot()"
     ],
     "language": "python",
     "metadata": {},
     "outputs": [
      {
       "output_type": "pyout",
       "prompt_number": 10,
       "text": [
        "<matplotlib.axes.AxesSubplot at 0x1073b5d10>"
       ]
      },
      {
       "output_type": "display_data",
       "png": "[encoded data removed]"
      }
     ],
     "prompt_number": 10
    },
    {
     "cell_type": "code",
     "collapsed": false,
     "input": [
      "labjack = pd.read_csv('/Users/dsoto/Dropbox/RCH/My_LabJack_Digit_12172013.csv', parse_dates=True, index_col=0)"
     ],
     "language": "python",
     "metadata": {},
     "outputs": [],
     "prompt_number": 11
    },
    {
     "cell_type": "code",
     "collapsed": false,
     "input": [
      "labjack.head()"
     ],
     "language": "python",
     "metadata": {},
     "outputs": [
      {
       "html": [
        "<div style=\"max-height:1000px;max-width:1500px;overflow:auto;\">\n",
        "<table border=\"1\" class=\"dataframe\">\n",
        "  <thead>\n",
        "    <tr style=\"text-align: right;\">\n",
        "      <th></th>\n",
        "      <th>Time.1</th>\n",
        "      <th>Temperature</th>\n",
        "      <th>Light</th>\n",
        "      <th>Humidity</th>\n",
        "    </tr>\n",
        "    <tr>\n",
        "      <th>Time</th>\n",
        "      <th></th>\n",
        "      <th></th>\n",
        "      <th></th>\n",
        "      <th></th>\n",
        "    </tr>\n",
        "  </thead>\n",
        "  <tbody>\n",
        "    <tr>\n",
        "      <th>2013-12-10 20:17:05</th>\n",
        "      <td> 1386724625</td>\n",
        "      <td> 20.437</td>\n",
        "      <td> 0</td>\n",
        "      <td> 0</td>\n",
        "    </tr>\n",
        "    <tr>\n",
        "      <th>2013-12-10 20:47:05</th>\n",
        "      <td> 1386726425</td>\n",
        "      <td> 20.375</td>\n",
        "      <td> 0</td>\n",
        "      <td> 0</td>\n",
        "    </tr>\n",
        "    <tr>\n",
        "      <th>2013-12-10 21:17:05</th>\n",
        "      <td> 1386728225</td>\n",
        "      <td> 20.187</td>\n",
        "      <td> 0</td>\n",
        "      <td> 0</td>\n",
        "    </tr>\n",
        "    <tr>\n",
        "      <th>2013-12-10 21:47:05</th>\n",
        "      <td> 1386730025</td>\n",
        "      <td> 19.625</td>\n",
        "      <td> 0</td>\n",
        "      <td> 0</td>\n",
        "    </tr>\n",
        "    <tr>\n",
        "      <th>2013-12-10 22:17:05</th>\n",
        "      <td> 1386731825</td>\n",
        "      <td> 19.250</td>\n",
        "      <td> 0</td>\n",
        "      <td> 0</td>\n",
        "    </tr>\n",
        "  </tbody>\n",
        "</table>\n",
        "</div>"
       ],
       "output_type": "pyout",
       "prompt_number": 12,
       "text": [
        "                         Time.1  Temperature  Light  Humidity\n",
        "Time                                                         \n",
        "2013-12-10 20:17:05  1386724625       20.437      0         0\n",
        "2013-12-10 20:47:05  1386726425       20.375      0         0\n",
        "2013-12-10 21:17:05  1386728225       20.187      0         0\n",
        "2013-12-10 21:47:05  1386730025       19.625      0         0\n",
        "2013-12-10 22:17:05  1386731825       19.250      0         0"
       ]
      }
     ],
     "prompt_number": 12
    },
    {
     "cell_type": "code",
     "collapsed": false,
     "input": [
      "labjack['fahr'] = C2F(labjack['Temperature'])"
     ],
     "language": "python",
     "metadata": {},
     "outputs": [],
     "prompt_number": 13
    },
    {
     "cell_type": "code",
     "collapsed": false,
     "input": [
      "labjack['fahr'].plot()"
     ],
     "language": "python",
     "metadata": {},
     "outputs": [
      {
       "output_type": "pyout",
       "prompt_number": 14,
       "text": [
        "<matplotlib.axes.AxesSubplot at 0x1075bf110>"
       ]
      },
      {
       "output_type": "display_data",
       "png": "[encoded data removed]"
      }
     ],
     "prompt_number": 14
    },
    {
     "cell_type": "markdown",
     "metadata": {},
     "source": [
      "Next step is to resample and align these and plot the differences."
     ]
    },
    {
     "cell_type": "code",
     "collapsed": false,
     "input": [
      "!head /Users/dsoto/Dropbox/RCH/My_LabJack_Digit_12172013.csv"
     ],
     "language": "python",
     "metadata": {},
     "outputs": [
      {
       "output_type": "stream",
       "stream": "stdout",
       "text": [
        "Time,Time,Temperature,Light,Humidity\r",
        "\r\n",
        "12/10/2013 8:17:05 PM,1386724625,20.437,0.0,0.00\r",
        "\r\n",
        "12/10/2013 8:47:05 PM,1386726425,20.375,0.0,0.00\r",
        "\r\n",
        "12/10/2013 9:17:05 PM,1386728225,20.187,0.0,0.00\r",
        "\r\n",
        "12/10/2013 9:47:05 PM,1386730025,19.625,0.0,0.00\r",
        "\r\n",
        "12/10/2013 10:17:05 PM,1386731825,19.250,0.0,0.00\r",
        "\r\n",
        "12/10/2013 10:47:05 PM,1386733625,19.125,0.0,0.00\r",
        "\r\n",
        "12/10/2013 11:17:05 PM,1386735425,18.687,0.0,0.00\r",
        "\r\n",
        "12/10/2013 11:47:05 PM,1386737225,18.312,0.0,0.00\r",
        "\r\n",
        "12/11/2013 12:17:05 AM,1386739025,18.062,0.0,0.00\r",
        "\r\n"
       ]
      }
     ],
     "prompt_number": 15
    },
    {
     "cell_type": "code",
     "collapsed": false,
     "input": [],
     "language": "python",
     "metadata": {},
     "outputs": [],
     "prompt_number": 15
    }
   ],
   "metadata": {}
  }
 ]
}