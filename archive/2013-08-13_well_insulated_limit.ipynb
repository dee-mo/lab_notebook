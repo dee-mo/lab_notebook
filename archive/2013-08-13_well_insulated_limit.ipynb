{
 "metadata": {
  "name": ""
 },
 "nbformat": 3,
 "nbformat_minor": 0,
 "worksheets": [
  {
   "cells": [
    {
     "cell_type": "markdown",
     "metadata": {},
     "source": [
      "# What is the limit of insulation efficiency?\n",
      "\n",
      "For storage applications, the energy loss in a refrigerator is dominated by the thermal conduction through the insulation.  Most refrigerators have a few centimeters of foam insulation.\n",
      "\n",
      "To acheive a closed-form solution, we consider a spherical geometry.  The spherical geometery also has the highest efficiency because of its surface area to volume ratio.  The thermal resistance is given by \n"
     ]
    },
    {
     "cell_type": "code",
     "collapsed": false,
     "input": [
      "%pylab inline\n",
      "import sympy as sym\n",
      "sym.init_printing()\n",
      "r1 = sym.Symbol('r1')\n",
      "r2 = sym.Symbol('r2')\n",
      "k = sym.Symbol('k')\n",
      "V = sym.Symbol('V')\n",
      "expression = (1/r1 + 1/r2)/(4*sym.pi*k)\n",
      "#sym.latex(expression)\n",
      "expression"
     ],
     "language": "python",
     "metadata": {},
     "outputs": [
      {
       "output_type": "stream",
       "stream": "stdout",
       "text": [
        "Populating the interactive namespace from numpy and matplotlib\n"
       ]
      },
      {
       "latex": [
        "$$\\frac{\\frac{1}{r_{2}} + \\frac{1}{r_{1}}}{4 \\pi k}$$"
       ],
       "metadata": {},
       "output_type": "pyout",
       "prompt_number": 1,
       "text": [
        "1    1 \n",
        "\u2500\u2500 + \u2500\u2500\n",
        "r\u2082   r\u2081\n",
        "\u2500\u2500\u2500\u2500\u2500\u2500\u2500\n",
        " 4\u22c5\u03c0\u22c5k "
       ]
      }
     ],
     "prompt_number": 1
    },
    {
     "cell_type": "markdown",
     "metadata": {},
     "source": [
      "where $r_1$ is the inside radius, $r_2$ is the outside radius, and $k$ is the thermal conductivity of the insulating material.\n",
      "\n",
      "In the limit of thick insulation, $r_2$ becomes large and the expression simplifies to"
     ]
    },
    {
     "cell_type": "code",
     "collapsed": false,
     "input": [
      "limit = expression.subs(r2, sym.oo)\n",
      "limit"
     ],
     "language": "python",
     "metadata": {},
     "outputs": [
      {
       "latex": [
        "$$\\frac{1}{4 \\pi k r_{1}}$$"
       ],
       "metadata": {},
       "output_type": "pyout",
       "prompt_number": 2,
       "text": [
        "   1    \n",
        "\u2500\u2500\u2500\u2500\u2500\u2500\u2500\u2500\n",
        "4\u22c5\u03c0\u22c5k\u22c5r\u2081"
       ]
      }
     ],
     "prompt_number": 2
    },
    {
     "cell_type": "markdown",
     "metadata": {},
     "source": [
      "It is interesting to note that even for an infinite thickness of insulation, there is a finite flow of thermal energy.  The conductance is the reciprocal of this and it grows with the cube root of the interior volume of the refrigerator."
     ]
    },
    {
     "cell_type": "markdown",
     "metadata": {},
     "source": [
      "TODO: Plot interior volume vs. conductivity\n",
      "TODO: watts per kelvin per volume"
     ]
    },
    {
     "cell_type": "code",
     "collapsed": false,
     "input": [
      "v_exp = sym.Rational(4, 3) * sym.pi * r1**3\n",
      "v_exp"
     ],
     "language": "python",
     "metadata": {},
     "outputs": [
      {
       "latex": [
        "$$\\frac{4 \\pi}{3} r_{1}^{3}$$"
       ],
       "metadata": {},
       "output_type": "pyout",
       "prompt_number": 3,
       "text": [
        "      3\n",
        "4\u22c5\u03c0\u22c5r\u2081 \n",
        "\u2500\u2500\u2500\u2500\u2500\u2500\u2500\n",
        "   3   "
       ]
      }
     ],
     "prompt_number": 3
    },
    {
     "cell_type": "code",
     "collapsed": false,
     "input": [
      "conductance = 1/limit.subs(r1, sym.solve(v_exp - V, r1)[0])\n",
      "#sym.latex(conductance)\n",
      "conductance"
     ],
     "language": "python",
     "metadata": {},
     "outputs": [
      {
       "latex": [
        "$$2 \\sqrt[3]{6} \\pi^{\\frac{2}{3}} \\sqrt[3]{V} k$$"
       ],
       "metadata": {},
       "output_type": "pyout",
       "prompt_number": 4,
       "text": [
        "  3 ___  2/3 3 ___  \n",
        "2\u22c5\u2572\u2571 6 \u22c5\u03c0   \u22c5\u2572\u2571 V \u22c5k"
       ]
      }
     ],
     "prompt_number": 4
    },
    {
     "cell_type": "code",
     "collapsed": false,
     "input": [
      "sym.plot(conductance.subs(k, 0.02), (V, 0.2, 2),\n",
      "         xlabel = 'Interior Volume (m$^3$)',\n",
      "         ylabel = 'Thermal conductance (W/K)',\n",
      "         title = 'Well-Insulated Limit of Conductance')\n",
      "show()"
     ],
     "language": "python",
     "metadata": {},
     "outputs": [
      {
       "metadata": {},
       "output_type": "display_data",
       "png": "[encoded data removed]",
       "text": [
        "<matplotlib.figure.Figure at 0x1074f6d50>"
       ]
      }
     ],
     "prompt_number": 5
    },
    {
     "cell_type": "code",
     "collapsed": false,
     "input": [
      "conductance.subs(k, 0.02).subs(V, 1).evalf() * 40 / 4."
     ],
     "language": "python",
     "metadata": {},
     "outputs": [
      {
       "latex": [
        "$$1.5591108358883$$"
       ],
       "metadata": {},
       "output_type": "pyout",
       "prompt_number": 10,
       "text": [
        "1.55911083588830"
       ]
      }
     ],
     "prompt_number": 10
    },
    {
     "cell_type": "markdown",
     "metadata": {},
     "source": [
      "For a cubic meter of interior space and a foam insulation the conductance is 0.156 W/K.  On a 40C day with an interior temperature of 0C, this gives a continuous thermal rate of 6.2 W through the envelope.  With vapor phase compression system with a COP of 4, this is a 1.6 W continuous load.\n",
      "\n",
      "Clearly a spherical refrigerator of infinite size is impractical, but it is instructive to understand the physical limits of efficiency."
     ]
    }
   ],
   "metadata": {}
  }
 ]
}