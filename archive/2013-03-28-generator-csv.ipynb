{
 "metadata": {
  "name": "2013-03-28-generator-csv"
 },
 "nbformat": 3,
 "nbformat_minor": 0,
 "worksheets": [
  {
   "cells": [
    {
     "cell_type": "markdown",
     "metadata": {},
     "source": [
      "# 2013-03-28\n",
      "\n",
      "I'd like to read in all the data from the original CSV files.  However, the data has some imperfections that make this difficult.  This work picks up from where I left off on 2013-03-07.\n",
      "\n",
      "## Trailing bytes\n",
      "\n",
      "Some of these files seem to have a trailing byte that causes a problem.  The files are in \n",
      "\n",
      "    /Users/dsoto/Dropbox/Haiti Micro-Grid Research/Generator output data/Port a Piment/Gen raw data\n",
      " \n",
      "portapiment_20120502-20120510.csv has a ctrl-M ctrl-@ character visible in macvim that i think confuses read_table and read_csv.\n",
      "\n",
      "## Different headers\n",
      "\n",
      "The column order for all files seems to be preserved (how would i know?), but the header isn't the same for all files.  This can be fixed by using the names keyword in the read_csv call so that i can manually set the column names which allows for concatenation later.  \n",
      "\n",
      "## non-contiguous and overlapping data regions\n",
      "\n",
      "The data ranges appear to have both gaps and overlaps which must be attended to so there is a smooth data set with a perfect data index.  For this I need to come up with a good way to see if a date index is well-formed.\n",
      "\n",
      "## Report for each file\n",
      "\n",
      "A good start will be to loop through the files and create a report of the start and end date, bad bytes, and any gaps or other problems in the data."
     ]
    },
    {
     "cell_type": "markdown",
     "metadata": {},
     "source": [
      "# Trailing bytes "
     ]
    },
    {
     "cell_type": "code",
     "collapsed": false,
     "input": [
      "data_dir = '/Users/dsoto/Dropbox/Haiti Micro-Grid Research/Generator output data/Port a Piment/Gen raw data/'\n",
      "\n",
      "import pandas as pd\n",
      "dt = pd.read_csv(data_dir + 'portapiment_20120502-20120510.csv') \n",
      "dt.ix[11150] \n",
      "# last two rows show NaN values because of trailing bytes in file"
     ],
     "language": "python",
     "metadata": {},
     "outputs": [
      {
       "output_type": "pyout",
       "prompt_number": 33,
       "text": [
        "Date of Measurement    NaN\n",
        "Time of Measurement    NaN\n",
        "Measurement Value      NaN\n",
        "Measurement Value.1    NaN\n",
        "Measurement Value.2    NaN\n",
        "Measurement Value.3    NaN\n",
        "Name: 11150"
       ]
      }
     ],
     "prompt_number": 33
    },
    {
     "cell_type": "markdown",
     "metadata": {},
     "source": [
      " each line of file terminates with 0D0A but there is a last line of the file that has a 0D00 sequence that seems to cause two extra lines to be read into the data frame.  the options seem to call read_csv such that it ignores this line, or to preread the file into a buffer and strip the characters and then feed the buffer to the read_csv function.  i could also just drop the NA rows since that is what the line ending causes."
     ]
    },
    {
     "cell_type": "code",
     "collapsed": false,
     "input": [
      "# this approach of using a comment character doesn't seem to work, maybe since the 0D is interpreted as a line ending\n",
      "dt = pd.read_csv(data_dir+ 'portapiment_20120502-20120510.csv', comment='\\x0D') "
     ],
     "language": "python",
     "metadata": {},
     "outputs": [],
     "prompt_number": 35
    },
    {
     "cell_type": "code",
     "collapsed": false,
     "input": [
      "dt.ix[11150]"
     ],
     "language": "python",
     "metadata": {},
     "outputs": [
      {
       "output_type": "pyout",
       "prompt_number": 36,
       "text": [
        "Date of Measurement    NaN\n",
        "Time of Measurement    NaN\n",
        "Measurement Value      NaN\n",
        "Measurement Value.1    NaN\n",
        "Measurement Value.2    NaN\n",
        "Measurement Value.3    NaN\n",
        "Name: 11150"
       ]
      }
     ],
     "prompt_number": 36
    },
    {
     "cell_type": "code",
     "collapsed": false,
     "input": [
      "# dropna removes the bad lines in the file\n",
      "dt.dropna()"
     ],
     "language": "python",
     "metadata": {},
     "outputs": [
      {
       "output_type": "pyout",
       "prompt_number": 32,
       "text": [
        "<class 'pandas.core.frame.DataFrame'>\n",
        "Int64Index: 11149 entries, 0 to 11148\n",
        "Data columns:\n",
        "Date of Measurement    11149  non-null values\n",
        "Time of Measurement    11149  non-null values\n",
        "Measurement Value      11149  non-null values\n",
        "Measurement Value.1    11149  non-null values\n",
        "Measurement Value.2    11149  non-null values\n",
        "Measurement Value.3    11149  non-null values\n",
        "dtypes: float64(4), object(2)"
       ]
      }
     ],
     "prompt_number": 32
    }
   ],
   "metadata": {}
  }
 ]
}