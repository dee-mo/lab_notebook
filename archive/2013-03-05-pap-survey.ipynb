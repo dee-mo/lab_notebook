{
 "metadata": {
  "name": "2013-03-05-pap-survey"
 },
 "nbformat": 3,
 "nbformat_minor": 0,
 "worksheets": [
  {
   "cells": [
    {
     "cell_type": "markdown",
     "metadata": {},
     "source": [
      "## 2013-03-05\n",
      "\n",
      "Here is some basic work to digest the survey data.  I'll start by looking at ownership of light bulbs."
     ]
    },
    {
     "cell_type": "code",
     "collapsed": false,
     "input": [
      "import pandas as pd\n",
      "xf = pd.ExcelFile('Load survey results 20130214.xlsx')\n",
      "survey = xf.parse('Microgrid_survey_20120903', index_col=None)"
     ],
     "language": "python",
     "metadata": {},
     "outputs": [],
     "prompt_number": 1
    },
    {
     "cell_type": "code",
     "collapsed": false,
     "input": [
      "print 'survey dimensions', survey.shape\n",
      "print 'incandescent non-null observations', survey['has_incandescent'].count()\n",
      "print 'cfl non-null observations', survey['has_cfl'].count()\n",
      "print 'led non-null observations', survey['has_led'].count()"
     ],
     "language": "python",
     "metadata": {},
     "outputs": [
      {
       "output_type": "stream",
       "stream": "stdout",
       "text": [
        "survey dimensions (252, 410)\n",
        "incandescent non-null observations 251\n",
        "cfl non-null observations 252\n",
        "led non-null observations 252\n"
       ]
      }
     ],
     "prompt_number": 2
    },
    {
     "cell_type": "markdown",
     "metadata": {},
     "source": [
      "Incandescent is missing a survey result for some reason."
     ]
    },
    {
     "cell_type": "code",
     "collapsed": false,
     "input": [
      "survey['has_incandescent'].value_counts()"
     ],
     "language": "python",
     "metadata": {},
     "outputs": [
      {
       "output_type": "pyout",
       "prompt_number": 3,
       "text": [
        "yes    127\n",
        "no     124"
       ]
      }
     ],
     "prompt_number": 3
    },
    {
     "cell_type": "code",
     "collapsed": false,
     "input": [
      "survey['has_cfl'].value_counts()"
     ],
     "language": "python",
     "metadata": {},
     "outputs": [
      {
       "output_type": "pyout",
       "prompt_number": 4,
       "text": [
        "yes    164\n",
        "no      88"
       ]
      }
     ],
     "prompt_number": 4
    },
    {
     "cell_type": "code",
     "collapsed": false,
     "input": [
      "survey['has_led'].value_counts()"
     ],
     "language": "python",
     "metadata": {},
     "outputs": [
      {
       "output_type": "pyout",
       "prompt_number": 5,
       "text": [
        "no     248\n",
        "yes      4"
       ]
      }
     ],
     "prompt_number": 5
    },
    {
     "cell_type": "code",
     "collapsed": false,
     "input": [
      "# Creates a single data frame with 1 or 0 to depict ownership of inc, cfl, or led\n",
      "df = pd.DataFrame({'incandescent':survey['None.3'], \n",
      "                   'cfl':survey['None.4'], \n",
      "                   'led':survey['None.6']})\n",
      "df.sum(1).value_counts()"
     ],
     "language": "python",
     "metadata": {},
     "outputs": [
      {
       "output_type": "pyout",
       "prompt_number": 6,
       "text": [
        "1    209\n",
        "2     39\n",
        "3      3\n",
        "0      1"
       ]
      }
     ],
     "prompt_number": 6
    },
    {
     "cell_type": "markdown",
     "metadata": {},
     "source": [
      "This shows that most respondents have a single light source.  I need to check if the respondent with no light source was the incandescent NA value."
     ]
    }
   ],
   "metadata": {}
  }
 ]
}