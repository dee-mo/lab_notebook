{
 "metadata": {
  "name": "2013-04-09-haiti"
 },
 "nbformat": 3,
 "nbformat_minor": 0,
 "worksheets": [
  {
   "cells": [
    {
     "cell_type": "markdown",
     "metadata": {},
     "source": [
      "# 2013-04-09\n",
      "# Haiti stuff"
     ]
    },
    {
     "cell_type": "markdown",
     "metadata": {},
     "source": [
      "## Outstanding issues\n",
      "\n",
      "- how to validate individual models of appliance on-off behavior\n",
      "- how to model on-off behavior of entire grid\n",
      "- what the workflow looks like including HOMER simulations\n",
      "- least squares spectral analysis of time series with gaps\n",
      "- understand power data\n",
      "- document analysis flow from survey to markov to HOMER\n"
     ]
    },
    {
     "cell_type": "code",
     "collapsed": false,
     "input": [],
     "language": "python",
     "metadata": {},
     "outputs": []
    }
   ],
   "metadata": {}
  }
 ]
}