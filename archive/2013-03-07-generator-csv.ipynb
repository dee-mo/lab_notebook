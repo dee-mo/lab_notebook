{
 "metadata": {
  "name": "2013-03-07-generator-csv"
 },
 "nbformat": 3,
 "nbformat_minor": 0,
 "worksheets": [
  {
   "cells": [
    {
     "cell_type": "markdown",
     "metadata": {},
     "source": [
      "# 2013-03-07\n",
      "\n",
      "I am loading in the raw csv data from port a piment and looking for ways to concatenate the data."
     ]
    },
    {
     "cell_type": "code",
     "collapsed": false,
     "input": [
      "%pylab inline\n",
      "import pandas as pd"
     ],
     "language": "python",
     "metadata": {},
     "outputs": [
      {
       "output_type": "stream",
       "stream": "stdout",
       "text": [
        "\n",
        "Welcome to pylab, a matplotlib-based Python environment [backend: module://IPython.zmq.pylab.backend_inline].\n",
        "For more information, type 'help(pylab)'.\n"
       ]
      }
     ],
     "prompt_number": 1
    },
    {
     "cell_type": "code",
     "collapsed": false,
     "input": [
      "# read csv and use date and time columns to generate datetime column\n",
      "pap1 = pd.read_csv('generator_data/portapiment_20120419-20120502.csv', \n",
      "                  parse_dates=[[0, 1]],\n",
      "                  index_col = 0,\n",
      "                  header=None,\n",
      "                  skiprows=1,\n",
      "                  names=('Date','Time','p1','p2','p3','p4'))\n",
      "pap1[:2]"
     ],
     "language": "python",
     "metadata": {},
     "outputs": [
      {
       "html": [
        "<div style=\"max-height:1000px;max-width:1500px;overflow:auto;\">\n",
        "<table border=\"1\" class=\"dataframe\">\n",
        "  <thead>\n",
        "    <tr style=\"text-align: right;\">\n",
        "      <th></th>\n",
        "      <th>p1</th>\n",
        "      <th>p2</th>\n",
        "      <th>p3</th>\n",
        "      <th>p4</th>\n",
        "    </tr>\n",
        "    <tr>\n",
        "      <th>Date_Time</th>\n",
        "      <th></th>\n",
        "      <th></th>\n",
        "      <th></th>\n",
        "      <th></th>\n",
        "    </tr>\n",
        "  </thead>\n",
        "  <tbody>\n",
        "    <tr>\n",
        "      <th>2012-04-19 11:59:00</th>\n",
        "      <td> 1.2</td>\n",
        "      <td> 1</td>\n",
        "      <td> 0.9</td>\n",
        "      <td> 0.7</td>\n",
        "    </tr>\n",
        "    <tr>\n",
        "      <th>2012-04-19 12:00:00</th>\n",
        "      <td> 1.0</td>\n",
        "      <td> 1</td>\n",
        "      <td> 0.7</td>\n",
        "      <td> 1.2</td>\n",
        "    </tr>\n",
        "  </tbody>\n",
        "</table>\n",
        "</div>"
       ],
       "output_type": "pyout",
       "prompt_number": 2,
       "text": [
        "                      p1  p2   p3   p4\n",
        "Date_Time                             \n",
        "2012-04-19 11:59:00  1.2   1  0.9  0.7\n",
        "2012-04-19 12:00:00  1.0   1  0.7  1.2"
       ]
      }
     ],
     "prompt_number": 2
    },
    {
     "cell_type": "code",
     "collapsed": false,
     "input": [
      "# read csv and use date and time columns to generate datetime column\n",
      "pap2 = pd.read_csv('generator_data/portapiment_20120502-20120510.csv', \n",
      "                  parse_dates=[[0, 1]],\n",
      "                  index_col=0,\n",
      "                  header=None,\n",
      "                  skiprows=1,\n",
      "                  names=('Date','Time','p1','p2','p3','p4'))\n",
      "pap2[:2]"
     ],
     "language": "python",
     "metadata": {},
     "outputs": [
      {
       "html": [
        "<div style=\"max-height:1000px;max-width:1500px;overflow:auto;\">\n",
        "<table border=\"1\" class=\"dataframe\">\n",
        "  <thead>\n",
        "    <tr style=\"text-align: right;\">\n",
        "      <th></th>\n",
        "      <th>p1</th>\n",
        "      <th>p2</th>\n",
        "      <th>p3</th>\n",
        "      <th>p4</th>\n",
        "    </tr>\n",
        "    <tr>\n",
        "      <th>Date_Time</th>\n",
        "      <th></th>\n",
        "      <th></th>\n",
        "      <th></th>\n",
        "      <th></th>\n",
        "    </tr>\n",
        "  </thead>\n",
        "  <tbody>\n",
        "    <tr>\n",
        "      <th>2012-05-02 15:46:00</th>\n",
        "      <td> 0.7</td>\n",
        "      <td> 1.5</td>\n",
        "      <td> 0.6</td>\n",
        "      <td> 1.2</td>\n",
        "    </tr>\n",
        "    <tr>\n",
        "      <th>2012-05-02 15:47:00</th>\n",
        "      <td> 1.2</td>\n",
        "      <td> 0.9</td>\n",
        "      <td> 0.6</td>\n",
        "      <td> 1.0</td>\n",
        "    </tr>\n",
        "  </tbody>\n",
        "</table>\n",
        "</div>"
       ],
       "output_type": "pyout",
       "prompt_number": 3,
       "text": [
        "                      p1   p2   p3   p4\n",
        "Date_Time                              \n",
        "2012-05-02 15:46:00  0.7  1.5  0.6  1.2\n",
        "2012-05-02 15:47:00  1.2  0.9  0.6  1.0"
       ]
      }
     ],
     "prompt_number": 3
    },
    {
     "cell_type": "code",
     "collapsed": false,
     "input": [
      "pap = pd.concat((pap1,pap2))"
     ],
     "language": "python",
     "metadata": {},
     "outputs": [],
     "prompt_number": 4
    },
    {
     "cell_type": "code",
     "collapsed": false,
     "input": [
      "pap['p1'].plot()\n",
      "pap['p2'].plot()\n",
      "pap['p3'].plot()"
     ],
     "language": "python",
     "metadata": {},
     "outputs": [
      {
       "output_type": "pyout",
       "prompt_number": 5,
       "text": [
        "<matplotlib.axes.AxesSubplot at 0x10689e790>"
       ]
      },
      {
       "output_type": "display_data",
       "png": "[encoded data removed]"
      }
     ],
     "prompt_number": 5
    },
    {
     "cell_type": "markdown",
     "metadata": {},
     "source": [
      "This looks reasonable"
     ]
    }
   ],
   "metadata": {}
  }
 ]
}