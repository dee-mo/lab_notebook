{
 "metadata": {
  "name": "2013-04-05-wp10-storage"
 },
 "nbformat": 3,
 "nbformat_minor": 0,
 "worksheets": [
  {
   "cells": [
    {
     "cell_type": "markdown",
     "metadata": {},
     "source": [
      "# 2013-04-05\n",
      "# WP10 storage costs "
     ]
    },
    {
     "cell_type": "markdown",
     "metadata": {},
     "source": [
      "## literature search\n",
      "\n",
      "Last time I worked on this project, I was looking for previous literature on battery technologies with an emphasis on comparing lead acid cycle life and li-ion cycle life.  I wasn't able to find sources for cycle life, maybe Sanjay has some sources?  What publications might exist with real world data?"
     ]
    },
    {
     "cell_type": "markdown",
     "metadata": {},
     "source": [
      "I found a belgian researcher, noshin omar, and have sent him an email requesting lithium ion battery testing.  I still need a good lead acid source.  "
     ]
    },
    {
     "cell_type": "markdown",
     "metadata": {},
     "source": [
      "## cycle life as a distribution\n",
      "\n",
      "Can I express the cycle life in terms of a probability distribution?  Is there some way to look at the effects of temperature?\n"
     ]
    },
    {
     "cell_type": "markdown",
     "metadata": {},
     "source": [
      "http://www.altenergymag.com/emagazine/2012/04/a-comparison-of-lead-acid-to-lithium-ion-in-stationary-storage-applications/1884\n",
      "\n",
      "considers temperature, density, (shipping cost), cycle life.  finds that lifetime cost is slightly higher for moderate climate than lead acid and cheaper in a hot climate.  a significant part of the savings comes from counting lower (6x) transportation costs."
     ]
    },
    {
     "cell_type": "markdown",
     "metadata": {},
     "source": [
      "## cycle life quantification\n",
      "\n",
      "can we express lifetime energy delivered by a technology in terms of C?  If for a battery, DOD times number of cycles is a fairly flat curve, we can just express lifetime as N * C."
     ]
    },
    {
     "cell_type": "markdown",
     "metadata": {},
     "source": [
      "## overlap with ENSP 338\n",
      "\n",
      "I could use the class to help calculate some of these concepts more clearly.  During the battery storage part homework questions could use examples for the publication."
     ]
    },
    {
     "cell_type": "code",
     "collapsed": false,
     "input": [],
     "language": "python",
     "metadata": {},
     "outputs": []
    }
   ],
   "metadata": {}
  }
 ]
}