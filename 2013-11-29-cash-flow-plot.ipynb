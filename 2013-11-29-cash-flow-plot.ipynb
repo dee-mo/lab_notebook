{
 "metadata": {
  "name": ""
 },
 "nbformat": 3,
 "nbformat_minor": 0,
 "worksheets": [
  {
   "cells": [
    {
     "cell_type": "markdown",
     "metadata": {},
     "source": [
      "# Cash Flow Plots\n",
      "\n",
      "This is an example of a plotting function to create a cash flow diagram with arrows depicting payments or expenditures.  \n",
      "\n",
      "## Usage Example"
     ]
    },
    {
     "cell_type": "code",
     "collapsed": false,
     "input": [
      "%pylab inline\n",
      "import sotoplotlib\n",
      "cash_flow = [-1.0, 0.5, 0.0, 0.5, 0.5, 0.5, 0.5, 0.5]\n",
      "sotoplotlib.plot_cash_flow(cash_flow)"
     ],
     "language": "python",
     "metadata": {},
     "outputs": [
      {
       "output_type": "stream",
       "stream": "stdout",
       "text": [
        "Populating the interactive namespace from numpy and matplotlib\n"
       ]
      },
      {
       "metadata": {},
       "output_type": "display_data",
       "png": "[encoded data removed]",
       "text": [
        "<matplotlib.figure.Figure at 0x1060b20d0>"
       ]
      }
     ],
     "prompt_number": 1
    },
    {
     "cell_type": "markdown",
     "metadata": {},
     "source": [
      "## Source code\n",
      "\n",
      "Iterates over data list and creates upward facing or downward facing triangle and a line to approximate an arrow."
     ]
    },
    {
     "cell_type": "code",
     "collapsed": false,
     "input": [
      "import inspect\n",
      "print(inspect.getsource(sotoplotlib.plot_cash_flow))"
     ],
     "language": "python",
     "metadata": {},
     "outputs": [
      {
       "output_type": "stream",
       "stream": "stdout",
       "text": [
        "def plot_cash_flow(cash_flow):\n",
        "    import matplotlib.pyplot as plt\n",
        "    import matplotlib.lines as mlines\n",
        "    fig, ax = plt.subplots()\n",
        "    #ax.plot(cash_flow, 'kD')\n",
        "    xmargin = 0.5\n",
        "    ax.set_xlim(-xmargin, len(cash_flow) - 1 + xmargin)\n",
        "    ax.set_ylim(min(cash_flow) - 0.5, max(cash_flow) + 0.5)\n",
        "    # integer ticks\n",
        "    ax.set_xticks(range(len(cash_flow)))\n",
        "    # lines\n",
        "    for i, cf in enumerate(cash_flow):\n",
        "        if cf > 0:\n",
        "            marker = 'k^'\n",
        "        elif cf <0:\n",
        "            marker = 'kv'\n",
        "        else:\n",
        "            marker = 'kd'\n",
        "        ax.plot(i, cf, marker)\n",
        "        line = mlines.Line2D((i, i), (0, cf), 1, lw=2.)\n",
        "        ax.add_line(line)\n",
        "    ax.grid()\n",
        "\n"
       ]
      }
     ],
     "prompt_number": 2
    },
    {
     "cell_type": "code",
     "collapsed": false,
     "input": [],
     "language": "python",
     "metadata": {},
     "outputs": [],
     "prompt_number": 2
    }
   ],
   "metadata": {}
  }
 ]
}