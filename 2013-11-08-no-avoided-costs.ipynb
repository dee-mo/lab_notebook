{
 "metadata": {
  "name": ""
 },
 "nbformat": 3,
 "nbformat_minor": 0,
 "worksheets": [
  {
   "cells": [
    {
     "cell_type": "markdown",
     "metadata": {},
     "source": [
      "Most small scale off-grid technologies like solar lanterns and cell phone charging have such good economics is because these technologies create very high avoided costs.\n",
      "\n",
      "New services that have no current delivery mechanism (television, refrigeration) in some ways have a more difficult economic situation since they must pay for themselves through the benefits of the services themselves.  \n",
      "\n",
      "If you are in a market where the value of a cold drink is no greater than the value of a warm drink, refrigeration has no profitability or economic potential for beverage cooling.  I have had conversations that suggest that this is the case in some markets.  However, it is also plausible that cold beverages could increase demand, but this increased demand comes with increased energy cost and no extra margin to pay for it.  "
     ]
    },
    {
     "cell_type": "code",
     "collapsed": false,
     "input": [],
     "language": "python",
     "metadata": {},
     "outputs": []
    }
   ],
   "metadata": {}
  }
 ]
}