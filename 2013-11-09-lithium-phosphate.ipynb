{
 "metadata": {
  "name": ""
 },
 "nbformat": 3,
 "nbformat_minor": 0,
 "worksheets": [
  {
   "cells": [
    {
     "cell_type": "markdown",
     "metadata": {},
     "source": [
      "# Lithium Iron Phosphate batteries\n",
      "\n",
      "Purchased 3.2V AA (size 14500) 400mAh capacity batteries from Batteriesinaflash.com through amazon.\n",
      "\n",
      "Using as shipped batteries to run an LED until discharge.  Batteries ran for less than 10 minutes before reaching a low voltage state on the Dinotte LED controller.\n",
      "\n",
      "## charging cycle\n",
      "Connecting to SkyCharger BCAC in LiFe Charge mode at 0.1 Amp charge current (C/4?) and 6.6V(2S) voltage.  Battery charging start at 8:18 AM.\n",
      "\n",
      "Charging finished after 284 minutes at a voltage of 7.20 with 472 mAh delivered.  I did not observe the constant voltage part of the cycle, if there was one.\n",
      "\n",
      "Starting a full drain test with Dinotte LED at 15:30 pm.  At or before 15:42, the red LED is blinking alternately with the blue LED.  \n",
      "\n",
      "## discharging cycle\n",
      "- 16:00, 6.06 V loaded battery voltage\n",
      "- 16:38, flashing observed, solid red LED, 4.35 V, now switch doesn't change intensity\n",
      "- disconnecting\n",
      "\n",
      "## charging cycle\n",
      "- charging now at 0.2 amp charge current\n",
      "- 148 minutes, 7.2V stop, 483 mAh\n",
      "\n",
      "## discharging cycle\n",
      "- 19:23\n",
      "- low light with single flash\n",
      "- 20:15, 6.46V\n",
      "- continuing in the morning 10 Nov 2013\n",
      "- start 07:55 low light with single flash, 6.46V loaded\n",
      "- didn't catch whon it went into low voltage state\n",
      "- but, voltage so low that blinking mode was changed to erratic state\n",
      "\n",
      "\n",
      "\n",
      "\n",
      "## Energy capacity\n",
      "\n",
      "- LiFePo 3.2 V * 400 mAh = 1.2 Wh per battery\n",
      "- 2.4 Wh for pack of 2\n",
      "- 170 Wh/liter\n",
      "\n",
      "- NiMH 1.2 V * 2500 mAh = 3.0 Wh per battery\n",
      "- 12.0 Wh for pack of 4\n",
      "- 140--300 Wh/liter"
     ]
    },
    {
     "cell_type": "code",
     "collapsed": false,
     "input": [
      "3.2 * 0.4"
     ],
     "language": "python",
     "metadata": {},
     "outputs": [
      {
       "metadata": {},
       "output_type": "pyout",
       "prompt_number": 1,
       "text": [
        "1.2800000000000002"
       ]
      }
     ],
     "prompt_number": 1
    },
    {
     "cell_type": "code",
     "collapsed": false,
     "input": [
      "1.2 * 2.5"
     ],
     "language": "python",
     "metadata": {},
     "outputs": [
      {
       "metadata": {},
       "output_type": "pyout",
       "prompt_number": 2,
       "text": [
        "3.0"
       ]
      }
     ],
     "prompt_number": 2
    },
    {
     "cell_type": "code",
     "collapsed": false,
     "input": [
      "diameter_cm = 1.45\n",
      "length_cm = 5.05\n",
      "volume = 3.14 * (diameter_cm / 2) ** 2 * length_cm\n",
      "print(\"volume (cm^3) =\", volume)"
     ],
     "language": "python",
     "metadata": {},
     "outputs": [
      {
       "output_type": "stream",
       "stream": "stdout",
       "text": [
        "volume (cm^3) = 8.334835625\n"
       ]
      }
     ],
     "prompt_number": 8
    },
    {
     "cell_type": "code",
     "collapsed": false,
     "input": [
      "energy_by_volume = 1.2 / (volume / 1000)\n",
      "print(\"energy by volume in Wh/liter =\", energy_by_volume)"
     ],
     "language": "python",
     "metadata": {},
     "outputs": [
      {
       "output_type": "stream",
       "stream": "stdout",
       "text": [
        "energy by volume in Wh/liter = 143.97404507902337\n"
       ]
      }
     ],
     "prompt_number": 12
    },
    {
     "cell_type": "code",
     "collapsed": false,
     "input": [],
     "language": "python",
     "metadata": {},
     "outputs": []
    }
   ],
   "metadata": {}
  }
 ]
}