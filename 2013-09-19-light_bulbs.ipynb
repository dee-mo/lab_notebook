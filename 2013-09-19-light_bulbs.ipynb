{
 "metadata": {
  "name": "2013-09-19-light_bulbs"
 },
 "nbformat": 3,
 "nbformat_minor": 0,
 "worksheets": [
  {
   "cells": [
    {
     "cell_type": "markdown",
     "metadata": {},
     "source": [
      "# Light Bulbs\n",
      "\n",
      "This notebook performs some calculations on the total lifetime service cost of a lightbulb."
     ]
    },
    {
     "cell_type": "code",
     "collapsed": false,
     "input": [
      "%pylab inline\n",
      "\n",
      "incandescent = {'name':'ge 60W reveal',\n",
      "                'initial_cost' : 8.77 / 6,\n",
      "                'luminous_efficacy' : 15.,\n",
      "                'lumens' : 630.,\n",
      "                'watts' : 60.,\n",
      "                'lifetime_hours' : 1000}\n",
      "\n",
      "cfl = {'name' : 'philips 23 watt cfl',\n",
      "       'initial_cost' : 11.47 / 4,\n",
      "       'luminous_efficacy' : 0.,\n",
      "       'lumens' : 1655.,\n",
      "       'watts' : 23,\n",
      "       'lifetime_hours' : 12000.}\n",
      "\n",
      "led = {'name' : 'led',\n",
      "       'initial_cost' : 25.,\n",
      "       'luminous_efficacy' : 80.}\n",
      "\n",
      "cree = {'name' : 'cree',\n",
      "        'initial_cost' : 13.,\n",
      "        'lumens' : 800.,\n",
      "        'watts' : 9.5,\n",
      "        'lifetime_hours' : 25000.}\n",
      "\n",
      "lprize = {'name' : 'philips l-prize',\n",
      "          'initial_cost' : 50.,\n",
      "          'lumens' : 940.,\n",
      "          'luminous_efficacy' : 94.,\n",
      "          'watts' : 10.,\n",
      "          'lifetime_hours' : 30000.}\n",
      "\n",
      "philips_12_5 = {'name' : 'philips 12.5W',\n",
      "                'initial_cost' : 22.97,\n",
      "                'lumens' : 800.,\n",
      "                'watts' : 12.5,\n",
      "                'lifetime_hours' : 25000.}\n",
      "\n",
      "lumens = 940.\n",
      "electricity_cost = 0.1\n",
      "\n",
      "def payback_time(opt1, opt2):\n",
      "    return (opt1['initial_cost'] - opt2['initial_cost']) / (lumens / 1000 * electricity_cost * (1/opt2['luminous_efficacy'] - 1/opt1['luminous_efficacy']))\n",
      "\n",
      "def cost_per_klmh(bulb):\n",
      "    print()\n",
      "    print(bulb['name'])\n",
      "    initial_cost = bulb['initial_cost']\n",
      "    energy_cost = bulb['lifetime_hours'] * bulb['watts'] / 1000 * electricity_cost\n",
      "    lifetime_cost = initial_cost + energy_cost\n",
      "    lifetime_klmh = bulb['lumens'] * bulb['lifetime_hours'] / 1000\n",
      "    print(initial_cost / lifetime_klmh, ' initial')\n",
      "    print(energy_cost / lifetime_klmh, ' energy')\n",
      "    return [bulb['name'],\n",
      "            lifetime_cost / lifetime_klmh,\n",
      "            initial_cost / lifetime_klmh,\n",
      "            energy_cost / lifetime_klmh]"
     ],
     "language": "python",
     "metadata": {},
     "outputs": [
      {
       "output_type": "stream",
       "stream": "stdout",
       "text": [
        "\n",
        "Welcome to pylab, a matplotlib-based Python environment [backend: module://IPython.zmq.pylab.backend_inline].\n",
        "For more information, type 'help(pylab)'.\n"
       ]
      }
     ],
     "prompt_number": 7
    },
    {
     "cell_type": "code",
     "collapsed": false,
     "input": [
      "results = []\n",
      "for bulb in [lprize, philips_12_5, incandescent, cfl, cree]:\n",
      "    results.append(cost_per_klmh(bulb))"
     ],
     "language": "python",
     "metadata": {},
     "outputs": [
      {
       "output_type": "stream",
       "stream": "stdout",
       "text": [
        "\n",
        "philips l-prize\n",
        "0.0017730496453900709  initial\n",
        "0.0010638297872340426  energy\n",
        "\n",
        "philips 12.5W\n",
        "0.0011485  initial\n",
        "0.0015625  energy\n",
        "\n",
        "ge 60W reveal\n",
        "0.0023201058201058203  initial\n",
        "0.009523809523809525  energy\n",
        "\n",
        "philips 23 watt cfl\n",
        "0.00014438569989929506  initial\n",
        "0.0013897280966767372  energy\n",
        "\n",
        "cree\n",
        "0.00065  initial\n",
        "0.0011875  energy\n"
       ]
      }
     ],
     "prompt_number": 8
    },
    {
     "cell_type": "code",
     "collapsed": false,
     "input": [
      "import pandas as pd\n",
      "br = pd.DataFrame(results, columns=['name','total','initial','energy'])\n",
      "br.set_index('name', inplace=True)\n",
      "br.pop('total')"
     ],
     "language": "python",
     "metadata": {},
     "outputs": [
      {
       "output_type": "pyout",
       "prompt_number": 9,
       "text": [
        "name\n",
        "philips l-prize        0.002837\n",
        "philips 12.5W          0.002711\n",
        "ge 60W reveal          0.011844\n",
        "philips 23 watt cfl    0.001534\n",
        "cree                   0.001837\n",
        "Name: total, dtype: float64"
       ]
      }
     ],
     "prompt_number": 9
    },
    {
     "cell_type": "code",
     "collapsed": false,
     "input": [
      "ax = br.plot(kind='bar', stacked=True)\n",
      "ax.set_ylabel('USD per kilolumen-hour')\n",
      "ax.grid()"
     ],
     "language": "python",
     "metadata": {},
     "outputs": [
      {
       "output_type": "display_data",
       "png": "[encoded data removed]"
      }
     ],
     "prompt_number": 10
    },
    {
     "cell_type": "markdown",
     "metadata": {},
     "source": [
      "Two things stand out\n",
      "\n",
      "1) Despite the very high initial cost of the LED bulbs, the initial cost of an incandescent averaged over the lifetime of the bulb is roughly the same.\n",
      "\n",
      "2) CFL initial cost seems to be extremely low."
     ]
    },
    {
     "cell_type": "code",
     "collapsed": false,
     "input": [],
     "language": "python",
     "metadata": {},
     "outputs": [],
     "prompt_number": 10
    }
   ],
   "metadata": {}
  }
 ]
}