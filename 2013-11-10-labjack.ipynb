{
 "metadata": {
  "name": ""
 },
 "nbformat": 3,
 "nbformat_minor": 0,
 "worksheets": [
  {
   "cells": [
    {
     "cell_type": "markdown",
     "metadata": {},
     "source": [
      "# Simple LabJack acquisition"
     ]
    },
    {
     "cell_type": "markdown",
     "metadata": {},
     "source": [
      "This notebook has a simple implementation of a current and voltage meter using a LabJack U12 data acquisition device being run within an ipython notebook.  This device has multiplatform drivers and was unreasonably easy to set up on my OS X laptop.  I used a single click installer from the LabJack website and then downloaded and installed the python library from github.    \n",
      "\n",
      "I have some new Lithium Iron Phosphate batteries that I wanted to test so I placed a shunt between my battery charger and the battery pack to simultaneously measure the voltage and current delivered to the battery.\n",
      "\n",
      "The LabJack platform is appealing since I can create very simple and accessible data acquisition on any platform for the classes I teach.  Being able to do a simple acquisition in ~20 lines of code with a ~100 USD device is great."
     ]
    },
    {
     "cell_type": "code",
     "collapsed": false,
     "input": [
      "import u12          # this is the labjack device library\n",
      "import time\n",
      "import datetime"
     ],
     "language": "python",
     "metadata": {},
     "outputs": [],
     "prompt_number": 1
    },
    {
     "cell_type": "code",
     "collapsed": false,
     "input": [
      "d = u12.U12()       # initializes device"
     ],
     "language": "python",
     "metadata": {},
     "outputs": [],
     "prompt_number": 2
    },
    {
     "cell_type": "code",
     "collapsed": false,
     "input": [
      "# sets up an output data file\n",
      "fout = open('labjack.txt', 'wa')"
     ],
     "language": "python",
     "metadata": {},
     "outputs": [],
     "prompt_number": 3
    },
    {
     "cell_type": "markdown",
     "metadata": {},
     "source": [
      "This defines two convenience functions to encapsulate the details of reading the shunt resistor and battery voltage."
     ]
    },
    {
     "cell_type": "code",
     "collapsed": false,
     "input": [
      "# channel = 0 sets to single-ended input for AI0\n",
      "def readVoltage():\n",
      "    return d.eAnalogIn(channel=0)['voltage']\n",
      "\n",
      "# setting channel to 9 takes the differential between AI2 and AI3\n",
      "# gain setting of 7 is for a +/- 1 volt range\n",
      "def readCurrent():\n",
      "    return d.eAnalogIn(channel=9, gain=7)['voltage']"
     ],
     "language": "python",
     "metadata": {},
     "outputs": [],
     "prompt_number": 4
    },
    {
     "cell_type": "markdown",
     "metadata": {},
     "source": [
      "Executes a loop to read current and voltage, take timestamp and write to file."
     ]
    },
    {
     "cell_type": "code",
     "collapsed": true,
     "input": [
      "# get initial timestamp\n",
      "start = datetime.datetime.now()\n",
      "while 1:\n",
      "    # find time interval between start of test and now\n",
      "    now = datetime.datetime.now()\n",
      "    ts = (now - start).total_seconds()\n",
      "    c = readCurrent()\n",
      "    v = readVoltage()\n",
      "    # write csv to file\n",
      "    fout.write(str(ts)+','+str(v)+','+str(c)+'\\n')\n",
      "    fout.flush()\n",
      "    time.sleep(1.0)\n"
     ],
     "language": "python",
     "metadata": {},
     "outputs": [
      {
       "ename": "KeyboardInterrupt",
       "evalue": "",
       "output_type": "pyerr",
       "traceback": [
        "\u001b[0;31m---------------------------------------------------------------------------\u001b[0m\n\u001b[0;31mKeyboardInterrupt\u001b[0m                         Traceback (most recent call last)",
        "\u001b[0;32m<ipython-input-5-b1e7aeb9c6a1>\u001b[0m in \u001b[0;36m<module>\u001b[0;34m()\u001b[0m\n\u001b[1;32m     10\u001b[0m     \u001b[0mfout\u001b[0m\u001b[0;34m.\u001b[0m\u001b[0mwrite\u001b[0m\u001b[0;34m(\u001b[0m\u001b[0mstr\u001b[0m\u001b[0;34m(\u001b[0m\u001b[0mts\u001b[0m\u001b[0;34m)\u001b[0m\u001b[0;34m+\u001b[0m\u001b[0;34m','\u001b[0m\u001b[0;34m+\u001b[0m\u001b[0mstr\u001b[0m\u001b[0;34m(\u001b[0m\u001b[0mv\u001b[0m\u001b[0;34m)\u001b[0m\u001b[0;34m+\u001b[0m\u001b[0;34m','\u001b[0m\u001b[0;34m+\u001b[0m\u001b[0mstr\u001b[0m\u001b[0;34m(\u001b[0m\u001b[0mc\u001b[0m\u001b[0;34m)\u001b[0m\u001b[0;34m+\u001b[0m\u001b[0;34m'\\n'\u001b[0m\u001b[0;34m)\u001b[0m\u001b[0;34m\u001b[0m\u001b[0m\n\u001b[1;32m     11\u001b[0m     \u001b[0mfout\u001b[0m\u001b[0;34m.\u001b[0m\u001b[0mflush\u001b[0m\u001b[0;34m(\u001b[0m\u001b[0;34m)\u001b[0m\u001b[0;34m\u001b[0m\u001b[0m\n\u001b[0;32m---> 12\u001b[0;31m     \u001b[0mtime\u001b[0m\u001b[0;34m.\u001b[0m\u001b[0msleep\u001b[0m\u001b[0;34m(\u001b[0m\u001b[0;36m1.0\u001b[0m\u001b[0;34m)\u001b[0m\u001b[0;34m\u001b[0m\u001b[0m\n\u001b[0m",
        "\u001b[0;31mKeyboardInterrupt\u001b[0m: "
       ]
      }
     ],
     "prompt_number": 5
    },
    {
     "cell_type": "markdown",
     "metadata": {},
     "source": [
      "This is the output in the file.  Note that there is about 30 msec of overhead in the loop.  There are ways to do synchronous capture, but most of my energy applications don't need that level of timebase precision."
     ]
    },
    {
     "cell_type": "code",
     "collapsed": false,
     "input": [
      "!tail labjack.txt"
     ],
     "language": "python",
     "metadata": {},
     "outputs": [
      {
       "output_type": "stream",
       "stream": "stdout",
       "text": [
        "18.564275,4.5947265625,-0.044921875\r\n",
        "19.595143,4.5947265625,-0.04443359375\r\n",
        "20.627395,4.5947265625,-0.04541015625\r\n",
        "21.659249,4.5947265625,-0.044921875\r\n",
        "22.683053,4.5947265625,-0.044921875\r\n",
        "23.715622,4.599609375,-0.044921875\r\n",
        "24.747434,4.6044921875,-0.044921875\r\n",
        "25.779089,4.5947265625,-0.04443359375\r\n",
        "26.80343,4.5947265625,-0.044921875\r\n",
        "27.835673,4.599609375,-0.044921875\r\n"
       ]
      }
     ],
     "prompt_number": 6
    }
   ],
   "metadata": {}
  }
 ]
}