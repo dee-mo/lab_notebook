{
 "metadata": {
  "name": ""
 },
 "nbformat": 3,
 "nbformat_minor": 0,
 "worksheets": [
  {
   "cells": [
    {
     "cell_type": "markdown",
     "metadata": {},
     "source": [
      "We are using HOMER to model a diesel microgrid.  Today, I am verifying the fuel consumption parameters in the generator model.\n",
      "\n",
      "It appears that HOMER allows you to input a linear fuel curve (fuel consumption per hour vs output power) and then calculates an efficiency curve based on that.\n",
      "\n",
      "Using the HOMER model \"port-a-piment_baseline_hourly_2014-0202.hmr\"\n",
      "\n",
      "## Generator 1\n",
      "These specs look similar (but not exactly equal) to the FG Wilson data.\n",
      "\n",
      "From the datasheet for standby and prime:\n",
      "\n",
      "- percent rated load, standby consumption (l/hr), prime consumption (l/hr)\n",
      "- 110%, -, 54.3\n",
      "- 100%, 45.3, 49.4\n",
      "- 75%, 41.0, 37.4\n",
      "- 50%, 28.0, 25.6\n",
      "\n",
      "From the HOMER model\n",
      "\n",
      "- output power (kW), fuel consumption (l/hr)\n",
      "-  99.50, 30.7\n",
      "- 149.25, 44.6\n",
      "- 199.00, 56.6\n",
      "\n",
      "## Generator 2\n",
      "Using default data\n",
      "\n",
      "Currently, there isn't a Coteaux model in the Haiti dropbox folder."
     ]
    }
   ],
   "metadata": {}
  }
 ]
}