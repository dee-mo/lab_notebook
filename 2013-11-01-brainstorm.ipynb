{
 "metadata": {
  "name": ""
 },
 "nbformat": 3,
 "nbformat_minor": 0,
 "worksheets": [
  {
   "cells": [
    {
     "cell_type": "markdown",
     "metadata": {},
     "source": [
      "# Brainstorming session\n",
      "\n",
      "## 1 Nov 2013\n",
      "\n",
      "random topics and idea fragments listed in no particular order\n",
      "\n",
      "- issues with lantern adoption\n",
      "- what are cost-effective monitoring techniques?\n",
      "- what are world-wide investment trends for off-grid elec in dev world?\n",
      "- learning curves for off-grid products\n",
      "- cheaper insulation: vacuum layers, radiative mirrors, balance of radiation and conduction\n",
      "- developing world solar lantern soft costs: customer acquisition, distribution\n",
      "- how can I align research and 438 classwork?\n",
      "- system optimization for solar lanterns: what combo gives lowest LCOE, best IRR?\n",
      "    - panel cost\n",
      "    - battery cost and efficiency\n",
      "    - LED cost and efficiency\n",
      "- big new players in lantern space: schneider electric, TOTAL, panasonic, energizer\n",
      "- markets with different characteristics\n",
      "    - africa\n",
      "    - latin america\n",
      "    - pacific islands\n",
      "- stranded asset risk\n",
      "    - small for solar lantern\n",
      "    - greater for off-grid system\n",
      "- efficiency of TV, refrigerator, sewing machine\n",
      "- LCOE of TV, refrigerator, sewing machine\n",
      "- what policy mechanisms can aid these markets?"
     ]
    },
    {
     "cell_type": "code",
     "collapsed": false,
     "input": [],
     "language": "python",
     "metadata": {},
     "outputs": []
    }
   ],
   "metadata": {}
  }
 ]
}