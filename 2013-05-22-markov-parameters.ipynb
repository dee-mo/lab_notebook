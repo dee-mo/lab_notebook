{
 "metadata": {
  "name": "2013-05-22-markov-parameters"
 },
 "nbformat": 3,
 "nbformat_minor": 0,
 "worksheets": [
  {
   "cells": [
    {
     "cell_type": "markdown",
     "metadata": {},
     "source": [
      "# Number of model parameters\n",
      "\n",
      "We are exploring two models for simulation of microgrid load.  The first is a pure markov process that models each appliance.  The second is a semi-markov process for each appliance."
     ]
    },
    {
     "cell_type": "markdown",
     "metadata": {},
     "source": [
      "# Pure Markov parameters\n",
      "\n",
      "Assuming no time-dependence of transition matrices, we have two free parameters.\n",
      "\n",
      "- probability of remaining on\n",
      "- probability of remaining off"
     ]
    },
    {
     "cell_type": "markdown",
     "metadata": {},
     "source": [
      "# Semi-Markov parameters\n",
      "\n",
      "Assuming no time-dependence of transition matrices, we have six free parameters.  We have also chosen the type of distribution for the on and off states.\n",
      "\n",
      "- on state duration mean\n",
      "- on state duration standard deviation\n",
      "- off state duration mean\n",
      "- off state duration standard devation\n",
      "- probability of remaining on\n",
      "- probability of remaining off"
     ]
    },
    {
     "cell_type": "code",
     "collapsed": false,
     "input": [],
     "language": "python",
     "metadata": {},
     "outputs": []
    }
   ],
   "metadata": {}
  }
 ]
}