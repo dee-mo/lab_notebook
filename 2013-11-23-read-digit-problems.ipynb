{
 "metadata": {
  "name": ""
 },
 "nbformat": 3,
 "nbformat_minor": 0,
 "worksheets": [
  {
   "cells": [
    {
     "cell_type": "markdown",
     "metadata": {},
     "source": [
      "# LabJack digit device debugging\n",
      "\n",
      "I'm not able to "
     ]
    },
    {
     "cell_type": "code",
     "collapsed": false,
     "input": [
      "%pylab inline\n",
      "from labjack import ljm\n",
      "import datetime as dt\n",
      "import time"
     ],
     "language": "python",
     "metadata": {},
     "outputs": [
      {
       "output_type": "stream",
       "stream": "stdout",
       "text": [
        "Populating the interactive namespace from numpy and matplotlib\n"
       ]
      }
     ],
     "prompt_number": 60
    },
    {
     "cell_type": "code",
     "collapsed": false,
     "input": [
      "handle = ljm.openS(\"ANY\", \"ANY\", \"ANY\")\n",
      "print(handle)"
     ],
     "language": "python",
     "metadata": {},
     "outputs": [
      {
       "output_type": "stream",
       "stream": "stdout",
       "text": [
        "1\n"
       ]
      }
     ],
     "prompt_number": 2
    },
    {
     "cell_type": "code",
     "collapsed": false,
     "input": [
      "def dgt_read_block():\n",
      "    #reset flash read pointer\n",
      "    ljm.eWriteName(handle, \"DGT_pEXTERN_FLASH_READ\", 0)\n",
      "    for i in range(10):\n",
      "        read_address = ljm.eReadName(handle, \"DGT_pEXTERN_FLASH_READ\")\n",
      "        val = ljm.eReadName(handle, \"DGT_EXTERN_FLASH_READ\")\n",
      "        print(read_address, val)\n",
      "\n",
      "def dgt_block_erase():\n",
      "    ljm.eWriteName(handle, \"DGT_EXTERN_FLASH_bkERASE\", 37157)\n",
      "    while 1:\n",
      "        if ljm.eReadName(handle, \"DGT_EXTERN_FLASH_WIP\") != 1.0:\n",
      "            print(\"done\")\n",
      "            return\n",
      "    #time.sleep(10)\n",
      "    #ljm.eWriteName(handle, \"DGT_SAVE_CHANGES\", 1)\n",
      "    \n",
      "    \n",
      "def make_datetime(dates):\n",
      "    year = int(2000 + dates[0])\n",
      "    month = int(dates[1])\n",
      "    day = int(dates[2])\n",
      "    hour = int(dates[4])\n",
      "    minute = int(dates[5])\n",
      "    second = int(dates[6])\n",
      "    return dt.datetime(year, month, day, hour, minute, second)\n",
      "    \n",
      "def dgt_read_date_start(raw=False):\n",
      "    dates = ljm.eReadAddresses(handle, 7, \n",
      "                               [22042, 22043, 22044, 22045, 22046, 22047, 22048], \n",
      "                               [ljm.constants.UINT16]*7)\n",
      "    if raw:\n",
      "        return dates\n",
      "    else:\n",
      "        return make_datetime(dates)\n",
      "        \n",
      "def dgt_read_date_now(raw=False):\n",
      "    dates = ljm.eReadAddresses(handle, 7, \n",
      "                               [22242, 22243, 22244, 22245, 22246, 22247, 22248], \n",
      "                               [ljm.constants.UINT16]*7)\n",
      "    if raw:\n",
      "        return dates\n",
      "    else:\n",
      "        return make_datetime(dates)\n",
      "    \n",
      "def dgt_get_read_pointer():\n",
      "    print(ljm.eReadAddress(handle, 22810, ljm.constants.UINT32))\n",
      "    print(ljm.eReadAddress(handle, 22812, ljm.constants.UINT16))\n",
      "    \n",
      "def dgt_get_write_pointer():\n",
      "    print(ljm.eReadAddress(handle, 22830, ljm.constants.UINT32))\n",
      "    print(ljm.eReadAddress(handle, 22832, ljm.constants.UINT32))\n",
      "    \n",
      "def dgt_get_log_interval():\n",
      "    return ljm.eReadAddress(handle, 22040, ljm.constants.UINT16)"
     ],
     "language": "python",
     "metadata": {},
     "outputs": [],
     "prompt_number": 10
    },
    {
     "cell_type": "markdown",
     "metadata": {},
     "source": [
      "## Verify state of digit"
     ]
    },
    {
     "cell_type": "code",
     "collapsed": false,
     "input": [
      "def dgt_print_val(label):\n",
      "    print(label, dgt_get_val(label))\n",
      "\n",
      "def dgt_get_val(label):\n",
      "    return ljm.eReadName(handle, label)\n",
      "\n",
      "dgt_print_val(\"DGT_INDEX_LOG_INTERVAL\")\n",
      "dgt_print_val(\"DGT_LOG_TEMPERATURE\")\n",
      "dgt_print_val(\"DGT_LOG_LIGHT\")\n",
      "dgt_print_val(\"DGT_LOG_HUMIDITY\")\n",
      "dgt_print_val(\"DGT_STORED_BYTES\")\n",
      "print(dgt_read_date_start())\n",
      "print(dgt_read_date_now())"
     ],
     "language": "python",
     "metadata": {},
     "outputs": [
      {
       "output_type": "stream",
       "stream": "stdout",
       "text": [
        "('DGT_INDEX_LOG_INTERVAL', 0.0)\n",
        "('DGT_LOG_TEMPERATURE', 1.0)\n",
        "('DGT_LOG_LIGHT', 0.0)\n",
        "('DGT_LOG_HUMIDITY', 0.0)\n",
        "('DGT_STORED_BYTES', 16562.0)\n",
        "2013-11-22 22:13:42\n",
        "2013-11-23 21:13:54\n"
       ]
      }
     ],
     "prompt_number": 59
    },
    {
     "cell_type": "code",
     "collapsed": false,
     "input": [
      "ljm.eWriteName(handle, \"DGT_pEXTERN_FLASH_READ\", 1000)\n",
      "dgt_print_val(\"DGT_pEXTERN_FLASH_READ\")\n",
      "dgt_print_val(\"DGT_EXTERN_FLASH_READ\")"
     ],
     "language": "python",
     "metadata": {},
     "outputs": [
      {
       "output_type": "stream",
       "stream": "stdout",
       "text": [
        "('DGT_pEXTERN_FLASH_READ', 1000.0)\n",
        "('DGT_EXTERN_FLASH_READ', 6688.0)\n"
       ]
      }
     ],
     "prompt_number": 57
    },
    {
     "cell_type": "code",
     "collapsed": false,
     "input": [
      "start_address = 15860\n",
      "num_reads = 10\n",
      "ljm.eWriteName(handle, \"DGT_pEXTERN_FLASH_READ\", int(start_address))\n",
      "data = []\n",
      "address = []\n",
      "for i in xrange(num_reads):\n",
      "    address.append(dgt_get_val(\"DGT_pEXTERN_FLASH_READ\"))\n",
      "    data.append(dgt_get_val(\"DGT_EXTERN_FLASH_READ\"))\n",
      "plot(address, data)\n",
      "show()"
     ],
     "language": "python",
     "metadata": {},
     "outputs": [
      {
       "metadata": {},
       "output_type": "display_data",
       "png": "[encoded data removed]",
       "text": [
        "<matplotlib.figure.Figure at 0x10aecd6d0>"
       ]
      }
     ],
     "prompt_number": 127
    },
    {
     "cell_type": "code",
     "collapsed": false,
     "input": [
      "start_address = 0\n",
      "num_reads = 50\n",
      "ljm.eWriteName(handle, \"DGT_pEXTERN_FLASH_READ\", int(start_address))\n",
      "data = []\n",
      "address = []\n",
      "for i in xrange(num_reads):\n",
      "    address.append(dgt_get_val(\"DGT_pEXTERN_FLASH_READ\"))\n",
      "    data.append(dgt_get_val(\"DGT_EXTERN_FLASH_READ\"))\n",
      "plot(address, data, 'x')\n",
      "show()"
     ],
     "language": "python",
     "metadata": {},
     "outputs": [
      {
       "metadata": {},
       "output_type": "display_data",
       "png": "[encoded data removed]",
       "text": [
        "<matplotlib.figure.Figure at 0x10a78db10>"
       ]
      }
     ],
     "prompt_number": 133
    },
    {
     "cell_type": "markdown",
     "metadata": {},
     "source": [
      "I wanted to try and read the write pointer to help debug, but I get an error on read."
     ]
    },
    {
     "cell_type": "code",
     "collapsed": false,
     "input": [
      "dgt_print_val(\"DGT_pEXTERN_FLASH_WRITE\")"
     ],
     "language": "python",
     "metadata": {},
     "outputs": [
      {
       "ename": "LJMError",
       "evalue": "LJM library error code 1202 LJME_MBE2_ILLEGAL_DATA_ADDRESS",
       "output_type": "pyerr",
       "traceback": [
        "\u001b[0;31m---------------------------------------------------------------------------\u001b[0m\n\u001b[0;31mLJMError\u001b[0m                                  Traceback (most recent call last)",
        "\u001b[0;32m<ipython-input-35-db760c8e5edc>\u001b[0m in \u001b[0;36m<module>\u001b[0;34m()\u001b[0m\n\u001b[0;32m----> 1\u001b[0;31m \u001b[0mdgt_print_val\u001b[0m\u001b[0;34m(\u001b[0m\u001b[0;34m\"DGT_pEXTERN_FLASH_WRITE\"\u001b[0m\u001b[0;34m)\u001b[0m\u001b[0;34m\u001b[0m\u001b[0m\n\u001b[0m",
        "\u001b[0;32m<ipython-input-27-db2b74497cbf>\u001b[0m in \u001b[0;36mdgt_print_val\u001b[0;34m(label)\u001b[0m\n\u001b[1;32m      1\u001b[0m \u001b[0;32mdef\u001b[0m \u001b[0mdgt_print_val\u001b[0m\u001b[0;34m(\u001b[0m\u001b[0mlabel\u001b[0m\u001b[0;34m)\u001b[0m\u001b[0;34m:\u001b[0m\u001b[0;34m\u001b[0m\u001b[0m\n\u001b[0;32m----> 2\u001b[0;31m     \u001b[0;32mprint\u001b[0m\u001b[0;34m(\u001b[0m\u001b[0mlabel\u001b[0m\u001b[0;34m,\u001b[0m \u001b[0mljm\u001b[0m\u001b[0;34m.\u001b[0m\u001b[0meReadName\u001b[0m\u001b[0;34m(\u001b[0m\u001b[0mhandle\u001b[0m\u001b[0;34m,\u001b[0m \u001b[0mlabel\u001b[0m\u001b[0;34m)\u001b[0m\u001b[0;34m)\u001b[0m\u001b[0;34m\u001b[0m\u001b[0m\n\u001b[0m\u001b[1;32m      3\u001b[0m \u001b[0;34m\u001b[0m\u001b[0m\n\u001b[1;32m      4\u001b[0m \u001b[0mdgt_print_val\u001b[0m\u001b[0;34m(\u001b[0m\u001b[0;34m\"DGT_INDEX_LOG_INTERVAL\"\u001b[0m\u001b[0;34m)\u001b[0m\u001b[0;34m\u001b[0m\u001b[0m\n\u001b[1;32m      5\u001b[0m \u001b[0mdgt_print_val\u001b[0m\u001b[0;34m(\u001b[0m\u001b[0;34m\"DGT_LOG_TEMPERATURE\"\u001b[0m\u001b[0;34m)\u001b[0m\u001b[0;34m\u001b[0m\u001b[0m\n",
        "\u001b[0;32m/Users/dsoto/anaconda/lib/python2.7/site-packages/labjack/ljm/ljm.pyc\u001b[0m in \u001b[0;36meReadName\u001b[0;34m(handle, name)\u001b[0m\n\u001b[1;32m    448\u001b[0m     \u001b[0merror\u001b[0m \u001b[0;34m=\u001b[0m \u001b[0m_staticLib\u001b[0m\u001b[0;34m.\u001b[0m\u001b[0mLJM_eReadName\u001b[0m\u001b[0;34m(\u001b[0m\u001b[0mhandle\u001b[0m\u001b[0;34m,\u001b[0m \u001b[0mname\u001b[0m\u001b[0;34m.\u001b[0m\u001b[0mencode\u001b[0m\u001b[0;34m(\u001b[0m\u001b[0;34m\"ascii\"\u001b[0m\u001b[0;34m)\u001b[0m\u001b[0;34m,\u001b[0m \u001b[0mctypes\u001b[0m\u001b[0;34m.\u001b[0m\u001b[0mbyref\u001b[0m\u001b[0;34m(\u001b[0m\u001b[0mcVal\u001b[0m\u001b[0;34m)\u001b[0m\u001b[0;34m)\u001b[0m\u001b[0;34m\u001b[0m\u001b[0m\n\u001b[1;32m    449\u001b[0m     \u001b[0;32mif\u001b[0m \u001b[0merror\u001b[0m \u001b[0;34m!=\u001b[0m \u001b[0merrorcodes\u001b[0m\u001b[0;34m.\u001b[0m\u001b[0mNOERROR\u001b[0m\u001b[0;34m:\u001b[0m\u001b[0;34m\u001b[0m\u001b[0m\n\u001b[0;32m--> 450\u001b[0;31m         \u001b[0;32mraise\u001b[0m \u001b[0mLJMError\u001b[0m\u001b[0;34m(\u001b[0m\u001b[0merror\u001b[0m\u001b[0;34m)\u001b[0m\u001b[0;34m\u001b[0m\u001b[0m\n\u001b[0m\u001b[1;32m    451\u001b[0m \u001b[0;34m\u001b[0m\u001b[0m\n\u001b[1;32m    452\u001b[0m     \u001b[0;32mreturn\u001b[0m \u001b[0mcVal\u001b[0m\u001b[0;34m.\u001b[0m\u001b[0mvalue\u001b[0m\u001b[0;34m\u001b[0m\u001b[0m\n",
        "\u001b[0;31mLJMError\u001b[0m: LJM library error code 1202 LJME_MBE2_ILLEGAL_DATA_ADDRESS"
       ]
      }
     ],
     "prompt_number": 35
    },
    {
     "cell_type": "code",
     "collapsed": false,
     "input": [
      "dgt_read_block()"
     ],
     "language": "python",
     "metadata": {},
     "outputs": [
      {
       "output_type": "stream",
       "stream": "stdout",
       "text": [
        "(0.0, 65535.0)\n",
        "(2.0, 65535.0)\n",
        "(4.0, 65535.0)\n",
        "(6.0, 65535.0)\n",
        "(8.0, 65535.0)\n",
        "(10.0, 65535.0)\n",
        "(12.0, 65535.0)\n",
        "(14.0, 65535.0)\n",
        "(16.0, 65535.0)\n",
        "(18.0, 65535.0)\n"
       ]
      }
     ],
     "prompt_number": 26
    },
    {
     "cell_type": "markdown",
     "metadata": {},
     "source": [
      "## Erase flash and wait for about a minute\n",
      "\n",
      "The block erase does reset the date.  \n",
      "\n",
      "I can't tell what happens with the write pointer since I can't read it.\n",
      "\n",
      "There should be several readings stored."
     ]
    },
    {
     "cell_type": "code",
     "collapsed": false,
     "input": [
      "print(dgt_read_date_now())\n",
      "dgt_block_erase()\n",
      "print(dgt_read_date_start())"
     ],
     "language": "python",
     "metadata": {},
     "outputs": [
      {
       "output_type": "stream",
       "stream": "stdout",
       "text": [
        "2013-11-22 22:07:56\n",
        "2013-11-22 22:08:06"
       ]
      },
      {
       "output_type": "stream",
       "stream": "stdout",
       "text": [
        "\n"
       ]
      }
     ],
     "prompt_number": 21
    },
    {
     "cell_type": "code",
     "collapsed": false,
     "input": [
      "time.sleep(60)\n",
      "print(dgt_read_date_start())\n",
      "print(dgt_read_date_now())"
     ],
     "language": "python",
     "metadata": {},
     "outputs": [
      {
       "output_type": "stream",
       "stream": "stdout",
       "text": [
        "2013-11-22 22:08:06\n",
        "2013-11-22 22:09:30\n"
       ]
      }
     ],
     "prompt_number": 22
    },
    {
     "cell_type": "markdown",
     "metadata": {},
     "source": [
      "## No readings where I expect them"
     ]
    },
    {
     "cell_type": "code",
     "collapsed": false,
     "input": [
      "dgt_read_block()"
     ],
     "language": "python",
     "metadata": {},
     "outputs": [
      {
       "output_type": "stream",
       "stream": "stdout",
       "text": [
        "(0.0, 65535.0)\n",
        "(2.0, 65535.0)\n",
        "(4.0, 65535.0)\n",
        "(6.0, 65535.0)\n",
        "(8.0, 65535.0)\n",
        "(10.0, 65535.0)\n",
        "(12.0, 65535.0)\n",
        "(14.0, 65535.0)\n",
        "(16.0, 65535.0)\n",
        "(18.0, 65535.0)\n"
       ]
      }
     ],
     "prompt_number": 25
    },
    {
     "cell_type": "code",
     "collapsed": false,
     "input": [
      "dgt_get_log_interval()"
     ],
     "language": "python",
     "metadata": {},
     "outputs": [
      {
       "metadata": {},
       "output_type": "pyout",
       "prompt_number": 24,
       "text": [
        "0.0"
       ]
      }
     ],
     "prompt_number": 24
    },
    {
     "cell_type": "markdown",
     "metadata": {},
     "source": [
      "## Can't get write pointer address"
     ]
    },
    {
     "cell_type": "code",
     "collapsed": false,
     "input": [
      "ljm.eReadAddress(handle, 22830, ljm.constants.UINT16)"
     ],
     "language": "python",
     "metadata": {},
     "outputs": []
    },
    {
     "cell_type": "code",
     "collapsed": false,
     "input": [
      "ljm.eReadAddress(handle, 22210, ljm.constants.UINT32)"
     ],
     "language": "python",
     "metadata": {},
     "outputs": []
    },
    {
     "cell_type": "code",
     "collapsed": false,
     "input": [
      "dgt_get_read_pointer()"
     ],
     "language": "python",
     "metadata": {},
     "outputs": []
    },
    {
     "cell_type": "code",
     "collapsed": false,
     "input": [
      "num_reads = 2\n",
      "ljm.eReadAddresses(handle, num_reads, [22812]*num_reads, [ljm.constants.UINT16]*num_reads)"
     ],
     "language": "python",
     "metadata": {},
     "outputs": []
    },
    {
     "cell_type": "code",
     "collapsed": false,
     "input": [
      "ljm.eReadAddress(handle, 22830, ljm.constants.UINT32)"
     ],
     "language": "python",
     "metadata": {},
     "outputs": []
    },
    {
     "cell_type": "markdown",
     "metadata": {},
     "source": [
      "## Doesn't appear to be writing to flash"
     ]
    },
    {
     "cell_type": "code",
     "collapsed": false,
     "input": [
      "while 1:\n",
      "    if ljm.eReadName(handle, \"DGT_EXTERN_FLASH_WIP\") != 0.0:\n",
      "        print('read in prog')\n",
      "        break"
     ],
     "language": "python",
     "metadata": {},
     "outputs": [
      {
       "ename": "KeyboardInterrupt",
       "evalue": "",
       "output_type": "pyerr",
       "traceback": [
        "\u001b[0;31m---------------------------------------------------------------------------\u001b[0m\n\u001b[0;31mKeyboardInterrupt\u001b[0m                         Traceback (most recent call last)",
        "\u001b[0;32m<ipython-input-29-6398ac87b4da>\u001b[0m in \u001b[0;36m<module>\u001b[0;34m()\u001b[0m\n\u001b[1;32m      1\u001b[0m \u001b[0;32mwhile\u001b[0m \u001b[0;36m1\u001b[0m\u001b[0;34m:\u001b[0m\u001b[0;34m\u001b[0m\u001b[0m\n\u001b[0;32m----> 2\u001b[0;31m     \u001b[0;32mif\u001b[0m \u001b[0mljm\u001b[0m\u001b[0;34m.\u001b[0m\u001b[0meReadName\u001b[0m\u001b[0;34m(\u001b[0m\u001b[0mhandle\u001b[0m\u001b[0;34m,\u001b[0m \u001b[0;34m\"DGT_EXTERN_FLASH_WIP\"\u001b[0m\u001b[0;34m)\u001b[0m \u001b[0;34m!=\u001b[0m \u001b[0;36m0.0\u001b[0m\u001b[0;34m:\u001b[0m\u001b[0;34m\u001b[0m\u001b[0m\n\u001b[0m\u001b[1;32m      3\u001b[0m         \u001b[0;32mprint\u001b[0m\u001b[0;34m(\u001b[0m\u001b[0;34m'read in prog'\u001b[0m\u001b[0;34m)\u001b[0m\u001b[0;34m\u001b[0m\u001b[0m\n\u001b[1;32m      4\u001b[0m         \u001b[0;32mbreak\u001b[0m\u001b[0;34m\u001b[0m\u001b[0m\n",
        "\u001b[0;32m/Users/dsoto/anaconda/python.app/Contents/lib/python2.7/site-packages/labjack/ljm/ljm.pyc\u001b[0m in \u001b[0;36meReadName\u001b[0;34m(handle, name)\u001b[0m\n\u001b[1;32m    446\u001b[0m     \u001b[0mcVal\u001b[0m \u001b[0;34m=\u001b[0m \u001b[0mctypes\u001b[0m\u001b[0;34m.\u001b[0m\u001b[0mc_double\u001b[0m\u001b[0;34m(\u001b[0m\u001b[0;36m0\u001b[0m\u001b[0;34m)\u001b[0m\u001b[0;34m\u001b[0m\u001b[0m\n\u001b[1;32m    447\u001b[0m \u001b[0;34m\u001b[0m\u001b[0m\n\u001b[0;32m--> 448\u001b[0;31m     \u001b[0merror\u001b[0m \u001b[0;34m=\u001b[0m \u001b[0m_staticLib\u001b[0m\u001b[0;34m.\u001b[0m\u001b[0mLJM_eReadName\u001b[0m\u001b[0;34m(\u001b[0m\u001b[0mhandle\u001b[0m\u001b[0;34m,\u001b[0m \u001b[0mname\u001b[0m\u001b[0;34m.\u001b[0m\u001b[0mencode\u001b[0m\u001b[0;34m(\u001b[0m\u001b[0;34m\"ascii\"\u001b[0m\u001b[0;34m)\u001b[0m\u001b[0;34m,\u001b[0m \u001b[0mctypes\u001b[0m\u001b[0;34m.\u001b[0m\u001b[0mbyref\u001b[0m\u001b[0;34m(\u001b[0m\u001b[0mcVal\u001b[0m\u001b[0;34m)\u001b[0m\u001b[0;34m)\u001b[0m\u001b[0;34m\u001b[0m\u001b[0m\n\u001b[0m\u001b[1;32m    449\u001b[0m     \u001b[0;32mif\u001b[0m \u001b[0merror\u001b[0m \u001b[0;34m!=\u001b[0m \u001b[0merrorcodes\u001b[0m\u001b[0;34m.\u001b[0m\u001b[0mNOERROR\u001b[0m\u001b[0;34m:\u001b[0m\u001b[0;34m\u001b[0m\u001b[0m\n\u001b[1;32m    450\u001b[0m         \u001b[0;32mraise\u001b[0m \u001b[0mLJMError\u001b[0m\u001b[0;34m(\u001b[0m\u001b[0merror\u001b[0m\u001b[0;34m)\u001b[0m\u001b[0;34m\u001b[0m\u001b[0m\n",
        "\u001b[0;31mKeyboardInterrupt\u001b[0m: "
       ]
      }
     ],
     "prompt_number": 29
    },
    {
     "cell_type": "code",
     "collapsed": false,
     "input": [
      "ljm.eReadName(handle, \"DGT_EXTERN_FLASH_WIP\")"
     ],
     "language": "python",
     "metadata": {},
     "outputs": [
      {
       "metadata": {},
       "output_type": "pyout",
       "prompt_number": 13,
       "text": [
        "0.0"
       ]
      }
     ],
     "prompt_number": 13
    },
    {
     "cell_type": "code",
     "collapsed": false,
     "input": [
      "dgt_block_erase()"
     ],
     "language": "python",
     "metadata": {},
     "outputs": [
      {
       "output_type": "stream",
       "stream": "stdout",
       "text": [
        "done\n"
       ]
      }
     ],
     "prompt_number": 28
    },
    {
     "cell_type": "markdown",
     "metadata": {},
     "source": [
      "# Device reading temperature every 10 seconds"
     ]
    },
    {
     "cell_type": "code",
     "collapsed": false,
     "input": [
      "print(ljm.eReadName(handle, \"DGT_INDEX_LOG_INTERVAL\"))\n",
      "print(ljm.eReadName(handle, \"DGT_LOG_TEMPERATURE\"))"
     ],
     "language": "python",
     "metadata": {},
     "outputs": [
      {
       "output_type": "stream",
       "stream": "stdout",
       "text": [
        "0.0\n",
        "1.0\n"
       ]
      }
     ],
     "prompt_number": 31
    },
    {
     "cell_type": "code",
     "collapsed": false,
     "input": [],
     "language": "python",
     "metadata": {},
     "outputs": []
    }
   ],
   "metadata": {}
  }
 ]
}