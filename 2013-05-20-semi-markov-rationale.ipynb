{
 "metadata": {
  "name": "2013-05-20-semi-markov-rationale"
 },
 "nbformat": 3,
 "nbformat_minor": 0,
 "worksheets": [
  {
   "cells": [
    {
     "cell_type": "markdown",
     "metadata": {},
     "source": [
      "# Semi markov rationale"
     ]
    },
    {
     "cell_type": "markdown",
     "metadata": {},
     "source": [
      "The move from a normal markov process to a semi-markov process is introducing some complexity.  I haven't been able to explain to my self why this addition of complexity is important, so I'd like to spend some time thinking about it here.\n",
      "\n",
      "The extra levels of complexity in the model should allow for high degrees of accuracy in the result.  In the context of sizing a microgrid, the simplest thing to infer from appliance ownership is the total energy consumed per day.  This allows an estimate of the needed size to be created.\n",
      "\n",
      "The limitation of this, is that you do not learn what the maximum power is needed, since you haven't included information on how many of the devices are being used simultaneously, which a time series synthesis would give you.  \n",
      "\n",
      "Below, I sketch out some thoughts on the added benefit of different modeling techniques. \n",
      "\n",
      "# approaches\n",
      "\n",
      "- estimate total energy per day\n",
      "    - does not account for instantaneous power\n",
      "\n",
      "- assume an unvarying power profile (time and duration) for each appliance\n",
      "    - if the same profile is chosen for every household, appliances will be overly correlated\n",
      "    - this could lead to an exaggerated peak power requirement\n",
      "\n",
      "- markov with time-dependent transition matrices\n",
      "    - does not model durations appropriately\n",
      "    - time-dependent transition will allow time of day behavior\n",
      "    - this would include more high frequency content or appliance switching than reality\n",
      "    - what simulation tool would be affected by this?\n",
      "    - i don't think HOMER would be affected by cycling\n",
      "\n",
      "- semi-markov\n",
      "    - models durations appropriately\n",
      "    - how does correct appliance on duration (rather than average on duration) improve simulation?\n",
      "    - appliance duration important for disaggregation inference\n"
     ]
    },
    {
     "cell_type": "code",
     "collapsed": false,
     "input": [],
     "language": "python",
     "metadata": {},
     "outputs": []
    }
   ],
   "metadata": {}
  }
 ]
}