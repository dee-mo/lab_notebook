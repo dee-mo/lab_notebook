{
 "metadata": {
  "name": ""
 },
 "nbformat": 3,
 "nbformat_minor": 0,
 "worksheets": [
  {
   "cells": [
    {
     "cell_type": "markdown",
     "metadata": {},
     "source": [
      "# LabJack digit device"
     ]
    },
    {
     "cell_type": "code",
     "collapsed": false,
     "input": [
      "from labjack import ljm"
     ],
     "language": "python",
     "metadata": {},
     "outputs": [],
     "prompt_number": 4
    },
    {
     "cell_type": "code",
     "collapsed": false,
     "input": [
      "handle = ljm.openS(\"ANY\", \"ANY\", \"ANY\")"
     ],
     "language": "python",
     "metadata": {},
     "outputs": [],
     "prompt_number": 5
    },
    {
     "cell_type": "code",
     "collapsed": false,
     "input": [
      "# see how much data\n",
      "num_bytes = ljm.eReadName(1, \"DGT_STORED_BYTES\")\n",
      "print(num_bytes)"
     ],
     "language": "python",
     "metadata": {},
     "outputs": [
      {
       "output_type": "stream",
       "stream": "stdout",
       "text": [
        "76.0\n"
       ]
      }
     ],
     "prompt_number": 6
    },
    {
     "cell_type": "code",
     "collapsed": false,
     "input": [
      "ljm.eWriteName(1, \"DGT_pEXTERN_FLASH_READ\", 0)\n",
      "\n",
      "for i in range(20):\n",
      "    read_address = ljm.eReadName(1, \"DGT_pEXTERN_FLASH_READ\")\n",
      "    val = ljm.eReadName(1, \"DGT_EXTERN_FLASH_READ\")\n",
      "    print(read_address, val)"
     ],
     "language": "python",
     "metadata": {},
     "outputs": [
      {
       "output_type": "stream",
       "stream": "stdout",
       "text": [
        "(0.0, 65535.0)\n",
        "(2.0, 65535.0)\n",
        "(4.0, 65535.0)\n",
        "(6.0, 65535.0)\n",
        "(8.0, 65535.0)\n",
        "(10.0, 65535.0)\n",
        "(12.0, 65535.0)\n",
        "(14.0, 65535.0)\n",
        "(16.0, 65535.0)\n",
        "(18.0, 65535.0)\n",
        "(20.0, 65535.0)\n",
        "(22.0, 65535.0)\n",
        "(24.0, 65535.0)\n",
        "(26.0, 65535.0)\n",
        "(28.0, 65535.0)\n",
        "(30.0, 65535.0)\n",
        "(32.0, 65535.0)\n",
        "(34.0, 65535.0)\n",
        "(36.0, 65535.0)\n",
        "(38.0, 65535.0)\n"
       ]
      }
     ],
     "prompt_number": 52
    },
    {
     "cell_type": "markdown",
     "metadata": {},
     "source": [
      "## Why is this not writing the first 10 values?"
     ]
    },
    {
     "cell_type": "code",
     "collapsed": false,
     "input": [
      "# erase device\n",
      "ljm.eWriteName(1, \"DGT_EXTERN_FLASH_bkERASE\", 37157)\n",
      "import time\n",
      "time.sleep(10)\n",
      "# set pointer\n",
      "#ljm.eWriteName(1, \"DGT_pEXTERN_FLASH_WRITE\", 0)\n",
      "#ljm.eWriteName(1, \"DGT_SAVE_CHANGES\", 1)"
     ],
     "language": "python",
     "metadata": {},
     "outputs": [],
     "prompt_number": 37
    },
    {
     "cell_type": "code",
     "collapsed": false,
     "input": [
      "# see how much data\n",
      "num_bytes = ljm.eReadName(1, \"DGT_STORED_BYTES\")\n",
      "print(num_bytes)"
     ],
     "language": "python",
     "metadata": {},
     "outputs": [
      {
       "output_type": "stream",
       "stream": "stdout",
       "text": [
        "518.0\n"
       ]
      }
     ],
     "prompt_number": 60
    },
    {
     "cell_type": "code",
     "collapsed": false,
     "input": [
      "ljm.eWriteName(1, \"DGT_pEXTERN_FLASH_READ\", 0)\n",
      "\n",
      "for i in range(10):\n",
      "    read_address = ljm.eReadName(1, \"DGT_pEXTERN_FLASH_READ\")\n",
      "    val = ljm.eReadName(1, \"DGT_EXTERN_FLASH_READ\")\n",
      "    print(read_address, val)"
     ],
     "language": "python",
     "metadata": {},
     "outputs": [
      {
       "output_type": "stream",
       "stream": "stdout",
       "text": [
        "(0.0, 65535.0)\n",
        "(2.0, 65535.0)\n",
        "(4.0, 65535.0)\n",
        "(6.0, 65535.0)\n",
        "(8.0, 65535.0)\n",
        "(10.0, 65535.0)\n",
        "(12.0, 65535.0)\n",
        "(14.0, 65535.0)\n",
        "(16.0, 65535.0)\n",
        "(18.0, 65535.0)\n"
       ]
      }
     ],
     "prompt_number": 61
    },
    {
     "cell_type": "code",
     "collapsed": false,
     "input": [
      "ljm.eReadAddress(handle, 22040, ljm.constants.UINT16)"
     ],
     "language": "python",
     "metadata": {},
     "outputs": [
      {
       "metadata": {},
       "output_type": "pyout",
       "prompt_number": 35,
       "text": [
        "0.0"
       ]
      }
     ],
     "prompt_number": 35
    },
    {
     "cell_type": "code",
     "collapsed": false,
     "input": [
      "ljm.eWriteAddress(handle, 22040, ljm.constants.UINT16, 0)\n",
      "ljm.eWriteAddress(handle, 22840, ljm.constants.UINT16, 1)"
     ],
     "language": "python",
     "metadata": {},
     "outputs": [],
     "prompt_number": 34
    },
    {
     "cell_type": "code",
     "collapsed": false,
     "input": [
      "# where is the write pointer?\n",
      "ljm.eReadAddress(handle, 22830, ljm.constants.UINT16)"
     ],
     "language": "python",
     "metadata": {},
     "outputs": [
      {
       "ename": "LJMError",
       "evalue": "LJM library error code 1202 LJME_MBE2_ILLEGAL_DATA_ADDRESS",
       "output_type": "pyerr",
       "traceback": [
        "\u001b[0;31m---------------------------------------------------------------------------\u001b[0m\n\u001b[0;31mLJMError\u001b[0m                                  Traceback (most recent call last)",
        "\u001b[0;32m<ipython-input-57-9aded734642f>\u001b[0m in \u001b[0;36m<module>\u001b[0;34m()\u001b[0m\n\u001b[1;32m      1\u001b[0m \u001b[0;31m# where is the write pointer?\u001b[0m\u001b[0;34m\u001b[0m\u001b[0;34m\u001b[0m\u001b[0m\n\u001b[0;32m----> 2\u001b[0;31m \u001b[0mljm\u001b[0m\u001b[0;34m.\u001b[0m\u001b[0meReadAddress\u001b[0m\u001b[0;34m(\u001b[0m\u001b[0mhandle\u001b[0m\u001b[0;34m,\u001b[0m \u001b[0;36m22830\u001b[0m\u001b[0;34m,\u001b[0m \u001b[0mljm\u001b[0m\u001b[0;34m.\u001b[0m\u001b[0mconstants\u001b[0m\u001b[0;34m.\u001b[0m\u001b[0mUINT16\u001b[0m\u001b[0;34m)\u001b[0m\u001b[0;34m\u001b[0m\u001b[0m\n\u001b[0m",
        "\u001b[0;32m/Users/dsoto/anaconda/python.app/Contents/lib/python2.7/site-packages/labjack/ljm/ljm.pyc\u001b[0m in \u001b[0;36meReadAddress\u001b[0;34m(handle, address, dataType)\u001b[0m\n\u001b[1;32m    400\u001b[0m     \u001b[0merror\u001b[0m \u001b[0;34m=\u001b[0m \u001b[0m_staticLib\u001b[0m\u001b[0;34m.\u001b[0m\u001b[0mLJM_eReadAddress\u001b[0m\u001b[0;34m(\u001b[0m\u001b[0mhandle\u001b[0m\u001b[0;34m,\u001b[0m \u001b[0mcAddr\u001b[0m\u001b[0;34m,\u001b[0m \u001b[0mcType\u001b[0m\u001b[0;34m,\u001b[0m \u001b[0mctypes\u001b[0m\u001b[0;34m.\u001b[0m\u001b[0mbyref\u001b[0m\u001b[0;34m(\u001b[0m\u001b[0mcVal\u001b[0m\u001b[0;34m)\u001b[0m\u001b[0;34m)\u001b[0m\u001b[0;34m\u001b[0m\u001b[0m\n\u001b[1;32m    401\u001b[0m     \u001b[0;32mif\u001b[0m \u001b[0merror\u001b[0m \u001b[0;34m!=\u001b[0m \u001b[0merrorcodes\u001b[0m\u001b[0;34m.\u001b[0m\u001b[0mNOERROR\u001b[0m\u001b[0;34m:\u001b[0m\u001b[0;34m\u001b[0m\u001b[0m\n\u001b[0;32m--> 402\u001b[0;31m         \u001b[0;32mraise\u001b[0m \u001b[0mLJMError\u001b[0m\u001b[0;34m(\u001b[0m\u001b[0merror\u001b[0m\u001b[0;34m)\u001b[0m\u001b[0;34m\u001b[0m\u001b[0m\n\u001b[0m\u001b[1;32m    403\u001b[0m \u001b[0;34m\u001b[0m\u001b[0m\n\u001b[1;32m    404\u001b[0m     \u001b[0;32mreturn\u001b[0m \u001b[0mcVal\u001b[0m\u001b[0;34m.\u001b[0m\u001b[0mvalue\u001b[0m\u001b[0;34m\u001b[0m\u001b[0m\n",
        "\u001b[0;31mLJMError\u001b[0m: LJM library error code 1202 LJME_MBE2_ILLEGAL_DATA_ADDRESS"
       ]
      }
     ],
     "prompt_number": 57
    },
    {
     "cell_type": "code",
     "collapsed": false,
     "input": [],
     "language": "python",
     "metadata": {},
     "outputs": []
    }
   ],
   "metadata": {}
  }
 ]
}