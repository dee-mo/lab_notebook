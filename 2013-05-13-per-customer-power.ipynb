{
 "metadata": {
  "name": "2013-05-13-per-customer-power"
 },
 "nbformat": 3,
 "nbformat_minor": 0,
 "worksheets": [
  {
   "cells": [
    {
     "cell_type": "markdown",
     "metadata": {},
     "source": [
      "# Power inclusion\n",
      "\n",
      "Right now the model implemented in generate_time_series.m assumes a single power for each of the appliances.  It should instead use the user_app_power array from simulate_appliance_ownership.m.  \n",
      "\n",
      "TODO\n",
      "\n",
      "- simulate_appliance_ownership.m needs to pass back both the user_app_num and user_app_power arrays.\n",
      "- generate_report.m needs to be modified to pass both these arrays to generate_time_series.m\n",
      "- remove power entry from structs in appliance_models_EDM.m\n",
      "- correctly pass power values to time series generator (generate_single_appliance_time_series())\n",
      "- consider using distribution for power measurement\n",
      "- consider how this will interact with future grid state calculations\n",
      "\n",
      "\n"
     ]
    },
    {
     "cell_type": "markdown",
     "metadata": {},
     "source": [
      "# Review\n",
      "\n",
      "user_app_num returns a N_customer row by N_appliance_type column array with the number of each type of appliance that each customer owns.\n",
      "\n",
      "user_app_power returns a N_customer row by N_appliance_type array with each entry the power of that appliance type for that customer.  this assumes that each appliance that an individual customer owns has an identical power level."
     ]
    },
    {
     "cell_type": "code",
     "collapsed": false,
     "input": [],
     "language": "python",
     "metadata": {},
     "outputs": []
    }
   ],
   "metadata": {}
  }
 ]
}